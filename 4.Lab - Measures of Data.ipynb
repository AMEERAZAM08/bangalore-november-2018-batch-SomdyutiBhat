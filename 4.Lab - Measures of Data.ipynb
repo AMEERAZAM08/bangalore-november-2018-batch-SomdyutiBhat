{
 "cells": [
  {
   "cell_type": "markdown",
   "metadata": {},
   "source": [
    "## Lab Brief - Statistical Learning with Python"
   ]
  },
  {
   "cell_type": "markdown",
   "metadata": {},
   "source": [
    "### Part-1"
   ]
  },
  {
   "cell_type": "markdown",
   "metadata": {},
   "source": [
    "## Measures of Data"
   ]
  },
  {
   "cell_type": "markdown",
   "metadata": {},
   "source": [
    "Descriptive Statistcs are measures that summarize important features of data. Producing these descriptive statistics is a common first step to take after cleaning and preparing a dataset for further analysis. Examples are like calculating Mean or Median. In this lab, we will be looking into some of these functions and explore several new ones."
   ]
  },
  {
   "cell_type": "markdown",
   "metadata": {},
   "source": [
    "#### Measures of Central Tendency"
   ]
  },
  {
   "cell_type": "markdown",
   "metadata": {},
   "source": [
    "Whenever you measure things of the same kind, a fairly large number of such measurements will tend to cluster around the middle value. Such a value is called a measure of \"Central Tendency\". The other terms that are used synonymously are \"Measures of Location\", or \"Statistical Averages\". "
   ]
  },
  {
   "cell_type": "code",
   "execution_count": 1,
   "metadata": {},
   "outputs": [
    {
     "name": "stderr",
     "output_type": "stream",
     "text": [
      "C:\\Users\\somduitybh046\\AppData\\Local\\Continuum\\anaconda3\\lib\\site-packages\\ipykernel\\parentpoller.py:116: UserWarning: Parent poll failed.  If the frontend dies,\n",
      "                the kernel may be left running.  Please let us know\n",
      "                about your system (bitness, Python, etc.) at\n",
      "                ipython-dev@scipy.org\n",
      "  ipython-dev@scipy.org\"\"\")\n"
     ]
    }
   ],
   "source": [
    "import numpy as np\n",
    "import pandas as pd\n",
    "import matplotlib.pyplot as plt\n",
    "\n",
    "mtcars = pd.read_csv('mtcars.csv')"
   ]
  },
  {
   "cell_type": "markdown",
   "metadata": {},
   "source": [
    "##### Using the mtcars dataset.\n",
    "\n",
    "For the below set of questions, we will be using the cars data from [Motor Trend Car Road Tests](http://stat.ethz.ch/R-manual/R-devel/library/datasets/html/mtcars.html)\n",
    "\n",
    "The data was extracted from the 1974 Motor Trend US magazine, and comprises fuel consumption and 10 aspects of automobile design and performance for 32 automobiles (1973–74 models). \n",
    "\n",
    "\n",
    "Details :\n",
    "    \n",
    "A data frame with 32 observations on 11 (numeric) variables.\n",
    "\n",
    "[, 1] \tmpg \tMiles/(US) gallon\n",
    "\n",
    "[, 2] \tcyl \tNumber of cylinders\n",
    "\n",
    "[, 3] \tdisp \tDisplacement (cu.in.)\n",
    "\n",
    "[, 4] \thp \tGross horsepower\n",
    "\n",
    "[, 5] \tdrat \tRear axle ratio\n",
    "\n",
    "[, 6] \twt \tWeight (1000 lbs)\n",
    "\n",
    "[, 7] \tqsec \t1/4 mile time\n",
    "\n",
    "[, 8] \tvs \tEngine (0 = V-shaped, 1 = straight)\n",
    "\n",
    "[, 9] \tam \tTransmission (0 = automatic, 1 = manual)\n",
    "\n",
    "[,10] \tgear \tNumber of forward gears\n",
    "\n",
    "[,11] \tcarb \tNumber of carburetors "
   ]
  },
  {
   "cell_type": "markdown",
   "metadata": {},
   "source": [
    "#### Explore the data - Setting the index"
   ]
  },
  {
   "cell_type": "code",
   "execution_count": 2,
   "metadata": {},
   "outputs": [
    {
     "data": {
      "text/html": [
       "<div>\n",
       "<style scoped>\n",
       "    .dataframe tbody tr th:only-of-type {\n",
       "        vertical-align: middle;\n",
       "    }\n",
       "\n",
       "    .dataframe tbody tr th {\n",
       "        vertical-align: top;\n",
       "    }\n",
       "\n",
       "    .dataframe thead th {\n",
       "        text-align: right;\n",
       "    }\n",
       "</style>\n",
       "<table border=\"1\" class=\"dataframe\">\n",
       "  <thead>\n",
       "    <tr style=\"text-align: right;\">\n",
       "      <th></th>\n",
       "      <th>name</th>\n",
       "      <th>mpg</th>\n",
       "      <th>cyl</th>\n",
       "      <th>disp</th>\n",
       "      <th>hp</th>\n",
       "      <th>drat</th>\n",
       "      <th>wt</th>\n",
       "      <th>qsec</th>\n",
       "      <th>vs</th>\n",
       "      <th>am</th>\n",
       "      <th>gear</th>\n",
       "      <th>carb</th>\n",
       "    </tr>\n",
       "    <tr>\n",
       "      <th>name</th>\n",
       "      <th></th>\n",
       "      <th></th>\n",
       "      <th></th>\n",
       "      <th></th>\n",
       "      <th></th>\n",
       "      <th></th>\n",
       "      <th></th>\n",
       "      <th></th>\n",
       "      <th></th>\n",
       "      <th></th>\n",
       "      <th></th>\n",
       "      <th></th>\n",
       "    </tr>\n",
       "  </thead>\n",
       "  <tbody>\n",
       "    <tr>\n",
       "      <th>Mazda RX4</th>\n",
       "      <td>Mazda RX4</td>\n",
       "      <td>21.0</td>\n",
       "      <td>6</td>\n",
       "      <td>160.0</td>\n",
       "      <td>110</td>\n",
       "      <td>3.90</td>\n",
       "      <td>2.620</td>\n",
       "      <td>16.46</td>\n",
       "      <td>0</td>\n",
       "      <td>1</td>\n",
       "      <td>4</td>\n",
       "      <td>4</td>\n",
       "    </tr>\n",
       "    <tr>\n",
       "      <th>Mazda RX4 Wag</th>\n",
       "      <td>Mazda RX4 Wag</td>\n",
       "      <td>21.0</td>\n",
       "      <td>6</td>\n",
       "      <td>160.0</td>\n",
       "      <td>110</td>\n",
       "      <td>3.90</td>\n",
       "      <td>2.875</td>\n",
       "      <td>17.02</td>\n",
       "      <td>0</td>\n",
       "      <td>1</td>\n",
       "      <td>4</td>\n",
       "      <td>4</td>\n",
       "    </tr>\n",
       "    <tr>\n",
       "      <th>Datsun 710</th>\n",
       "      <td>Datsun 710</td>\n",
       "      <td>22.8</td>\n",
       "      <td>4</td>\n",
       "      <td>108.0</td>\n",
       "      <td>93</td>\n",
       "      <td>3.85</td>\n",
       "      <td>2.320</td>\n",
       "      <td>18.61</td>\n",
       "      <td>1</td>\n",
       "      <td>1</td>\n",
       "      <td>4</td>\n",
       "      <td>1</td>\n",
       "    </tr>\n",
       "    <tr>\n",
       "      <th>Hornet 4 Drive</th>\n",
       "      <td>Hornet 4 Drive</td>\n",
       "      <td>21.4</td>\n",
       "      <td>6</td>\n",
       "      <td>258.0</td>\n",
       "      <td>110</td>\n",
       "      <td>3.08</td>\n",
       "      <td>3.215</td>\n",
       "      <td>19.44</td>\n",
       "      <td>1</td>\n",
       "      <td>0</td>\n",
       "      <td>3</td>\n",
       "      <td>1</td>\n",
       "    </tr>\n",
       "    <tr>\n",
       "      <th>Hornet Sportabout</th>\n",
       "      <td>Hornet Sportabout</td>\n",
       "      <td>18.7</td>\n",
       "      <td>8</td>\n",
       "      <td>360.0</td>\n",
       "      <td>175</td>\n",
       "      <td>3.15</td>\n",
       "      <td>3.440</td>\n",
       "      <td>17.02</td>\n",
       "      <td>0</td>\n",
       "      <td>0</td>\n",
       "      <td>3</td>\n",
       "      <td>2</td>\n",
       "    </tr>\n",
       "  </tbody>\n",
       "</table>\n",
       "</div>"
      ],
      "text/plain": [
       "                                name   mpg  cyl   disp   hp  drat     wt  \\\n",
       "name                                                                       \n",
       "Mazda RX4                  Mazda RX4  21.0    6  160.0  110  3.90  2.620   \n",
       "Mazda RX4 Wag          Mazda RX4 Wag  21.0    6  160.0  110  3.90  2.875   \n",
       "Datsun 710                Datsun 710  22.8    4  108.0   93  3.85  2.320   \n",
       "Hornet 4 Drive        Hornet 4 Drive  21.4    6  258.0  110  3.08  3.215   \n",
       "Hornet Sportabout  Hornet Sportabout  18.7    8  360.0  175  3.15  3.440   \n",
       "\n",
       "                    qsec  vs  am  gear  carb  \n",
       "name                                          \n",
       "Mazda RX4          16.46   0   1     4     4  \n",
       "Mazda RX4 Wag      17.02   0   1     4     4  \n",
       "Datsun 710         18.61   1   1     4     1  \n",
       "Hornet 4 Drive     19.44   1   0     3     1  \n",
       "Hornet Sportabout  17.02   0   0     3     2  "
      ]
     },
     "execution_count": 2,
     "metadata": {},
     "output_type": "execute_result"
    }
   ],
   "source": [
    "mtcars.index = mtcars[\"name\"]\n",
    "mtcars.head()\n",
    "# mtcars.mean() #By default this will give the mean of each column"
   ]
  },
  {
   "cell_type": "markdown",
   "metadata": {},
   "source": [
    "### Question 1\n",
    "\n",
    "What is the first car name given in mtcars?\n",
    "\n",
    "** Make use of index which has been set previously **\n",
    "\n",
    "**Hint**: Use .loc function\n"
   ]
  },
  {
   "cell_type": "code",
   "execution_count": 18,
   "metadata": {
    "scrolled": true
   },
   "outputs": [
    {
     "data": {
      "text/plain": [
       "'Mazda RX4'"
      ]
     },
     "execution_count": 18,
     "metadata": {},
     "output_type": "execute_result"
    }
   ],
   "source": [
    "mtcars.iloc[0,0]\n",
    "#print (a)"
   ]
  },
  {
   "cell_type": "code",
   "execution_count": 23,
   "metadata": {},
   "outputs": [
    {
     "data": {
      "text/plain": [
       "'Mazda RX4'"
      ]
     },
     "execution_count": 23,
     "metadata": {},
     "output_type": "execute_result"
    }
   ],
   "source": [
    "mtcars.loc['Mazda RX4','name']"
   ]
  },
  {
   "cell_type": "markdown",
   "metadata": {},
   "source": [
    "### Question 2\n",
    "What is the highest difference between the hp and cyl?\n",
    "\n",
    "**Hint:** You can use **max()** function to find the difference"
   ]
  },
  {
   "cell_type": "code",
   "execution_count": 22,
   "metadata": {},
   "outputs": [
    {
     "ename": "ValueError",
     "evalue": "No axis named hp for object type <class 'pandas.core.frame.DataFrame'>",
     "output_type": "error",
     "traceback": [
      "\u001b[1;31m---------------------------------------------------------------------------\u001b[0m",
      "\u001b[1;31mValueError\u001b[0m                                Traceback (most recent call last)",
      "\u001b[1;32m<ipython-input-22-e7091664b2e2>\u001b[0m in \u001b[0;36m<module>\u001b[1;34m()\u001b[0m\n\u001b[1;32m----> 1\u001b[1;33m \u001b[0mmtcars\u001b[0m\u001b[1;33m.\u001b[0m\u001b[0mmax\u001b[0m\u001b[1;33m(\u001b[0m\u001b[1;34m\"hp\"\u001b[0m\u001b[1;33m)\u001b[0m\u001b[1;33m\u001b[0m\u001b[0m\n\u001b[0m",
      "\u001b[1;32m~\\AppData\\Local\\Continuum\\anaconda3\\lib\\site-packages\\pandas\\core\\generic.py\u001b[0m in \u001b[0;36mstat_func\u001b[1;34m(self, axis, skipna, level, numeric_only, **kwargs)\u001b[0m\n\u001b[0;32m   9611\u001b[0m                                       skipna=skipna)\n\u001b[0;32m   9612\u001b[0m         return self._reduce(f, name, axis=axis, skipna=skipna,\n\u001b[1;32m-> 9613\u001b[1;33m                             numeric_only=numeric_only)\n\u001b[0m\u001b[0;32m   9614\u001b[0m \u001b[1;33m\u001b[0m\u001b[0m\n\u001b[0;32m   9615\u001b[0m     \u001b[1;32mreturn\u001b[0m \u001b[0mset_function_name\u001b[0m\u001b[1;33m(\u001b[0m\u001b[0mstat_func\u001b[0m\u001b[1;33m,\u001b[0m \u001b[0mname\u001b[0m\u001b[1;33m,\u001b[0m \u001b[0mcls\u001b[0m\u001b[1;33m)\u001b[0m\u001b[1;33m\u001b[0m\u001b[0m\n",
      "\u001b[1;32m~\\AppData\\Local\\Continuum\\anaconda3\\lib\\site-packages\\pandas\\core\\frame.py\u001b[0m in \u001b[0;36m_reduce\u001b[1;34m(self, op, name, axis, skipna, numeric_only, filter_type, **kwds)\u001b[0m\n\u001b[0;32m   6850\u001b[0m         \u001b[1;32melse\u001b[0m\u001b[1;33m:\u001b[0m\u001b[1;33m\u001b[0m\u001b[0m\n\u001b[0;32m   6851\u001b[0m             \u001b[1;31m# TODO: Make other agg func handle axis=None properly\u001b[0m\u001b[1;33m\u001b[0m\u001b[1;33m\u001b[0m\u001b[0m\n\u001b[1;32m-> 6852\u001b[1;33m             \u001b[0maxis\u001b[0m \u001b[1;33m=\u001b[0m \u001b[0mself\u001b[0m\u001b[1;33m.\u001b[0m\u001b[0m_get_axis_number\u001b[0m\u001b[1;33m(\u001b[0m\u001b[0maxis\u001b[0m\u001b[1;33m)\u001b[0m\u001b[1;33m\u001b[0m\u001b[0m\n\u001b[0m\u001b[0;32m   6853\u001b[0m             \u001b[0mlabels\u001b[0m \u001b[1;33m=\u001b[0m \u001b[0mself\u001b[0m\u001b[1;33m.\u001b[0m\u001b[0m_get_agg_axis\u001b[0m\u001b[1;33m(\u001b[0m\u001b[0maxis\u001b[0m\u001b[1;33m)\u001b[0m\u001b[1;33m\u001b[0m\u001b[0m\n\u001b[0;32m   6854\u001b[0m             \u001b[0mconstructor\u001b[0m \u001b[1;33m=\u001b[0m \u001b[0mself\u001b[0m\u001b[1;33m.\u001b[0m\u001b[0m_constructor\u001b[0m\u001b[1;33m\u001b[0m\u001b[0m\n",
      "\u001b[1;32m~\\AppData\\Local\\Continuum\\anaconda3\\lib\\site-packages\\pandas\\core\\generic.py\u001b[0m in \u001b[0;36m_get_axis_number\u001b[1;34m(self, axis)\u001b[0m\n\u001b[0;32m    373\u001b[0m                 \u001b[1;32mpass\u001b[0m\u001b[1;33m\u001b[0m\u001b[0m\n\u001b[0;32m    374\u001b[0m         raise ValueError('No axis named {0} for object type {1}'\n\u001b[1;32m--> 375\u001b[1;33m                          .format(axis, type(self)))\n\u001b[0m\u001b[0;32m    376\u001b[0m \u001b[1;33m\u001b[0m\u001b[0m\n\u001b[0;32m    377\u001b[0m     \u001b[1;32mdef\u001b[0m \u001b[0m_get_axis_name\u001b[0m\u001b[1;33m(\u001b[0m\u001b[0mself\u001b[0m\u001b[1;33m,\u001b[0m \u001b[0maxis\u001b[0m\u001b[1;33m)\u001b[0m\u001b[1;33m:\u001b[0m\u001b[1;33m\u001b[0m\u001b[0m\n",
      "\u001b[1;31mValueError\u001b[0m: No axis named hp for object type <class 'pandas.core.frame.DataFrame'>"
     ]
    }
   ],
   "source": []
  },
  {
   "cell_type": "markdown",
   "metadata": {},
   "source": [
    "### Question 3\n",
    "What are the cars having highest weight(wt) and lowest weight(wt)?\n",
    "\n",
    "**Hint:** Use idxmax() and idxmin() to locate the row\n",
    "\n",
    "Use **.iloc** function to print the  row\n",
    "\n",
    "**Note:** Both idxmax and idxmin belong to pandas"
   ]
  },
  {
   "cell_type": "code",
   "execution_count": 40,
   "metadata": {},
   "outputs": [
    {
     "name": "stdout",
     "output_type": "stream",
     "text": [
      "Lincoln Continental\n"
     ]
    }
   ],
   "source": [
    "i1=mtcars['wt'].idxmax()\n",
    "print (i1)\n"
   ]
  },
  {
   "cell_type": "code",
   "execution_count": 41,
   "metadata": {},
   "outputs": [
    {
     "name": "stdout",
     "output_type": "stream",
     "text": [
      "Lotus Europa\n"
     ]
    }
   ],
   "source": [
    "i2=mtcars['wt'].idxmin()\n",
    "print(i2)"
   ]
  },
  {
   "cell_type": "markdown",
   "metadata": {},
   "source": [
    "### Question 4\n",
    "\n",
    "Find the mean of each row and each column in the given dataset.\n",
    "\n",
    "**Hint:** Use .mean() function. To operate on rows use **axis=0**, on columns use **axis=1**"
   ]
  },
  {
   "cell_type": "code",
   "execution_count": 42,
   "metadata": {},
   "outputs": [
    {
     "data": {
      "text/plain": [
       "name\n",
       "Mazda RX4              29.907273\n",
       "Mazda RX4 Wag          29.981364\n",
       "Datsun 710             23.598182\n",
       "Hornet 4 Drive         38.739545\n",
       "Hornet Sportabout      53.664545\n",
       "Valiant                35.049091\n",
       "Duster 360             59.720000\n",
       "Merc 240D              24.634545\n",
       "Merc 230               27.233636\n",
       "Merc 280               31.860000\n",
       "Merc 280C              31.787273\n",
       "Merc 450SE             46.430909\n",
       "Merc 450SL             46.500000\n",
       "Merc 450SLC            46.350000\n",
       "Cadillac Fleetwood     66.232727\n",
       "Lincoln Continental    66.058545\n",
       "Chrysler Imperial      65.972273\n",
       "Fiat 128               19.440909\n",
       "Honda Civic            17.742273\n",
       "Toyota Corolla         18.814091\n",
       "Toyota Corona          24.888636\n",
       "Dodge Challenger       47.240909\n",
       "AMC Javelin            46.007727\n",
       "Camaro Z28             58.752727\n",
       "Pontiac Firebird       57.379545\n",
       "Fiat X1-9              18.928636\n",
       "Porsche 914-2          24.779091\n",
       "Lotus Europa           24.880273\n",
       "Ford Pantera L         60.971818\n",
       "Ferrari Dino           34.508182\n",
       "Maserati Bora          63.155455\n",
       "Volvo 142E             26.262727\n",
       "dtype: float64"
      ]
     },
     "execution_count": 42,
     "metadata": {},
     "output_type": "execute_result"
    }
   ],
   "source": [
    "#column mean\n",
    "mtcars.mean(axis=1)"
   ]
  },
  {
   "cell_type": "code",
   "execution_count": 43,
   "metadata": {},
   "outputs": [
    {
     "data": {
      "text/plain": [
       "name    (2.172641111694e-311+5.769176058e-314j)\n",
       "mpg                     (20.090624999999996+0j)\n",
       "cyl                                 (6.1875+0j)\n",
       "disp                    (230.72187500000004+0j)\n",
       "hp                                (146.6875+0j)\n",
       "drat                    (3.5965625000000006+0j)\n",
       "wt                      (3.2172499999999995+0j)\n",
       "qsec                    (17.848750000000003+0j)\n",
       "vs                                  (0.4375+0j)\n",
       "am                                 (0.40625+0j)\n",
       "gear                                (3.6875+0j)\n",
       "carb                                (2.8125+0j)\n",
       "dtype: complex128"
      ]
     },
     "execution_count": 43,
     "metadata": {},
     "output_type": "execute_result"
    }
   ],
   "source": [
    "#row mean\n",
    "mtcars.mean(axis=0)"
   ]
  },
  {
   "cell_type": "markdown",
   "metadata": {},
   "source": [
    "### Question 5\n",
    "\n",
    "Plot mpg values of mtcards dataframe using matplotlib.\n",
    "\n",
    "**Hint: Use plt.plot function**"
   ]
  },
  {
   "cell_type": "code",
   "execution_count": 48,
   "metadata": {},
   "outputs": [
    {
     "data": {
      "text/plain": [
       "<matplotlib.axes._subplots.AxesSubplot at 0x1f6256e3240>"
      ]
     },
     "execution_count": 48,
     "metadata": {},
     "output_type": "execute_result"
    },
    {
     "data": {
      "image/png": "[encoded data removed]",
      "text/plain": [
       "<Figure size 432x288 with 1 Axes>"
      ]
     },
     "metadata": {
      "needs_background": "light"
     },
     "output_type": "display_data"
    }
   ],
   "source": [
    "mtcars.plot('mpg')"
   ]
  },
  {
   "cell_type": "markdown",
   "metadata": {},
   "source": [
    "## Part 2"
   ]
  },
  {
   "cell_type": "markdown",
   "metadata": {},
   "source": [
    "## Measures of Dispersion"
   ]
  },
  {
   "cell_type": "markdown",
   "metadata": {},
   "source": [
    "Measures of Dispersion (Spread) are statistics that describe how data varies. Measure of dispersion gives us the sense of how much the data tends to diverge from the central tendency."
   ]
  },
  {
   "cell_type": "markdown",
   "metadata": {},
   "source": [
    "### Question 6\n",
    "\n",
    "What the range of `mpg` in the given dataset?\n",
    "\n",
    "**Hint:** Range = max-min"
   ]
  },
  {
   "cell_type": "code",
   "execution_count": 50,
   "metadata": {},
   "outputs": [
    {
     "name": "stdout",
     "output_type": "stream",
     "text": [
      "23.5\n"
     ]
    }
   ],
   "source": [
    "range=mtcars['mpg'].max()-mtcars['mpg'].min()\n",
    "print(range)\n"
   ]
  },
  {
   "cell_type": "markdown",
   "metadata": {},
   "source": [
    "### Question 7\n",
    "\n",
    "Calculate the 25th quantile (lower quantile)for `mpg` in the given dataset.\n",
    "\n",
    "**Hint:** Use **.quantile()**"
   ]
  },
  {
   "cell_type": "code",
   "execution_count": 52,
   "metadata": {},
   "outputs": [
    {
     "data": {
      "text/plain": [
       "19.2"
      ]
     },
     "execution_count": 52,
     "metadata": {},
     "output_type": "execute_result"
    }
   ],
   "source": [
    "mtcars['mpg'].quantile()"
   ]
  },
  {
   "cell_type": "markdown",
   "metadata": {},
   "source": [
    "### Question 8\n",
    "\n",
    "Calculate the Inter-Quartile Range(IQR) for `mpg` in the given dataset."
   ]
  },
  {
   "cell_type": "markdown",
   "metadata": {},
   "source": [
    "Interquartile range (IQR) is another common measure of spread. IQR is the distance between the 3rd quartile and the 1st quartile.\n",
    "\n",
    "**Hint:** IQR = Q3 - Q1"
   ]
  },
  {
   "cell_type": "code",
   "execution_count": null,
   "metadata": {},
   "outputs": [],
   "source": []
  },
  {
   "cell_type": "markdown",
   "metadata": {},
   "source": [
    "### Question 9\n",
    "\n",
    "Calculate the Variance, Standard Deviation and Median Absolute Deviation for `mpg`."
   ]
  },
  {
   "cell_type": "markdown",
   "metadata": {},
   "source": [
    "Variance and Standard Deviation are two other common measure of dispersion.\n",
    "\n",
    "**Hint:** Use .var() and .std()"
   ]
  },
  {
   "cell_type": "markdown",
   "metadata": {},
   "source": [
    "**Hint:** Median Absolute Deviation - alternative measure of spread based on the median. It is the median of the absolute value of the deviations from the median. "
   ]
  },
  {
   "cell_type": "code",
   "execution_count": 53,
   "metadata": {},
   "outputs": [
    {
     "data": {
      "text/plain": [
       "36.32410282258065"
      ]
     },
     "execution_count": 53,
     "metadata": {},
     "output_type": "execute_result"
    }
   ],
   "source": [
    "mtcars['mpg'].var()"
   ]
  },
  {
   "cell_type": "code",
   "execution_count": 54,
   "metadata": {},
   "outputs": [
    {
     "data": {
      "text/plain": [
       "6.026948052089105"
      ]
     },
     "execution_count": 54,
     "metadata": {},
     "output_type": "execute_result"
    }
   ],
   "source": [
    "mtcars['mpg'].std()"
   ]
  },
  {
   "cell_type": "markdown",
   "metadata": {},
   "source": [
    "## Part 3"
   ]
  },
  {
   "cell_type": "markdown",
   "metadata": {},
   "source": [
    "## Probability Distributions"
   ]
  },
  {
   "cell_type": "markdown",
   "metadata": {},
   "source": [
    "The probability distribution describes how a random variable is distributed. It tells us which values a variable is most likely to take on and which values are less likely to take on. "
   ]
  },
  {
   "cell_type": "markdown",
   "metadata": {},
   "source": [
    "Each value in the given range is equally likely to occur. "
   ]
  },
  {
   "cell_type": "code",
   "execution_count": 29,
   "metadata": {},
   "outputs": [],
   "source": [
    "import scipy.stats as stats # Many functions for probability distributions in python are in scipy.stats"
   ]
  },
  {
   "cell_type": "markdown",
   "metadata": {},
   "source": [
    "### Question 10\n",
    "\n",
    "Generate 1000 datapoints with standard normal distribution with mean 0 and standard deviation 1. "
   ]
  },
  {
   "cell_type": "markdown",
   "metadata": {},
   "source": [
    "#### Normal Distribution"
   ]
  },
  {
   "cell_type": "markdown",
   "metadata": {},
   "source": [
    "The normal or Gaussian Distribution is a continuos probability distribution given by a symmetric bell shaped curve. It is defined its center(mean) and spread(std)."
   ]
  },
  {
   "cell_type": "markdown",
   "metadata": {},
   "source": [
    "The bulk of the observations generated from a normal distribution lie near the mean which lies at the center. About 68% of the data lies within 1 std, 95% lies within 2 stds and 99.7% lies within 3 stds.\n",
    "\n",
    "**Hint:** You can use **np.random.normal()** function to generate normal distribution"
   ]
  },
  {
   "cell_type": "code",
   "execution_count": 56,
   "metadata": {},
   "outputs": [
    {
     "data": {
      "text/plain": [
       "array([-3.33836261e-02,  9.39921334e-01,  5.53704722e-01, -4.70441245e-01,\n",
       "        1.97340008e+00, -7.54304726e-02, -3.42068754e-01,  1.32707190e+00,\n",
       "       -3.14802649e-01, -1.41471178e-01,  3.86512887e-01, -1.13362077e+00,\n",
       "       -5.20258259e-01, -2.08729129e+00,  1.31538883e+00,  5.03118962e-01,\n",
       "       -1.02198384e+00, -1.27355794e+00,  1.48208916e-01,  1.79692065e-01,\n",
       "       -6.12699388e-01, -7.70515703e-01,  4.20527780e-01,  2.03826830e-01,\n",
       "       -1.27877421e+00,  1.70959757e+00, -1.41349070e+00,  2.38001067e-01,\n",
       "        9.42806689e-01, -1.78089997e+00,  4.94872627e-01,  1.02460989e+00,\n",
       "        6.39274147e-01,  7.48650428e-02,  1.22580826e+00, -1.16578165e+00,\n",
       "       -7.47642963e-01,  1.68271835e-01,  8.05104815e-01,  1.69224175e-01,\n",
       "        9.72906490e-01, -1.69423020e-01,  2.68004244e+00, -2.94688668e+00,\n",
       "        1.23935551e+00, -3.11600104e-01, -5.01053895e-01,  1.49491524e+00,\n",
       "       -3.68210271e-01, -1.39257047e-01, -5.40415902e-01,  4.91597081e-01,\n",
       "        6.95942478e-01,  1.92134896e+00,  1.35938073e+00, -1.99705066e+00,\n",
       "       -1.12693784e+00,  8.05144222e-01,  2.97045690e-01,  4.61250650e-01,\n",
       "        9.36282582e-02, -1.37922980e+00,  1.23167448e-01,  2.70788095e+00,\n",
       "        1.03834504e-01,  1.24079935e+00, -1.06559403e+00,  1.36482556e+00,\n",
       "       -5.20785522e-01, -1.69165183e-01,  2.35677644e+00, -3.33093388e-02,\n",
       "       -8.94027026e-01,  1.12870892e+00, -1.46259104e+00,  1.28688294e-01,\n",
       "       -7.15054188e-01,  6.25522852e-01, -2.74707275e-01,  9.07451386e-01,\n",
       "        6.92739734e-01,  4.65107552e-01, -1.52955145e+00,  6.08544507e-01,\n",
       "       -6.23760255e-02, -1.28897504e-01,  1.47852375e+00,  3.76590290e-01,\n",
       "       -7.78546349e-01,  3.16235558e-01, -8.46545916e-01,  9.43566878e-01,\n",
       "        1.42266556e+00,  5.35583000e-01,  9.49221167e-02,  1.26939524e+00,\n",
       "        1.37010889e+00,  1.68591906e+00, -7.70337732e-01, -5.72935134e-02,\n",
       "        2.30039299e-01, -1.96454271e+00, -4.61422237e-01,  1.04448038e+00,\n",
       "       -1.18706362e+00,  1.63212034e-01, -1.02228723e-01, -1.11218353e+00,\n",
       "       -4.03398374e-01, -1.42425746e-01, -3.54315168e-01,  1.80676021e+00,\n",
       "        7.45922826e-01,  9.77791561e-01, -4.59281875e-01,  1.85702592e+00,\n",
       "       -1.36127994e+00,  3.60835505e-01, -1.06277008e-01,  1.14291085e+00,\n",
       "        7.18605640e-01, -1.49362277e+00, -1.66447242e+00,  3.79957160e-01,\n",
       "        7.91406092e-01,  3.27387624e-01, -2.82207136e-01,  1.55316643e+00,\n",
       "        1.54329446e+00,  4.00075426e-01, -5.36560617e-01,  3.70522826e-01,\n",
       "       -8.30613806e-01, -9.10706242e-01, -1.49349519e-01,  7.66927312e-01,\n",
       "       -4.49404368e-01,  3.98533432e-02,  2.30897723e-01,  1.01200316e+00,\n",
       "        1.16909468e+00,  5.31650205e-01, -6.99311665e-01,  1.44066642e+00,\n",
       "       -1.51177670e-01, -1.73758687e+00,  1.22866268e+00, -8.35067729e-02,\n",
       "       -3.11671725e-01, -3.98689085e-01, -1.85552586e+00,  6.74372780e-02,\n",
       "       -6.96636820e-01,  1.36025378e+00,  1.91434490e+00, -5.34982466e-02,\n",
       "        9.96342997e-01, -2.81157181e-01, -1.58199586e-01,  9.54793480e-01,\n",
       "        1.51225810e+00, -1.75837920e-01,  6.04432081e-01,  1.95111527e+00,\n",
       "       -8.97613323e-02, -7.85706322e-01,  1.28335365e+00,  6.98477386e-01,\n",
       "        9.26532603e-01, -2.93964668e-01,  5.94418450e-02,  4.70818918e-01,\n",
       "       -1.15252471e+00, -1.43893345e+00,  2.89030332e-01, -1.29843300e-01,\n",
       "       -5.72846268e-01,  1.79679582e+00,  5.91218826e-02, -1.45453118e+00,\n",
       "       -3.06851887e-02,  7.59220011e-01, -8.92003119e-02, -1.41186709e+00,\n",
       "        2.19197365e+00,  2.15517621e-01,  2.18453657e-02,  1.57242756e+00,\n",
       "       -6.89912183e-01, -3.28130181e+00, -3.01635674e-01, -7.92111606e-01,\n",
       "        5.48222831e-01, -4.45737967e-01, -4.99638446e-02, -6.20372736e-01,\n",
       "        7.24677912e-01, -5.68475978e-01,  1.31323307e-01,  6.83514980e-01,\n",
       "        2.16471633e-01, -4.82607045e-01, -7.88364322e-01,  1.54167521e+00,\n",
       "       -9.99057208e-01,  3.44795900e-01, -2.62851123e-02,  1.27235928e-01,\n",
       "        6.56096487e-02, -5.76382177e-01, -2.04402114e+00, -3.43378530e-01,\n",
       "       -1.04531735e+00,  9.84465098e-01,  7.17776276e-01, -4.05694208e-01,\n",
       "        1.44041392e+00,  2.19379303e+00, -4.36920812e-01, -1.18844490e+00,\n",
       "       -1.61580744e+00,  4.07997379e-01,  8.06186236e-01, -3.16929988e-01,\n",
       "       -2.73941453e-01, -2.32147248e-01, -1.75920819e+00,  1.86662940e+00,\n",
       "        4.43901953e-01,  2.21500382e+00,  4.09390102e-01,  9.03996426e-01,\n",
       "        5.30641115e-01, -1.49987436e+00, -1.89204245e+00,  5.07389154e-01,\n",
       "        1.20347280e+00,  1.03472125e+00, -1.22595844e+00, -1.10591493e+00,\n",
       "       -1.20521991e-01,  5.04723791e-01, -7.89432009e-02,  2.53539496e-01,\n",
       "        2.14806867e-01,  2.93600451e-01,  2.03639560e-01, -1.05987517e+00,\n",
       "       -1.25514595e+00, -1.16132664e+00,  3.42013484e-01, -2.79332932e-01,\n",
       "        4.92255908e-01, -1.36727353e+00,  3.68690927e-01,  1.70748441e+00,\n",
       "       -1.26736703e+00,  8.84446219e-02, -7.99087529e-02, -6.12868718e-01,\n",
       "       -8.13359553e-01, -1.45142110e+00, -6.01239657e-01, -7.11135204e-01,\n",
       "       -1.55974336e+00,  1.36071597e+00, -7.23861276e-01, -4.42157362e-01,\n",
       "        6.94998548e-02, -2.42169928e-01,  1.55826363e+00, -1.29846023e+00,\n",
       "       -1.20292002e+00, -2.67442984e-01,  1.87694830e-01, -1.01564117e+00,\n",
       "        1.31891526e+00,  1.21954539e+00,  9.96507134e-01, -1.74348728e+00,\n",
       "       -2.17230427e+00, -5.91753721e-02,  1.08047169e+00, -1.49497164e+00,\n",
       "       -1.00083189e+00, -8.82024800e-02,  1.06148602e+00,  8.06130549e-01,\n",
       "        1.18656547e+00,  2.27596208e-01, -6.88385195e-01,  7.95396261e-01,\n",
       "        2.15886066e+00,  6.02453958e-01, -1.46765120e+00, -1.41107990e+00,\n",
       "        6.41827404e-01, -1.11525633e+00,  1.14200223e+00, -1.58407916e+00,\n",
       "       -1.24240561e+00,  8.35460525e-01, -4.43511514e-01, -9.30545869e-01,\n",
       "       -8.19293420e-01,  8.61499337e-01, -1.41241271e+00,  5.24637455e-01,\n",
       "       -3.67496867e-01, -1.32098608e-01, -1.12455379e+00,  6.38672851e-01,\n",
       "       -1.12561690e+00, -1.10106638e-01,  1.23435972e+00,  2.19570931e+00,\n",
       "       -1.24111855e+00, -1.08321884e+00,  1.19653173e+00,  4.73511697e-01,\n",
       "       -4.09680860e-02, -3.51433881e-02,  3.19235616e-01,  1.45099123e-01,\n",
       "        1.46565733e+00,  1.34588425e+00, -2.20339754e-01,  5.80818379e-02,\n",
       "       -7.31448836e-02, -7.26622718e-01,  1.26792130e-01,  1.19161322e+00,\n",
       "        2.50086523e+00, -6.31961588e-02,  1.14636074e-01,  8.41722916e-01,\n",
       "       -1.99526669e-01,  3.99370274e-01, -7.42194051e-01, -4.77643812e-01,\n",
       "        3.87021295e-01, -1.98257524e-01, -4.24493884e-01, -5.50151260e-01,\n",
       "       -3.81469314e-01,  5.70873941e-01,  2.03153634e+00,  1.69177067e-01,\n",
       "       -4.89619991e-01,  1.26131728e+00, -2.71722313e+00,  8.16420302e-01,\n",
       "        5.80894719e-01, -8.01589899e-01,  3.02922334e+00,  5.30608951e-01,\n",
       "        3.09395719e-01,  1.58833145e-01, -1.59321394e-01, -1.53969347e+00,\n",
       "       -4.03636295e-03, -1.40644854e+00, -1.13140635e+00,  3.00552370e-01,\n",
       "        1.05514022e+00,  1.41574027e+00, -9.52555094e-01, -5.59161731e-01,\n",
       "       -8.94542035e-02, -7.42319867e-01, -6.74706608e-01, -6.53356999e-02,\n",
       "        1.05286746e+00, -3.95291640e-01, -1.57607637e+00,  6.57096885e-01,\n",
       "       -5.10044093e-01, -1.05525008e+00, -1.98687812e-01, -6.90874617e-01,\n",
       "        4.87092476e-02, -1.03959727e+00, -1.39990745e-01,  1.06062669e+00,\n",
       "        1.46485903e+00, -3.02279275e-01,  1.70279015e-01, -6.90259425e-01,\n",
       "        5.60326070e-02, -8.08063314e-01, -1.25806405e+00,  8.70638864e-01,\n",
       "       -9.87161625e-01,  6.82778903e-01, -3.04048670e-01,  4.37134133e-01,\n",
       "       -9.50225452e-01, -1.89290405e+00, -3.29725972e-01, -1.86534810e-01,\n",
       "       -1.16477592e+00,  5.67141414e-01, -5.01090632e-01,  4.91744623e-02,\n",
       "       -3.93733819e-01,  1.77273252e-02, -9.73825484e-01,  1.79818997e+00,\n",
       "       -2.79592161e-01, -1.19302262e+00,  1.92391709e-01,  1.02115187e+00,\n",
       "       -9.23234976e-01,  4.72547874e-01,  1.10610610e+00,  2.70962468e-01,\n",
       "        9.62664662e-02, -8.69935435e-01,  1.38299418e+00,  6.31703847e-01,\n",
       "       -9.71533047e-01, -2.17102988e-01,  5.85695250e-01,  1.58243003e+00,\n",
       "        1.37244714e+00, -6.57734742e-01,  5.69322982e-02, -1.84777289e+00,\n",
       "        1.25264877e+00, -3.99930644e-01, -1.00732775e+00,  1.19678535e+00,\n",
       "        8.75244602e-02,  1.64698941e+00,  3.03178377e-02, -4.22087785e-01,\n",
       "        9.92384223e-01, -1.09374605e+00, -6.94707053e-01,  1.40564803e+00,\n",
       "       -1.37910899e-01, -1.16022994e+00,  8.23022673e-01, -6.11421635e-01,\n",
       "       -4.24452882e-01, -6.42892228e-01,  1.45474583e+00, -3.29733601e-02,\n",
       "        1.54861957e+00, -6.54380580e-01, -1.91639426e+00, -1.25589287e+00,\n",
       "        1.40245733e+00, -4.19447213e-01,  6.65344704e-01, -7.34421695e-01,\n",
       "       -5.12274520e-01,  5.69124402e-01, -3.84926436e-01, -7.71189333e-01,\n",
       "       -6.34365215e-01, -2.92469272e-01, -3.17737395e+00, -6.93862917e-01,\n",
       "        9.97344213e-01,  5.97244821e-01,  4.37634676e-01, -7.47077679e-01,\n",
       "       -5.82463477e-01,  3.76501201e-01,  9.27397934e-01, -5.66944668e-01,\n",
       "        1.03209794e+00,  1.75177213e+00, -2.77217710e-01, -2.92212295e+00,\n",
       "       -1.45776586e+00, -3.94929124e-01, -1.27642745e+00, -2.55101011e-02,\n",
       "        2.97800585e+00, -9.17023012e-01, -4.00587523e-01, -2.23417906e-01,\n",
       "       -1.03042459e+00, -6.12683619e-01, -6.41044225e-01,  7.55686490e-01,\n",
       "        1.32509673e-01, -8.20357471e-01,  8.10444814e-01,  9.21338637e-01,\n",
       "       -3.29352880e-02,  4.95792003e-01, -9.56531584e-01,  2.58385254e+00,\n",
       "        5.64970145e-01,  1.77108321e+00, -1.08955758e-01,  1.04681536e+00,\n",
       "       -1.27010773e+00,  4.32656568e-01, -5.00258674e-01, -6.84644918e-02,\n",
       "        8.37032039e-01,  9.73140370e-01,  5.41231461e-01,  2.41596240e-01,\n",
       "       -6.51931901e-01,  5.49783217e-01,  7.28853524e-01,  2.36103277e-01,\n",
       "        1.43748334e-01,  1.63750141e-01, -8.09939405e-01,  3.10404978e-01,\n",
       "        3.95126065e-01,  1.45420202e+00, -4.94982638e-01,  9.68824133e-01,\n",
       "       -1.18964745e-01,  3.67869236e-01, -2.08828077e-01, -7.32658230e-01,\n",
       "       -1.22063976e-01, -3.80448233e-01,  2.02826952e-01, -6.19800725e-01,\n",
       "        2.11301298e+00, -1.68347441e+00,  9.63016155e-01,  1.41227867e+00,\n",
       "       -5.93609367e-01,  3.22471945e-01,  9.34338903e-01, -1.68497200e+00,\n",
       "       -8.21658775e-02, -7.53475743e-01,  4.86441918e-01, -9.48127345e-02,\n",
       "       -3.27742855e-01, -9.98913502e-01,  2.96381068e+00, -1.91903793e+00,\n",
       "        1.70153194e+00,  5.58053725e-01, -7.22785179e-02, -1.01447671e+00,\n",
       "       -1.38195194e+00,  2.81038387e-02, -1.03745006e+00,  1.81069308e-01,\n",
       "        5.62984226e-01,  4.30796325e-01,  1.28618150e-02,  7.23415667e-01,\n",
       "       -8.40958836e-01, -2.18434839e+00, -1.04977294e+00,  1.70247152e+00,\n",
       "       -1.27419906e+00,  4.80550699e-02,  1.90959209e+00,  4.68956963e-01,\n",
       "       -1.05727823e+00,  6.85689804e-01, -3.83463033e-01, -9.82379658e-01,\n",
       "        5.45932240e-01,  1.63208890e+00,  1.35610523e+00,  1.11313762e+00,\n",
       "        9.87550995e-02,  1.14805593e+00, -1.60543866e-01,  4.96873492e-01,\n",
       "        9.10828363e-01, -1.60659775e+00, -1.22081592e+00,  5.18403089e-01,\n",
       "       -1.30846719e-01, -1.32670120e+00,  6.92942622e-01, -9.98101988e-01,\n",
       "       -9.82396488e-01, -2.60052329e+00, -1.72678283e+00,  8.58547223e-01,\n",
       "        3.62466566e-01,  3.91405027e-01,  8.84797240e-01,  4.74306843e-01,\n",
       "        7.25899123e-01, -7.68014796e-01, -1.85768833e-01, -5.89183608e-01,\n",
       "        3.19108531e-02,  1.68820379e+00,  1.01874557e+00,  2.02577314e+00,\n",
       "        1.06841501e+00,  4.70931230e-02,  7.43605324e-01, -1.11102548e-03,\n",
       "        7.25004495e-01, -7.47669900e-01,  5.29608816e-01, -9.46011669e-01,\n",
       "       -1.27945987e-03,  1.17204175e-01,  7.96645781e-01, -1.82553831e+00,\n",
       "        1.02817498e+00, -5.80450971e-01,  4.86005608e-01,  2.89337552e-01,\n",
       "       -6.54107660e-01,  1.75414106e+00,  2.08383972e+00,  8.32030297e-01,\n",
       "        8.32118697e-01,  3.24338245e-01, -1.02672765e+00,  1.04943607e+00,\n",
       "       -3.06915708e-01,  1.31253174e+00, -7.67505680e-02,  5.90719070e-01,\n",
       "       -5.46873510e-01,  3.61639180e-01,  1.14241111e+00, -4.90410745e-01,\n",
       "        1.59323230e+00, -1.29808048e+00, -1.17196295e+00, -1.94955705e+00,\n",
       "        8.59732431e-01, -2.04921393e-01,  2.95455845e-01, -7.35451555e-01,\n",
       "       -1.81051602e+00, -9.90172672e-01, -1.29079457e+00,  1.23245188e+00,\n",
       "        1.51526741e+00, -3.60502414e-01,  1.52723720e-01, -1.37691683e+00,\n",
       "       -2.21295421e+00, -9.24147289e-01, -2.12506513e-01,  2.27562132e-01,\n",
       "       -1.96241750e+00,  5.88045131e-01, -5.08263876e-01,  1.11291698e+00,\n",
       "       -1.57916611e-01,  1.71607394e+00, -2.53838425e+00, -1.33609566e-01,\n",
       "        7.91298327e-01, -7.48740371e-01, -4.09674762e-01,  2.22803365e+00,\n",
       "        2.52855164e+00, -2.04555668e-01, -3.75373497e-02,  2.12714067e-03,\n",
       "       -1.73080818e+00, -1.99814113e-01, -2.14309745e+00, -8.44693010e-01,\n",
       "        8.97424515e-02, -1.19828599e-01, -2.28275725e-02, -8.10374018e-01,\n",
       "        3.81633955e-01,  1.55260239e-01,  6.85171797e-02, -2.45957915e-01,\n",
       "        1.10491819e+00, -7.75639654e-01,  1.66442565e+00,  1.56903778e-01,\n",
       "        4.08180305e-01,  1.30683426e+00, -1.27753144e+00,  1.16747017e+00,\n",
       "       -5.65217674e-01, -1.11331131e-01, -3.40731760e-01, -4.85934472e-01,\n",
       "       -5.84697718e-01, -8.76231949e-01,  6.51181230e-01,  4.62039769e-01,\n",
       "        1.31013455e+00, -6.14880445e-01, -9.32621620e-02, -1.52889219e-01,\n",
       "       -7.66801669e-02,  3.15036952e-01, -3.99951856e-01,  8.74529966e-01,\n",
       "       -7.18393091e-01, -7.41123957e-01,  4.41576038e-01,  8.49250978e-01,\n",
       "       -5.14510720e-01,  4.92986527e-01,  2.35602742e+00, -2.12771465e+00,\n",
       "       -1.12091504e+00,  5.91998505e-02, -4.94510696e-01,  1.52116916e+00,\n",
       "        1.04528768e+00,  4.58976081e-01,  5.52632496e-01,  3.49978846e-01,\n",
       "        3.25971019e-01, -2.72260260e-01,  9.44313011e-02,  2.19770003e+00,\n",
       "        7.76597791e-01, -1.12169292e+00,  8.21726965e-01,  5.08307315e-01,\n",
       "        5.59817895e-01,  1.27024826e-01, -8.61705281e-01,  3.80793798e-01,\n",
       "       -8.69511686e-01,  1.61040486e+00, -2.60820345e-01, -5.13071584e-03,\n",
       "        9.86634543e-01, -1.34915830e-02, -1.86123892e+00,  1.58091110e+00,\n",
       "       -2.05603470e-01,  8.62232068e-01, -5.18999031e-01,  5.44442866e-01,\n",
       "       -3.49278119e-01, -7.80194365e-02,  1.73514486e+00, -1.49694501e-01,\n",
       "        1.94619210e+00, -1.34264005e+00,  5.66209993e-02,  1.30634370e+00,\n",
       "       -1.15486162e+00,  2.63960839e-01,  2.10752007e+00,  7.99026861e-01,\n",
       "        3.46664232e-01,  3.55440941e-01,  1.23349169e+00,  1.24046664e+00,\n",
       "        4.16427117e-02, -6.33741879e-01, -1.84658846e+00, -1.59646204e+00,\n",
       "       -1.87207611e-01,  3.30194417e-02,  7.55314303e-01, -4.84642930e-01,\n",
       "        1.03219241e+00, -6.08349505e-01,  3.74082565e-02, -3.14658525e+00,\n",
       "       -2.79058613e-01,  4.74594119e-01, -1.67498251e+00,  1.52515144e+00,\n",
       "        1.52970887e+00,  6.02356849e-01, -2.49126935e-01, -8.53259461e-01,\n",
       "       -2.53874706e+00,  4.09773377e-01, -7.09801608e-01, -7.20650775e-01,\n",
       "        9.53998470e-01,  1.26766967e-01,  1.80748044e-01, -1.29691746e+00,\n",
       "       -1.65376023e+00, -3.96036766e-01, -2.43802200e+00,  4.50771375e-01,\n",
       "        1.69238300e-01, -1.99416779e-01, -2.05723117e+00,  1.25507518e+00,\n",
       "        1.79018936e-01,  2.08809096e-01,  1.60250467e-01, -8.09668179e-01,\n",
       "        1.90017248e+00, -1.05238352e+00, -6.02635590e-01, -1.28950894e+00,\n",
       "       -7.28320477e-01,  1.51841002e+00, -1.18973182e+00,  1.06412165e+00,\n",
       "       -4.55906281e-01,  7.30664522e-01, -1.02948023e+00,  8.82050583e-01,\n",
       "       -2.41698136e-01, -6.66997949e-01,  1.79720104e+00,  2.14181096e+00,\n",
       "        5.12763088e-02, -8.26319413e-01, -3.54400684e-01, -1.41389065e+00,\n",
       "       -3.82142799e-01, -1.22657306e+00,  3.61567728e-01, -3.18257533e-01,\n",
       "        3.15270043e-01,  1.83104767e+00, -8.60589270e-01, -4.54357255e-01,\n",
       "       -1.12263482e+00,  7.39787620e-01, -1.73850462e-02,  6.64144481e-01,\n",
       "       -6.35500262e-01,  1.52918614e+00,  3.64711902e-01,  3.69832151e-02,\n",
       "       -8.06199366e-01, -1.08695729e-01, -1.01087461e+00, -8.05575112e-01,\n",
       "        6.87375483e-01, -8.68695470e-01, -1.78872221e+00, -1.29555222e+00,\n",
       "        1.39015861e+00,  1.46051916e+00, -1.33486714e-01, -1.06233620e+00,\n",
       "       -3.76632573e-01,  1.52360824e+00,  1.62912536e+00,  7.70617513e-01,\n",
       "        2.91177985e+00, -3.37143544e-01, -1.58877667e+00,  4.76444310e-01,\n",
       "       -1.24912701e+00, -1.18180660e-01, -1.13680704e-01, -8.13060069e-02,\n",
       "        9.70581540e-01, -1.48059382e+00, -2.75058880e-01,  9.75036519e-01,\n",
       "       -1.03889665e+00, -1.01502610e+00,  8.19711664e-01, -1.38186375e+00,\n",
       "        1.22247737e+00, -6.05962783e-01,  9.97113553e-01,  8.23597781e-01,\n",
       "        3.09742546e-01,  3.54419767e-01,  2.31890093e+00,  3.28649007e-01,\n",
       "       -1.79152615e+00,  2.76664466e+00, -6.79768359e-01,  1.72382271e-01,\n",
       "       -1.06546417e+00,  3.49539473e-01,  6.68647283e-01, -1.66509244e-01,\n",
       "       -1.32243948e+00, -6.59775397e-01,  1.47984486e+00, -2.18493978e+00,\n",
       "       -2.61984692e-01, -5.27817278e-01, -1.15790138e+00,  3.25408357e-01,\n",
       "       -1.47559602e-01,  7.42200553e-01,  1.40845952e-01,  2.16906282e+00,\n",
       "       -1.04387040e-01,  4.35938783e-01, -4.07945984e-01, -1.68785433e+00,\n",
       "       -1.94959109e+00,  9.63345312e-01, -1.05189112e+00,  7.97447444e-01,\n",
       "       -8.68853235e-01, -8.62016775e-01,  1.14006750e+00, -1.21138697e-01,\n",
       "       -2.36240112e+00, -2.17704097e-01, -1.24210263e+00, -1.80452541e+00,\n",
       "        1.55362217e-02, -4.96402282e-01, -1.19991239e+00, -6.47510942e-01,\n",
       "        1.08914595e+00,  1.64900325e-01, -4.80485885e-01,  1.12467466e+00,\n",
       "       -1.36529627e+00, -7.78828960e-01,  1.54797551e+00,  6.74975685e-02,\n",
       "       -3.91985469e-01,  3.11007718e-01,  2.56561684e-01,  3.04929446e-01,\n",
       "       -1.67373771e+00, -8.23213697e-01,  1.08794747e+00,  6.61468689e-01,\n",
       "       -1.12402241e-02,  2.47198129e-01, -4.79990112e-02, -6.57759696e-01,\n",
       "        5.78926870e-01,  1.41598684e-01,  1.12854292e+00,  1.82619909e-01,\n",
       "       -7.49736079e-01, -6.43659790e-02, -1.43083849e+00, -4.85336871e-01,\n",
       "       -1.26212288e+00, -7.84033681e-01,  2.10490278e-01,  8.33448986e-02,\n",
       "       -3.37882962e-01,  1.06797516e+00,  7.27446595e-02, -1.00579306e+00,\n",
       "       -1.41503717e+00, -2.40152226e-01, -6.20289693e-01,  3.75970706e-01,\n",
       "       -2.96435499e+00,  9.27426184e-02, -2.60812737e-01,  1.07721464e+00,\n",
       "        1.15180570e+00,  5.40286100e-01,  5.26842530e-01, -2.29190502e-01,\n",
       "        1.14426969e+00, -2.89991966e-01, -3.19751874e-01,  4.88081879e-01,\n",
       "        1.41552956e+00, -2.17946857e-01, -9.51813852e-02,  1.01438346e+00,\n",
       "        4.72448081e-01,  2.11804130e-01, -1.47489757e+00, -1.69869857e+00,\n",
       "        3.40765230e-01, -8.88596794e-01,  1.68942511e-01,  1.57418964e+00,\n",
       "       -3.56476765e-01,  1.23829326e+00, -6.28200400e-02,  8.30177440e-01,\n",
       "       -6.21885662e-01,  1.24580896e+00, -8.28134897e-01, -7.04851827e-01,\n",
       "        7.57176680e-01,  9.30527612e-01, -1.99855666e+00,  6.69364464e-01,\n",
       "        1.79247817e+00, -4.53086793e-03, -1.64176646e+00, -2.01935977e+00,\n",
       "        4.04205698e-01,  3.61359910e-01, -1.12050317e+00,  2.11072942e-02])"
      ]
     },
     "execution_count": 56,
     "metadata": {},
     "output_type": "execute_result"
    }
   ],
   "source": [
    "np.random.normal(0,1,1000)"
   ]
  },
  {
   "cell_type": "markdown",
   "metadata": {},
   "source": [
    "## Question 11\n",
    "\n",
    "Generate binomial distribution data for fair coin flipping of size 100. Assume `0` for head and `1` for tail.\n",
    "\n",
    "[ **Hint:** For fair coin flip `p=0.5` ]"
   ]
  },
  {
   "cell_type": "markdown",
   "metadata": {},
   "source": [
    "#### Binomial Distribution"
   ]
  },
  {
   "cell_type": "markdown",
   "metadata": {},
   "source": [
    "It is defined by 2 parameters: the probability of success and the number of trails. It tells about how likely it is possible to get a given number of successes in n trails."
   ]
  },
  {
   "cell_type": "code",
   "execution_count": 57,
   "metadata": {},
   "outputs": [
    {
     "data": {
      "text/plain": [
       "array([46, 52, 53, 45, 46, 54, 53, 51, 51, 46, 50, 50, 49, 54, 47, 54, 52,\n",
       "       57, 66, 56, 48, 49, 46, 53, 61, 45, 51, 44, 55, 42, 45, 45, 46, 43,\n",
       "       53, 55, 51, 51, 46, 50, 52, 56, 51, 51, 49, 53, 49, 52, 46, 54, 48,\n",
       "       49, 51, 49, 42, 46, 50, 55, 48, 40, 46, 52, 59, 51, 59, 52, 48, 56,\n",
       "       52, 50, 44, 41, 48, 52, 54, 50, 48, 52, 52, 60, 51, 46, 50, 46, 56,\n",
       "       50, 52, 46, 51, 50, 52, 54, 54, 50, 54, 55, 49, 40, 52, 47])"
      ]
     },
     "execution_count": 57,
     "metadata": {},
     "output_type": "execute_result"
    }
   ],
   "source": [
    "np.random.binomial(100,0.5,100)"
   ]
  },
  {
   "cell_type": "markdown",
   "metadata": {},
   "source": [
    "#### Visualizing Poisson Distribution"
   ]
  },
  {
   "cell_type": "markdown",
   "metadata": {},
   "source": [
    "It models the probability of seeing certain number of successes within a time interval."
   ]
  },
  {
   "cell_type": "code",
   "execution_count": 133,
   "metadata": {},
   "outputs": [
    {
     "data": {
      "image/png": "[encoded data removed]",
      "text/plain": [
       "<matplotlib.figure.Figure at 0x7f7c10ffbe90>"
      ]
     },
     "metadata": {},
     "output_type": "display_data"
    }
   ],
   "source": [
    "poisson_data = stats.poisson.rvs(size=100,mu=10)\n",
    "\n",
    "pd.DataFrame(poisson_data).hist()\n",
    "\n",
    "plt.show()"
   ]
  }
 ],
 "metadata": {
  "kernelspec": {
   "display_name": "Python 3",
   "language": "python",
   "name": "python3"
  },
  "language_info": {
   "codemirror_mode": {
    "name": "ipython",
    "version": 3
   },
   "file_extension": ".py",
   "mimetype": "text/x-python",
   "name": "python",
   "nbconvert_exporter": "python",
   "pygments_lexer": "ipython3",
   "version": "3.7.0"
  }
 },
 "nbformat": 4,
 "nbformat_minor": 2
}
