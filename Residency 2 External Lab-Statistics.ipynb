{
 "cells": [
  {
   "cell_type": "code",
   "execution_count": 5,
   "metadata": {},
   "outputs": [],
   "source": [
    "import pandas as pd\n",
    "import numpy as np"
   ]
  },
  {
   "cell_type": "code",
   "execution_count": 15,
   "metadata": {},
   "outputs": [],
   "source": [
    "from IPython.core.interactiveshell import InteractiveShell\n",
    "InteractiveShell.ast_node_interactivity = \"all\"\n"
   ]
  },
  {
   "cell_type": "markdown",
   "metadata": {},
   "source": [
    "Questions\n",
    "1. Find the mean of old scheme and new scheme column. (5 points)\n",
    "2. Use the five percent significance test over the data to determine the p value to check new scheme has significantly raised outputs? (8 points)\n",
    "3. What conclusion does the test (p-value) lead to? (2 points)\n"
   ]
  },
  {
   "cell_type": "code",
   "execution_count": 16,
   "metadata": {},
   "outputs": [],
   "source": [
    "df=pd.read_csv(\"C:/Somduity/Python/Residency2_statistics.csv\")"
   ]
  },
  {
   "cell_type": "code",
   "execution_count": 17,
   "metadata": {},
   "outputs": [
    {
     "data": {
      "text/html": [
       "<div>\n",
       "<style scoped>\n",
       "    .dataframe tbody tr th:only-of-type {\n",
       "        vertical-align: middle;\n",
       "    }\n",
       "\n",
       "    .dataframe tbody tr th {\n",
       "        vertical-align: top;\n",
       "    }\n",
       "\n",
       "    .dataframe thead th {\n",
       "        text-align: right;\n",
       "    }\n",
       "</style>\n",
       "<table border=\"1\" class=\"dataframe\">\n",
       "  <thead>\n",
       "    <tr style=\"text-align: right;\">\n",
       "      <th></th>\n",
       "      <th>Old Scheme (in thousands)</th>\n",
       "      <th>New Scheme (in thousands)</th>\n",
       "    </tr>\n",
       "  </thead>\n",
       "  <tbody>\n",
       "    <tr>\n",
       "      <th>count</th>\n",
       "      <td>30.000000</td>\n",
       "      <td>30.000000</td>\n",
       "    </tr>\n",
       "    <tr>\n",
       "      <th>mean</th>\n",
       "      <td>68.033333</td>\n",
       "      <td>72.033333</td>\n",
       "    </tr>\n",
       "    <tr>\n",
       "      <th>std</th>\n",
       "      <td>20.455980</td>\n",
       "      <td>24.062395</td>\n",
       "    </tr>\n",
       "    <tr>\n",
       "      <th>min</th>\n",
       "      <td>28.000000</td>\n",
       "      <td>32.000000</td>\n",
       "    </tr>\n",
       "    <tr>\n",
       "      <th>25%</th>\n",
       "      <td>54.000000</td>\n",
       "      <td>55.000000</td>\n",
       "    </tr>\n",
       "    <tr>\n",
       "      <th>50%</th>\n",
       "      <td>67.000000</td>\n",
       "      <td>74.000000</td>\n",
       "    </tr>\n",
       "    <tr>\n",
       "      <th>75%</th>\n",
       "      <td>81.500000</td>\n",
       "      <td>85.750000</td>\n",
       "    </tr>\n",
       "    <tr>\n",
       "      <th>max</th>\n",
       "      <td>110.000000</td>\n",
       "      <td>122.000000</td>\n",
       "    </tr>\n",
       "  </tbody>\n",
       "</table>\n",
       "</div>"
      ],
      "text/plain": [
       "       Old Scheme (in thousands)  New Scheme (in thousands)\n",
       "count                  30.000000                  30.000000\n",
       "mean                   68.033333                  72.033333\n",
       "std                    20.455980                  24.062395\n",
       "min                    28.000000                  32.000000\n",
       "25%                    54.000000                  55.000000\n",
       "50%                    67.000000                  74.000000\n",
       "75%                    81.500000                  85.750000\n",
       "max                   110.000000                 122.000000"
      ]
     },
     "execution_count": 17,
     "metadata": {},
     "output_type": "execute_result"
    }
   ],
   "source": [
    "df[[\"Old Scheme (in thousands)\",\"New Scheme (in thousands)\"]].describe()"
   ]
  },
  {
   "cell_type": "code",
   "execution_count": 18,
   "metadata": {},
   "outputs": [
    {
     "data": {
      "text/plain": [
       "68.03333333333333"
      ]
     },
     "execution_count": 18,
     "metadata": {},
     "output_type": "execute_result"
    }
   ],
   "source": [
    "df[\"Old Scheme (in thousands)\"].mean()"
   ]
  },
  {
   "cell_type": "code",
   "execution_count": 19,
   "metadata": {},
   "outputs": [
    {
     "data": {
      "text/plain": [
       "72.03333333333333"
      ]
     },
     "execution_count": 19,
     "metadata": {},
     "output_type": "execute_result"
    }
   ],
   "source": [
    "df[\"New Scheme (in thousands)\"].mean()"
   ]
  },
  {
   "cell_type": "code",
   "execution_count": 20,
   "metadata": {},
   "outputs": [],
   "source": [
    "import matplotlib.pyplot as plot\n",
    "%matplotlib inline\n"
   ]
  },
  {
   "cell_type": "code",
   "execution_count": 21,
   "metadata": {},
   "outputs": [
    {
     "data": {
      "text/plain": [
       "<matplotlib.axes._subplots.AxesSubplot at 0x1f83965ea90>"
      ]
     },
     "execution_count": 21,
     "metadata": {},
     "output_type": "execute_result"
    },
    {
     "data": {
      "image/png": "[encoded data removed]",
      "text/plain": [
       "<Figure size 432x288 with 1 Axes>"
      ]
     },
     "metadata": {
      "needs_background": "light"
     },
     "output_type": "display_data"
    }
   ],
   "source": [
    "df[[\"Old Scheme (in thousands)\",\"New Scheme (in thousands)\"]].plot(kind='box')"
   ]
  },
  {
   "cell_type": "code",
   "execution_count": 48,
   "metadata": {},
   "outputs": [
    {
     "name": "stdout",
     "output_type": "stream",
     "text": [
      "Statistics=0.940, p=0.089\n"
     ]
    },
    {
     "data": {
      "text/plain": [
       "<matplotlib.axes._subplots.AxesSubplot at 0x1f83a800d30>"
      ]
     },
     "execution_count": 48,
     "metadata": {},
     "output_type": "execute_result"
    },
    {
     "data": {
      "image/png": "[encoded data removed]",
      "text/plain": [
       "<Figure size 432x288 with 1 Axes>"
      ]
     },
     "metadata": {
      "needs_background": "light"
     },
     "output_type": "display_data"
    }
   ],
   "source": [
    "#H0- Normal districbution\n",
    "#H1-Not Nornmal Distribution\n",
    "\n",
    "df.diff=df[\"New Scheme (in thousands)\"]-df[\"Old Scheme (in thousands)\"]\n",
    "from scipy.stats import shapiro\n",
    "stat,p=shapiro(df.diff)\n",
    "print('Statistics=%.3f, p=%.3f' % (stat, p))\n",
    "\n",
    "df.diff.plot(kind='hist')\n",
    "\n",
    "#p>0.05 Accept Null--Normal Distribution\n"
   ]
  },
  {
   "cell_type": "code",
   "execution_count": 49,
   "metadata": {},
   "outputs": [
    {
     "data": {
      "text/plain": [
       "Ttest_relResult(statistic=1.5559143823544377, pvalue=0.13057553961337662)"
      ]
     },
     "execution_count": 49,
     "metadata": {},
     "output_type": "execute_result"
    }
   ],
   "source": [
    "#H0- No significant Difference\n",
    "#H1-Significant Difference\n",
    "\n",
    "from scipy.stats import ttest_rel\n",
    "two_sample = ttest_rel(df[\"New Scheme (in thousands)\"],df[\"Old Scheme (in thousands)\"])\n",
    "two_sample"
   ]
  },
  {
   "cell_type": "code",
   "execution_count": 50,
   "metadata": {},
   "outputs": [
    {
     "name": "stdout",
     "output_type": "stream",
     "text": [
      "t Test: Ttest_1sampResult(statistic=1.5559143823544377, pvalue=0.13057553961337662)\n"
     ]
    }
   ],
   "source": [
    "import scipy\n",
    "diff_1s_ttest_pValue = scipy.stats.ttest_1samp(df.diff, 0)\n",
    "print(\"t Test:\", diff_1s_ttest_pValue)"
   ]
  },
  {
   "cell_type": "code",
   "execution_count": 51,
   "metadata": {},
   "outputs": [],
   "source": [
    "#Conclusion: p>0.05 . Hence accept null - No significant difference"
   ]
  },
  {
   "cell_type": "markdown",
   "metadata": {},
   "source": [
    "4. Suppose it has been calculated that in order for Titan to break even, the average output must increase by £5000 in the scheme compared to the old scheme. If this figure is alternative hypothesis, what is:\n",
    "        a) The probability of a type 1 error? (2 points)\n",
    "        b) What is the p- value of the hypothesis test if we test for a difference of $5000? (8 points)\n",
    "        c) Power of the test (5 points)\n",
    "\n"
   ]
  },
  {
   "cell_type": "code",
   "execution_count": 56,
   "metadata": {},
   "outputs": [],
   "source": [
    "from scipy import stats\n",
    "from scipy.stats import t"
   ]
  },
  {
   "cell_type": "code",
   "execution_count": 57,
   "metadata": {},
   "outputs": [
    {
     "name": "stdout",
     "output_type": "stream",
     "text": [
      "-1.6991270265334977\n"
     ]
    }
   ],
   "source": [
    "tstat=stats.t.ppf(0.05,29)\n",
    "print(tstat)"
   ]
  },
  {
   "cell_type": "code",
   "execution_count": 64,
   "metadata": {},
   "outputs": [
    {
     "name": "stdout",
     "output_type": "stream",
     "text": [
      "2.570835545556901\n",
      "4.0\n",
      "0.3889785955886094\n",
      "0.6513540098877996\n"
     ]
    }
   ],
   "source": [
    "#H0: Diff between two means <5\n",
    "#H1: Diff between two means =5\n",
    "from math import sqrt\n",
    "std_diff=(df.diff.std())/sqrt(30)\n",
    "print(std_diff)\n",
    "x=df.diff.mean()\n",
    "print(x)\n",
    "z=(5-x)/std_diff\n",
    "print(z)\n",
    "pvalue=stats.norm.cdf(z)\n",
    "print (pvalue)"
   ]
  },
  {
   "cell_type": "code",
   "execution_count": 68,
   "metadata": {},
   "outputs": [
    {
     "name": "stdout",
     "output_type": "stream",
     "text": [
      "9.367849591901177\n",
      "7.811935209546739\n",
      "0.9999999999999972\n"
     ]
    }
   ],
   "source": [
    "b=5+(1.699*std_diff)\n",
    "print (b)\n",
    "z=b-4/(std_diff)\n",
    "print(z)\n",
    "#power of hypothesis\n",
    "print(stats.norm.cdf(z))"
   ]
  },
  {
   "cell_type": "code",
   "execution_count": null,
   "metadata": {},
   "outputs": [],
   "source": []
  }
 ],
 "metadata": {
  "kernelspec": {
   "display_name": "Python 3",
   "language": "python",
   "name": "python3"
  },
  "language_info": {
   "codemirror_mode": {
    "name": "ipython",
    "version": 3
   },
   "file_extension": ".py",
   "mimetype": "text/x-python",
   "name": "python",
   "nbconvert_exporter": "python",
   "pygments_lexer": "ipython3",
   "version": "3.7.0"
  }
 },
 "nbformat": 4,
 "nbformat_minor": 2
}
