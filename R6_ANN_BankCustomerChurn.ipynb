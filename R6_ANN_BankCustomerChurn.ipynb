{
 "cells": [
  {
   "cell_type": "code",
   "execution_count": 1,
   "metadata": {},
   "outputs": [],
   "source": [
    "import tensorflow as tf"
   ]
  },
  {
   "cell_type": "code",
   "execution_count": 2,
   "metadata": {},
   "outputs": [],
   "source": [
    "import pandas as pd"
   ]
  },
  {
   "cell_type": "code",
   "execution_count": 4,
   "metadata": {},
   "outputs": [],
   "source": [
    "df=pd.read_csv(\"C:/Somduity/Python/Datasets/Churn_Modelling.csv\")"
   ]
  },
  {
   "cell_type": "code",
   "execution_count": 115,
   "metadata": {},
   "outputs": [
    {
     "data": {
      "text/plain": [
       "(10000, 14)"
      ]
     },
     "execution_count": 115,
     "metadata": {},
     "output_type": "execute_result"
    }
   ],
   "source": [
    "df.head()\n",
    "df.shape"
   ]
  },
  {
   "cell_type": "code",
   "execution_count": 7,
   "metadata": {},
   "outputs": [
    {
     "data": {
      "text/plain": [
       "RowNumber          0\n",
       "CustomerId         0\n",
       "Surname            0\n",
       "CreditScore        0\n",
       "Geography          0\n",
       "Gender             0\n",
       "Age                0\n",
       "Tenure             0\n",
       "Balance            0\n",
       "NumOfProducts      0\n",
       "HasCrCard          0\n",
       "IsActiveMember     0\n",
       "EstimatedSalary    0\n",
       "Exited             0\n",
       "dtype: int64"
      ]
     },
     "execution_count": 7,
     "metadata": {},
     "output_type": "execute_result"
    }
   ],
   "source": [
    "df.isnull().sum()"
   ]
  },
  {
   "cell_type": "code",
   "execution_count": 9,
   "metadata": {},
   "outputs": [],
   "source": [
    "from sklearn.preprocessing import LabelEncoder\n",
    "from sklearn.preprocessing import OneHotEncoder"
   ]
  },
  {
   "cell_type": "code",
   "execution_count": 17,
   "metadata": {},
   "outputs": [
    {
     "data": {
      "text/html": [
       "<div>\n",
       "<style scoped>\n",
       "    .dataframe tbody tr th:only-of-type {\n",
       "        vertical-align: middle;\n",
       "    }\n",
       "\n",
       "    .dataframe tbody tr th {\n",
       "        vertical-align: top;\n",
       "    }\n",
       "\n",
       "    .dataframe thead th {\n",
       "        text-align: right;\n",
       "    }\n",
       "</style>\n",
       "<table border=\"1\" class=\"dataframe\">\n",
       "  <thead>\n",
       "    <tr style=\"text-align: right;\">\n",
       "      <th></th>\n",
       "      <th>RowNumber</th>\n",
       "      <th>CustomerId</th>\n",
       "      <th>Surname</th>\n",
       "      <th>CreditScore</th>\n",
       "      <th>Geography</th>\n",
       "      <th>Gender</th>\n",
       "      <th>Age</th>\n",
       "      <th>Tenure</th>\n",
       "      <th>Balance</th>\n",
       "      <th>NumOfProducts</th>\n",
       "      <th>HasCrCard</th>\n",
       "      <th>IsActiveMember</th>\n",
       "      <th>EstimatedSalary</th>\n",
       "      <th>Exited</th>\n",
       "    </tr>\n",
       "  </thead>\n",
       "  <tbody>\n",
       "    <tr>\n",
       "      <th>0</th>\n",
       "      <td>1</td>\n",
       "      <td>15634602</td>\n",
       "      <td>Hargrave</td>\n",
       "      <td>619</td>\n",
       "      <td>0</td>\n",
       "      <td>0</td>\n",
       "      <td>42</td>\n",
       "      <td>2</td>\n",
       "      <td>0.00</td>\n",
       "      <td>1</td>\n",
       "      <td>1</td>\n",
       "      <td>1</td>\n",
       "      <td>101348.88</td>\n",
       "      <td>1</td>\n",
       "    </tr>\n",
       "    <tr>\n",
       "      <th>1</th>\n",
       "      <td>2</td>\n",
       "      <td>15647311</td>\n",
       "      <td>Hill</td>\n",
       "      <td>608</td>\n",
       "      <td>2</td>\n",
       "      <td>0</td>\n",
       "      <td>41</td>\n",
       "      <td>1</td>\n",
       "      <td>83807.86</td>\n",
       "      <td>1</td>\n",
       "      <td>0</td>\n",
       "      <td>1</td>\n",
       "      <td>112542.58</td>\n",
       "      <td>0</td>\n",
       "    </tr>\n",
       "    <tr>\n",
       "      <th>2</th>\n",
       "      <td>3</td>\n",
       "      <td>15619304</td>\n",
       "      <td>Onio</td>\n",
       "      <td>502</td>\n",
       "      <td>0</td>\n",
       "      <td>0</td>\n",
       "      <td>42</td>\n",
       "      <td>8</td>\n",
       "      <td>159660.80</td>\n",
       "      <td>3</td>\n",
       "      <td>1</td>\n",
       "      <td>0</td>\n",
       "      <td>113931.57</td>\n",
       "      <td>1</td>\n",
       "    </tr>\n",
       "    <tr>\n",
       "      <th>3</th>\n",
       "      <td>4</td>\n",
       "      <td>15701354</td>\n",
       "      <td>Boni</td>\n",
       "      <td>699</td>\n",
       "      <td>0</td>\n",
       "      <td>0</td>\n",
       "      <td>39</td>\n",
       "      <td>1</td>\n",
       "      <td>0.00</td>\n",
       "      <td>2</td>\n",
       "      <td>0</td>\n",
       "      <td>0</td>\n",
       "      <td>93826.63</td>\n",
       "      <td>0</td>\n",
       "    </tr>\n",
       "    <tr>\n",
       "      <th>4</th>\n",
       "      <td>5</td>\n",
       "      <td>15737888</td>\n",
       "      <td>Mitchell</td>\n",
       "      <td>850</td>\n",
       "      <td>2</td>\n",
       "      <td>0</td>\n",
       "      <td>43</td>\n",
       "      <td>2</td>\n",
       "      <td>125510.82</td>\n",
       "      <td>1</td>\n",
       "      <td>1</td>\n",
       "      <td>1</td>\n",
       "      <td>79084.10</td>\n",
       "      <td>0</td>\n",
       "    </tr>\n",
       "  </tbody>\n",
       "</table>\n",
       "</div>"
      ],
      "text/plain": [
       "   RowNumber  CustomerId   Surname  CreditScore  Geography  Gender  Age  \\\n",
       "0          1    15634602  Hargrave          619          0       0   42   \n",
       "1          2    15647311      Hill          608          2       0   41   \n",
       "2          3    15619304      Onio          502          0       0   42   \n",
       "3          4    15701354      Boni          699          0       0   39   \n",
       "4          5    15737888  Mitchell          850          2       0   43   \n",
       "\n",
       "   Tenure    Balance  NumOfProducts  HasCrCard  IsActiveMember  \\\n",
       "0       2       0.00              1          1               1   \n",
       "1       1   83807.86              1          0               1   \n",
       "2       8  159660.80              3          1               0   \n",
       "3       1       0.00              2          0               0   \n",
       "4       2  125510.82              1          1               1   \n",
       "\n",
       "   EstimatedSalary  Exited  \n",
       "0        101348.88       1  \n",
       "1        112542.58       0  \n",
       "2        113931.57       1  \n",
       "3         93826.63       0  \n",
       "4         79084.10       0  "
      ]
     },
     "execution_count": 17,
     "metadata": {},
     "output_type": "execute_result"
    }
   ],
   "source": [
    "label_encoder=LabelEncoder()\n",
    "df.Geography=label_encoder_geo.fit_transform(df.Geography)\n",
    "df.Gender=label_encoder.fit_transform(df.Gender)\n",
    "df.head()\n",
    "\n"
   ]
  },
  {
   "cell_type": "code",
   "execution_count": 96,
   "metadata": {},
   "outputs": [],
   "source": [
    "from sklearn.preprocessing import StandardScaler\n",
    "from sklearn.model_selection import train_test_split\n",
    "import numpy as np"
   ]
  },
  {
   "cell_type": "code",
   "execution_count": 116,
   "metadata": {},
   "outputs": [],
   "source": [
    "df1=df.drop(columns={'Exited','RowNumber','CustomerId','Surname'})"
   ]
  },
  {
   "cell_type": "code",
   "execution_count": 118,
   "metadata": {},
   "outputs": [
    {
     "data": {
      "text/plain": [
       "(10000, 10)"
      ]
     },
     "execution_count": 118,
     "metadata": {},
     "output_type": "execute_result"
    }
   ],
   "source": [
    "X=np.array(df1)\n",
    "X.shape\n"
   ]
  },
  {
   "cell_type": "code",
   "execution_count": 120,
   "metadata": {},
   "outputs": [
    {
     "data": {
      "text/plain": [
       "(10000,)"
      ]
     },
     "execution_count": 120,
     "metadata": {},
     "output_type": "execute_result"
    }
   ],
   "source": [
    "df2=df['Exited']\n",
    "y=np.array(df2)\n",
    "y.shape"
   ]
  },
  {
   "cell_type": "code",
   "execution_count": 121,
   "metadata": {},
   "outputs": [],
   "source": [
    "X_train,X_test,y_train,y_test=train_test_split(X,y,test_size=0.30)"
   ]
  },
  {
   "cell_type": "code",
   "execution_count": 122,
   "metadata": {},
   "outputs": [],
   "source": [
    "st_sc=StandardScaler()\n",
    "X_train_scaled=st_sc.fit_transform(X_train)\n",
    "X_test_scaled=st_sc.fit_transform(X_test)\n",
    "\n"
   ]
  },
  {
   "cell_type": "code",
   "execution_count": 101,
   "metadata": {},
   "outputs": [],
   "source": [
    "from tensorflow import keras"
   ]
  },
  {
   "cell_type": "code",
   "execution_count": 102,
   "metadata": {},
   "outputs": [],
   "source": [
    "from keras.models import Sequential"
   ]
  },
  {
   "cell_type": "code",
   "execution_count": 103,
   "metadata": {},
   "outputs": [],
   "source": [
    "from keras.layers import Dense,Activation"
   ]
  },
  {
   "cell_type": "code",
   "execution_count": 123,
   "metadata": {},
   "outputs": [
    {
     "data": {
      "text/plain": [
       "(7000, 10)"
      ]
     },
     "execution_count": 123,
     "metadata": {},
     "output_type": "execute_result"
    }
   ],
   "source": [
    "X_train_scaled.shape"
   ]
  },
  {
   "cell_type": "code",
   "execution_count": 124,
   "metadata": {},
   "outputs": [
    {
     "data": {
      "text/plain": [
       "(3000,)"
      ]
     },
     "execution_count": 124,
     "metadata": {},
     "output_type": "execute_result"
    }
   ],
   "source": [
    "y_test.shape"
   ]
  },
  {
   "cell_type": "code",
   "execution_count": 130,
   "metadata": {},
   "outputs": [],
   "source": [
    "model=Sequential()"
   ]
  },
  {
   "cell_type": "code",
   "execution_count": 131,
   "metadata": {},
   "outputs": [],
   "source": [
    "model.add(Dense(units=6,input_dim=10,activation='relu'))\n",
    "model.add(Dense(units=6,activation='relu'))\n",
    "model.add(Dense(1,activation='sigmoid'))\n"
   ]
  },
  {
   "cell_type": "code",
   "execution_count": 132,
   "metadata": {},
   "outputs": [],
   "source": [
    "model.compile(optimizer='adam',loss='binary_crossentropy',metrics=['accuracy'])"
   ]
  },
  {
   "cell_type": "code",
   "execution_count": 133,
   "metadata": {},
   "outputs": [
    {
     "name": "stdout",
     "output_type": "stream",
     "text": [
      "WARNING:tensorflow:From C:\\Users\\somduitybh046\\AppData\\Local\\Continuum\\anaconda3\\lib\\site-packages\\tensorflow\\python\\ops\\math_ops.py:3066: to_int32 (from tensorflow.python.ops.math_ops) is deprecated and will be removed in a future version.\n",
      "Instructions for updating:\n",
      "Use tf.cast instead.\n",
      "Epoch 1/100\n",
      "7000/7000 [==============================] - 3s 401us/step - loss: 0.5459 - acc: 0.7899\n",
      "Epoch 2/100\n",
      "7000/7000 [==============================] - 1s 187us/step - loss: 0.4789 - acc: 0.7946\n",
      "Epoch 3/100\n",
      "7000/7000 [==============================] - 1s 185us/step - loss: 0.4507 - acc: 0.7954\n",
      "Epoch 4/100\n",
      "7000/7000 [==============================] - 1s 176us/step - loss: 0.4376 - acc: 0.7994\n",
      "Epoch 5/100\n",
      "7000/7000 [==============================] - 1s 185us/step - loss: 0.4305 - acc: 0.8074\n",
      "Epoch 6/100\n",
      "7000/7000 [==============================] - 1s 181us/step - loss: 0.4244 - acc: 0.8066\n",
      "Epoch 7/100\n",
      "7000/7000 [==============================] - 1s 172us/step - loss: 0.4176 - acc: 0.8114\n",
      "Epoch 8/100\n",
      "7000/7000 [==============================] - 1s 177us/step - loss: 0.4109 - acc: 0.8131\n",
      "Epoch 9/100\n",
      "7000/7000 [==============================] - 1s 193us/step - loss: 0.4048 - acc: 0.8186\n",
      "Epoch 10/100\n",
      "7000/7000 [==============================] - 1s 185us/step - loss: 0.3992 - acc: 0.8187\n",
      "Epoch 11/100\n",
      "7000/7000 [==============================] - 1s 184us/step - loss: 0.3937 - acc: 0.8236\n",
      "Epoch 12/100\n",
      "7000/7000 [==============================] - 1s 176us/step - loss: 0.3866 - acc: 0.8340\n",
      "Epoch 13/100\n",
      "7000/7000 [==============================] - 1s 193us/step - loss: 0.3782 - acc: 0.8433\n",
      "Epoch 14/100\n",
      "7000/7000 [==============================] - 1s 182us/step - loss: 0.3701 - acc: 0.8451\n",
      "Epoch 15/100\n",
      "7000/7000 [==============================] - 1s 177us/step - loss: 0.3637 - acc: 0.8473\n",
      "Epoch 16/100\n",
      "7000/7000 [==============================] - 1s 183us/step - loss: 0.3587 - acc: 0.8509\n",
      "Epoch 17/100\n",
      "7000/7000 [==============================] - 1s 179us/step - loss: 0.3551 - acc: 0.8519\n",
      "Epoch 18/100\n",
      "7000/7000 [==============================] - 1s 188us/step - loss: 0.3524 - acc: 0.8526\n",
      "Epoch 19/100\n",
      "7000/7000 [==============================] - 1s 186us/step - loss: 0.3508 - acc: 0.8551\n",
      "Epoch 20/100\n",
      "7000/7000 [==============================] - 1s 185us/step - loss: 0.3493 - acc: 0.8576\n",
      "Epoch 21/100\n",
      "7000/7000 [==============================] - 1s 182us/step - loss: 0.3484 - acc: 0.8573\n",
      "Epoch 22/100\n",
      "7000/7000 [==============================] - 1s 175us/step - loss: 0.3469 - acc: 0.8600\n",
      "Epoch 23/100\n",
      "7000/7000 [==============================] - 1s 182us/step - loss: 0.3465 - acc: 0.8577\n",
      "Epoch 24/100\n",
      "7000/7000 [==============================] - 1s 179us/step - loss: 0.3456 - acc: 0.8594\n",
      "Epoch 25/100\n",
      "7000/7000 [==============================] - 1s 184us/step - loss: 0.3448 - acc: 0.8614\n",
      "Epoch 26/100\n",
      "7000/7000 [==============================] - 1s 181us/step - loss: 0.3447 - acc: 0.8600\n",
      "Epoch 27/100\n",
      "7000/7000 [==============================] - 1s 180us/step - loss: 0.3440 - acc: 0.8601\n",
      "Epoch 28/100\n",
      "7000/7000 [==============================] - 1s 180us/step - loss: 0.3438 - acc: 0.8597\n",
      "Epoch 29/100\n",
      "7000/7000 [==============================] - 1s 180us/step - loss: 0.3440 - acc: 0.8604\n",
      "Epoch 30/100\n",
      "7000/7000 [==============================] - 1s 180us/step - loss: 0.3437 - acc: 0.8593\n",
      "Epoch 31/100\n",
      "7000/7000 [==============================] - 1s 183us/step - loss: 0.3435 - acc: 0.8593\n",
      "Epoch 32/100\n",
      "7000/7000 [==============================] - 1s 175us/step - loss: 0.3433 - acc: 0.8616\n",
      "Epoch 33/100\n",
      "7000/7000 [==============================] - 1s 176us/step - loss: 0.3432 - acc: 0.8594\n",
      "Epoch 34/100\n",
      "7000/7000 [==============================] - 1s 205us/step - loss: 0.3427 - acc: 0.8597\n",
      "Epoch 35/100\n",
      "7000/7000 [==============================] - 1s 178us/step - loss: 0.3430 - acc: 0.8594\n",
      "Epoch 36/100\n",
      "7000/7000 [==============================] - 1s 172us/step - loss: 0.3426 - acc: 0.8586\n",
      "Epoch 37/100\n",
      "7000/7000 [==============================] - 1s 178us/step - loss: 0.3421 - acc: 0.8593\n",
      "Epoch 38/100\n",
      "7000/7000 [==============================] - 1s 170us/step - loss: 0.3422 - acc: 0.8620\n",
      "Epoch 39/100\n",
      "7000/7000 [==============================] - 1s 179us/step - loss: 0.3418 - acc: 0.8603\n",
      "Epoch 40/100\n",
      "7000/7000 [==============================] - 1s 174us/step - loss: 0.3420 - acc: 0.8610\n",
      "Epoch 41/100\n",
      "7000/7000 [==============================] - 1s 175us/step - loss: 0.3416 - acc: 0.8600\n",
      "Epoch 42/100\n",
      "7000/7000 [==============================] - 1s 170us/step - loss: 0.3419 - acc: 0.8599\n",
      "Epoch 43/100\n",
      "7000/7000 [==============================] - 1s 173us/step - loss: 0.3420 - acc: 0.8593\n",
      "Epoch 44/100\n",
      "7000/7000 [==============================] - 1s 171us/step - loss: 0.3419 - acc: 0.8597\n",
      "Epoch 45/100\n",
      "7000/7000 [==============================] - 1s 178us/step - loss: 0.3414 - acc: 0.8599\n",
      "Epoch 46/100\n",
      "7000/7000 [==============================] - 1s 177us/step - loss: 0.3412 - acc: 0.8600\n",
      "Epoch 47/100\n",
      "7000/7000 [==============================] - 1s 205us/step - loss: 0.3415 - acc: 0.8594\n",
      "Epoch 48/100\n",
      "7000/7000 [==============================] - 1s 185us/step - loss: 0.3415 - acc: 0.8619\n",
      "Epoch 49/100\n",
      "7000/7000 [==============================] - 1s 206us/step - loss: 0.3413 - acc: 0.8613\n",
      "Epoch 50/100\n",
      "7000/7000 [==============================] - 2s 222us/step - loss: 0.3411 - acc: 0.8609\n",
      "Epoch 51/100\n",
      "7000/7000 [==============================] - 1s 161us/step - loss: 0.3413 - acc: 0.8601\n",
      "Epoch 52/100\n",
      "7000/7000 [==============================] - 1s 169us/step - loss: 0.3409 - acc: 0.8596\n",
      "Epoch 53/100\n",
      "7000/7000 [==============================] - 1s 163us/step - loss: 0.3406 - acc: 0.8600\n",
      "Epoch 54/100\n",
      "7000/7000 [==============================] - ETA: 0s - loss: 0.3422 - acc: 0.859 - 1s 156us/step - loss: 0.3407 - acc: 0.8601\n",
      "Epoch 55/100\n",
      "7000/7000 [==============================] - 1s 171us/step - loss: 0.3405 - acc: 0.8594\n",
      "Epoch 56/100\n",
      "7000/7000 [==============================] - 1s 156us/step - loss: 0.3404 - acc: 0.8603\n",
      "Epoch 57/100\n",
      "7000/7000 [==============================] - 1s 188us/step - loss: 0.3405 - acc: 0.8604\n",
      "Epoch 58/100\n",
      "7000/7000 [==============================] - 1s 178us/step - loss: 0.3399 - acc: 0.8591\n",
      "Epoch 59/100\n",
      "7000/7000 [==============================] - 1s 185us/step - loss: 0.3404 - acc: 0.8599\n",
      "Epoch 60/100\n",
      "7000/7000 [==============================] - 1s 174us/step - loss: 0.3400 - acc: 0.8603\n",
      "Epoch 61/100\n",
      "7000/7000 [==============================] - 1s 178us/step - loss: 0.3400 - acc: 0.8620\n",
      "Epoch 62/100\n",
      "7000/7000 [==============================] - 1s 156us/step - loss: 0.3395 - acc: 0.8601\n",
      "Epoch 63/100\n",
      "7000/7000 [==============================] - 1s 159us/step - loss: 0.3393 - acc: 0.8597\n",
      "Epoch 64/100\n",
      "7000/7000 [==============================] - 1s 166us/step - loss: 0.3394 - acc: 0.8596\n",
      "Epoch 65/100\n",
      "7000/7000 [==============================] - 1s 151us/step - loss: 0.3394 - acc: 0.8593\n",
      "Epoch 66/100\n",
      "7000/7000 [==============================] - 1s 186us/step - loss: 0.3397 - acc: 0.8599\n",
      "Epoch 67/100\n",
      "7000/7000 [==============================] - 1s 165us/step - loss: 0.3397 - acc: 0.8596\n",
      "Epoch 68/100\n",
      "7000/7000 [==============================] - 1s 175us/step - loss: 0.3394 - acc: 0.8597\n",
      "Epoch 69/100\n",
      "7000/7000 [==============================] - 1s 169us/step - loss: 0.3389 - acc: 0.8617\n",
      "Epoch 70/100\n",
      "7000/7000 [==============================] - 1s 172us/step - loss: 0.3394 - acc: 0.8600\n",
      "Epoch 71/100\n",
      "7000/7000 [==============================] - 1s 170us/step - loss: 0.3392 - acc: 0.8616\n",
      "Epoch 72/100\n",
      "7000/7000 [==============================] - 1s 175us/step - loss: 0.3398 - acc: 0.8597\n",
      "Epoch 73/100\n",
      "7000/7000 [==============================] - 1s 166us/step - loss: 0.3392 - acc: 0.8613\n",
      "Epoch 74/100\n",
      "7000/7000 [==============================] - 1s 179us/step - loss: 0.3393 - acc: 0.8613\n",
      "Epoch 75/100\n",
      "7000/7000 [==============================] - 1s 194us/step - loss: 0.3387 - acc: 0.8617 1s - \n",
      "Epoch 76/100\n",
      "7000/7000 [==============================] - 1s 165us/step - loss: 0.3384 - acc: 0.8614\n",
      "Epoch 77/100\n",
      "7000/7000 [==============================] - 1s 199us/step - loss: 0.3389 - acc: 0.8613\n",
      "Epoch 78/100\n"
     ]
    },
    {
     "name": "stdout",
     "output_type": "stream",
     "text": [
      "7000/7000 [==============================] - 1s 181us/step - loss: 0.3384 - acc: 0.8610\n",
      "Epoch 79/100\n",
      "7000/7000 [==============================] - 1s 189us/step - loss: 0.3378 - acc: 0.8620\n",
      "Epoch 80/100\n",
      "7000/7000 [==============================] - 1s 188us/step - loss: 0.3386 - acc: 0.8597\n",
      "Epoch 81/100\n",
      "7000/7000 [==============================] - 1s 177us/step - loss: 0.3382 - acc: 0.8614\n",
      "Epoch 82/100\n",
      "7000/7000 [==============================] - 1s 189us/step - loss: 0.3384 - acc: 0.8616\n",
      "Epoch 83/100\n",
      "7000/7000 [==============================] - 1s 186us/step - loss: 0.3383 - acc: 0.8627\n",
      "Epoch 84/100\n",
      "7000/7000 [==============================] - 1s 186us/step - loss: 0.3384 - acc: 0.8609\n",
      "Epoch 85/100\n",
      "7000/7000 [==============================] - 1s 179us/step - loss: 0.3383 - acc: 0.8621\n",
      "Epoch 86/100\n",
      "7000/7000 [==============================] - 1s 171us/step - loss: 0.3383 - acc: 0.8609\n",
      "Epoch 87/100\n",
      "7000/7000 [==============================] - 1s 179us/step - loss: 0.3379 - acc: 0.8613\n",
      "Epoch 88/100\n",
      "7000/7000 [==============================] - 1s 178us/step - loss: 0.3376 - acc: 0.8610\n",
      "Epoch 89/100\n",
      "7000/7000 [==============================] - 1s 179us/step - loss: 0.3380 - acc: 0.8603\n",
      "Epoch 90/100\n",
      "7000/7000 [==============================] - 1s 173us/step - loss: 0.3381 - acc: 0.8613\n",
      "Epoch 91/100\n",
      "7000/7000 [==============================] - 1s 169us/step - loss: 0.3380 - acc: 0.8623\n",
      "Epoch 92/100\n",
      "7000/7000 [==============================] - 1s 173us/step - loss: 0.3380 - acc: 0.8619\n",
      "Epoch 93/100\n",
      "7000/7000 [==============================] - 1s 175us/step - loss: 0.3379 - acc: 0.8616\n",
      "Epoch 94/100\n",
      "7000/7000 [==============================] - 1s 184us/step - loss: 0.3370 - acc: 0.8611\n",
      "Epoch 95/100\n",
      "7000/7000 [==============================] - 1s 198us/step - loss: 0.3377 - acc: 0.8603\n",
      "Epoch 96/100\n",
      "7000/7000 [==============================] - 2s 232us/step - loss: 0.3375 - acc: 0.8623\n",
      "Epoch 97/100\n",
      "7000/7000 [==============================] - 2s 222us/step - loss: 0.3378 - acc: 0.8619\n",
      "Epoch 98/100\n",
      "7000/7000 [==============================] - 1s 203us/step - loss: 0.3370 - acc: 0.8610\n",
      "Epoch 99/100\n",
      "7000/7000 [==============================] - 1s 156us/step - loss: 0.3376 - acc: 0.8617\n",
      "Epoch 100/100\n",
      "7000/7000 [==============================] - 1s 164us/step - loss: 0.3378 - acc: 0.8610\n"
     ]
    },
    {
     "data": {
      "text/plain": [
       "<keras.callbacks.History at 0x203e923b518>"
      ]
     },
     "execution_count": 133,
     "metadata": {},
     "output_type": "execute_result"
    }
   ],
   "source": [
    "model.fit(X_train_scaled,y_train,epochs=100,batch_size=11)"
   ]
  },
  {
   "cell_type": "code",
   "execution_count": 135,
   "metadata": {},
   "outputs": [
    {
     "name": "stdout",
     "output_type": "stream",
     "text": [
      "[[0.02846068]\n",
      " [0.6123751 ]\n",
      " [0.3366442 ]\n",
      " ...\n",
      " [0.08494183]\n",
      " [0.05191252]\n",
      " [0.99907774]]\n"
     ]
    }
   ],
   "source": [
    "y_pred=model.predict(X_test_scaled)\n",
    "print(y_pred)\n"
   ]
  },
  {
   "cell_type": "code",
   "execution_count": 136,
   "metadata": {},
   "outputs": [
    {
     "name": "stdout",
     "output_type": "stream",
     "text": [
      "[[False]\n",
      " [ True]\n",
      " [False]\n",
      " ...\n",
      " [False]\n",
      " [False]\n",
      " [ True]]\n"
     ]
    }
   ],
   "source": [
    "y_pred = (y_pred > 0.5)\n",
    "print(y_pred)"
   ]
  },
  {
   "cell_type": "code",
   "execution_count": 137,
   "metadata": {},
   "outputs": [],
   "source": [
    "from sklearn.metrics import confusion_matrix"
   ]
  },
  {
   "cell_type": "code",
   "execution_count": 138,
   "metadata": {},
   "outputs": [],
   "source": [
    "conf_mat=confusion_matrix(y_test,y_pred)"
   ]
  },
  {
   "cell_type": "code",
   "execution_count": 139,
   "metadata": {},
   "outputs": [
    {
     "name": "stdout",
     "output_type": "stream",
     "text": [
      "[[2323   78]\n",
      " [ 329  270]]\n"
     ]
    }
   ],
   "source": [
    "print(conf_mat)"
   ]
  },
  {
   "cell_type": "code",
   "execution_count": 140,
   "metadata": {},
   "outputs": [],
   "source": [
    "from sklearn.metrics import accuracy_score"
   ]
  },
  {
   "cell_type": "code",
   "execution_count": 141,
   "metadata": {},
   "outputs": [
    {
     "name": "stdout",
     "output_type": "stream",
     "text": [
      "0.8643333333333333\n"
     ]
    }
   ],
   "source": [
    "acc=accuracy_score(y_test,y_pred)\n",
    "print(acc)"
   ]
  },
  {
   "cell_type": "code",
   "execution_count": null,
   "metadata": {},
   "outputs": [],
   "source": []
  }
 ],
 "metadata": {
  "kernelspec": {
   "display_name": "Python 3",
   "language": "python",
   "name": "python3"
  },
  "language_info": {
   "codemirror_mode": {
    "name": "ipython",
    "version": 3
   },
   "file_extension": ".py",
   "mimetype": "text/x-python",
   "name": "python",
   "nbconvert_exporter": "python",
   "pygments_lexer": "ipython3",
   "version": "3.7.0"
  }
 },
 "nbformat": 4,
 "nbformat_minor": 2
}
