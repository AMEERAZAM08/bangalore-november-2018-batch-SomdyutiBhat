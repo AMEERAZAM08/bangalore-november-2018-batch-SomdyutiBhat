{
 "cells": [
  {
   "cell_type": "markdown",
   "metadata": {
    "colab_type": "text",
    "id": "6Rc_ahEnTF9m"
   },
   "source": [
    "# Predict tags on StackOverflow with linear models"
   ]
  },
  {
   "cell_type": "markdown",
   "metadata": {
    "colab_type": "text",
    "id": "E5hmogPBTF9p"
   },
   "source": [
    "In this assignment you will learn how to predict tags for posts from [StackOverflow](https://stackoverflow.com). To solve this task you will use multilabel classification approach.\n",
    "\n",
    "### Libraries\n",
    "\n",
    "In this task you will need the following libraries:\n",
    "- [Numpy](http://www.numpy.org) — a package for scientific computing.\n",
    "- [Pandas](https://pandas.pydata.org) — a library providing high-performance, easy-to-use data structures and data analysis tools for the Python\n",
    "- [scikit-learn](http://scikit-learn.org/stable/index.html) — a tool for data mining and data analysis.\n",
    "- [NLTK](http://www.nltk.org) — a platform to work with natural language."
   ]
  },
  {
   "cell_type": "markdown",
   "metadata": {
    "colab_type": "text",
    "id": "zSq4Uzh6TF9q"
   },
   "source": [
    "### Data\n",
    "\n",
    "You can find all data required for this assignment into the folder `/data`."
   ]
  },
  {
   "cell_type": "markdown",
   "metadata": {
    "colab_type": "text",
    "id": "2V1gba1KTF9r"
   },
   "source": [
    "### Text preprocessing"
   ]
  },
  {
   "cell_type": "markdown",
   "metadata": {
    "colab_type": "text",
    "id": "WnvsWcP9TF9t"
   },
   "source": [
    "For this assignment you will need to use a list of stop words. It can be downloaded from *nltk*:"
   ]
  },
  {
   "cell_type": "code",
   "execution_count": 1,
   "metadata": {
    "colab": {
     "base_uri": "https://localhost:8080/",
     "height": 51
    },
    "colab_type": "code",
    "id": "R-RxVRvsTF9u",
    "outputId": "bb9bb432-14c0-4fb5-878c-e02bd816423e"
   },
   "outputs": [
    {
     "name": "stdout",
     "output_type": "stream",
     "text": [
      "[nltk_data] Downloading package stopwords to\n",
      "[nltk_data]     C:\\Users\\somduitybh046\\AppData\\Roaming\\nltk_data...\n",
      "[nltk_data]   Unzipping corpora\\stopwords.zip.\n"
     ]
    }
   ],
   "source": [
    "import nltk\n",
    "nltk.download('stopwords')\n",
    "from nltk.corpus import stopwords"
   ]
  },
  {
   "cell_type": "markdown",
   "metadata": {
    "colab_type": "text",
    "id": "ErHWjimITF91"
   },
   "source": [
    "In this task you will deal with a dataset of post titles from StackOverflow. You are provided a split to 3 sets: *train*, *validation* and *test*. All corpora (except for *test*) contain titles of the posts and corresponding tags (100 tags are available). The *test* set doesn't contain answers. Upload the corpora using *pandas* and look at the data:"
   ]
  },
  {
   "cell_type": "code",
   "execution_count": 2,
   "metadata": {
    "colab": {},
    "colab_type": "code",
    "id": "-ufeO-nfVGha"
   },
   "outputs": [],
   "source": [
    "from ast import literal_eval\n",
    "import pandas as pd\n",
    "import numpy as np"
   ]
  },
  {
   "cell_type": "markdown",
   "metadata": {
    "colab_type": "text",
    "id": "pDahiblaU-e7"
   },
   "source": [
    "Literal_eval package takes care of the preprocessing for the string so that it can be used in python. To know more on literal_eval please see the below documentation <br>\n",
    "https://kite.com/python/docs/ast.literal_eval"
   ]
  },
  {
   "cell_type": "markdown",
   "metadata": {
    "colab_type": "text",
    "id": "bubX7TSLVLXR"
   },
   "source": [
    "## Task 1: Create training, testing and validation data from the files given. Use title to be the independent variable and tags to be the dependent variable ( 5 points)"
   ]
  },
  {
   "cell_type": "markdown",
   "metadata": {
    "colab_type": "text",
    "id": "KBFMf3bhVPb_"
   },
   "source": [
    "Note: Ensure you apply literal_eval function on the tags column to ensure all the tags are readable in python"
   ]
  },
  {
   "cell_type": "code",
   "execution_count": 3,
   "metadata": {},
   "outputs": [],
   "source": [
    "import pandas as pd"
   ]
  },
  {
   "cell_type": "code",
   "execution_count": 4,
   "metadata": {},
   "outputs": [],
   "source": [
    "def read(filename):\n",
    "    data = pd.read_csv(filename, sep='\\t')\n",
    "    data['tags'] = data['tags'].apply(literal_eval)\n",
    "    return data"
   ]
  },
  {
   "cell_type": "code",
   "execution_count": 8,
   "metadata": {
    "colab": {},
    "colab_type": "code",
    "id": "x8iH7o77TF96"
   },
   "outputs": [],
   "source": [
    "df_train=read('C:/Somduity/Python/Statistical NLP/Files_required_for_Stats_NLP_Project/train.tsv')"
   ]
  },
  {
   "cell_type": "code",
   "execution_count": 9,
   "metadata": {},
   "outputs": [
    {
     "data": {
      "text/html": [
       "<div>\n",
       "<style scoped>\n",
       "    .dataframe tbody tr th:only-of-type {\n",
       "        vertical-align: middle;\n",
       "    }\n",
       "\n",
       "    .dataframe tbody tr th {\n",
       "        vertical-align: top;\n",
       "    }\n",
       "\n",
       "    .dataframe thead th {\n",
       "        text-align: right;\n",
       "    }\n",
       "</style>\n",
       "<table border=\"1\" class=\"dataframe\">\n",
       "  <thead>\n",
       "    <tr style=\"text-align: right;\">\n",
       "      <th></th>\n",
       "      <th>title</th>\n",
       "      <th>tags</th>\n",
       "    </tr>\n",
       "  </thead>\n",
       "  <tbody>\n",
       "    <tr>\n",
       "      <th>0</th>\n",
       "      <td>How to draw a stacked dotplot in R?</td>\n",
       "      <td>[r]</td>\n",
       "    </tr>\n",
       "    <tr>\n",
       "      <th>1</th>\n",
       "      <td>mysql select all records where a datetime fiel...</td>\n",
       "      <td>[php, mysql]</td>\n",
       "    </tr>\n",
       "    <tr>\n",
       "      <th>2</th>\n",
       "      <td>How to terminate windows phone 8.1 app</td>\n",
       "      <td>[c#]</td>\n",
       "    </tr>\n",
       "    <tr>\n",
       "      <th>3</th>\n",
       "      <td>get current time in a specific country via jquery</td>\n",
       "      <td>[javascript, jquery]</td>\n",
       "    </tr>\n",
       "    <tr>\n",
       "      <th>4</th>\n",
       "      <td>Configuring Tomcat to Use SSL</td>\n",
       "      <td>[java]</td>\n",
       "    </tr>\n",
       "  </tbody>\n",
       "</table>\n",
       "</div>"
      ],
      "text/plain": [
       "                                               title                  tags\n",
       "0                How to draw a stacked dotplot in R?                   [r]\n",
       "1  mysql select all records where a datetime fiel...          [php, mysql]\n",
       "2             How to terminate windows phone 8.1 app                  [c#]\n",
       "3  get current time in a specific country via jquery  [javascript, jquery]\n",
       "4                      Configuring Tomcat to Use SSL                [java]"
      ]
     },
     "execution_count": 9,
     "metadata": {},
     "output_type": "execute_result"
    }
   ],
   "source": [
    "df_train.head()"
   ]
  },
  {
   "cell_type": "code",
   "execution_count": 10,
   "metadata": {
    "colab": {},
    "colab_type": "code",
    "id": "HPaUfSVvTF99"
   },
   "outputs": [],
   "source": [
    "df_validation=read('C:/Somduity/Python/Statistical NLP/Files_required_for_Stats_NLP_Project/validation.tsv')"
   ]
  },
  {
   "cell_type": "code",
   "execution_count": 11,
   "metadata": {},
   "outputs": [
    {
     "data": {
      "text/html": [
       "<div>\n",
       "<style scoped>\n",
       "    .dataframe tbody tr th:only-of-type {\n",
       "        vertical-align: middle;\n",
       "    }\n",
       "\n",
       "    .dataframe tbody tr th {\n",
       "        vertical-align: top;\n",
       "    }\n",
       "\n",
       "    .dataframe thead th {\n",
       "        text-align: right;\n",
       "    }\n",
       "</style>\n",
       "<table border=\"1\" class=\"dataframe\">\n",
       "  <thead>\n",
       "    <tr style=\"text-align: right;\">\n",
       "      <th></th>\n",
       "      <th>title</th>\n",
       "      <th>tags</th>\n",
       "    </tr>\n",
       "  </thead>\n",
       "  <tbody>\n",
       "    <tr>\n",
       "      <th>0</th>\n",
       "      <td>Why odbc_exec always fail?</td>\n",
       "      <td>[php, sql]</td>\n",
       "    </tr>\n",
       "    <tr>\n",
       "      <th>1</th>\n",
       "      <td>Access a base classes variable from within a c...</td>\n",
       "      <td>[javascript]</td>\n",
       "    </tr>\n",
       "    <tr>\n",
       "      <th>2</th>\n",
       "      <td>Content-Type \"application/json\" not required i...</td>\n",
       "      <td>[ruby-on-rails, ruby]</td>\n",
       "    </tr>\n",
       "    <tr>\n",
       "      <th>3</th>\n",
       "      <td>Sessions in Sinatra: Used to Pass Variable</td>\n",
       "      <td>[ruby, session]</td>\n",
       "    </tr>\n",
       "    <tr>\n",
       "      <th>4</th>\n",
       "      <td>Getting error - type \"json\" does not exist - i...</td>\n",
       "      <td>[ruby-on-rails, ruby, json]</td>\n",
       "    </tr>\n",
       "  </tbody>\n",
       "</table>\n",
       "</div>"
      ],
      "text/plain": [
       "                                               title  \\\n",
       "0                         Why odbc_exec always fail?   \n",
       "1  Access a base classes variable from within a c...   \n",
       "2  Content-Type \"application/json\" not required i...   \n",
       "3         Sessions in Sinatra: Used to Pass Variable   \n",
       "4  Getting error - type \"json\" does not exist - i...   \n",
       "\n",
       "                          tags  \n",
       "0                   [php, sql]  \n",
       "1                 [javascript]  \n",
       "2        [ruby-on-rails, ruby]  \n",
       "3              [ruby, session]  \n",
       "4  [ruby-on-rails, ruby, json]  "
      ]
     },
     "execution_count": 11,
     "metadata": {},
     "output_type": "execute_result"
    }
   ],
   "source": [
    "df_validation.head()"
   ]
  },
  {
   "cell_type": "code",
   "execution_count": 12,
   "metadata": {
    "colab": {},
    "colab_type": "code",
    "id": "d4pPOmFvTF-B"
   },
   "outputs": [],
   "source": [
    "df_test=pd.read_csv(\"C:/Somduity/Python/Statistical NLP/Files_required_for_Stats_NLP_Project/test.tsv\", delimiter='\\t',usecols=['title'])"
   ]
  },
  {
   "cell_type": "code",
   "execution_count": 13,
   "metadata": {},
   "outputs": [
    {
     "data": {
      "text/html": [
       "<div>\n",
       "<style scoped>\n",
       "    .dataframe tbody tr th:only-of-type {\n",
       "        vertical-align: middle;\n",
       "    }\n",
       "\n",
       "    .dataframe tbody tr th {\n",
       "        vertical-align: top;\n",
       "    }\n",
       "\n",
       "    .dataframe thead th {\n",
       "        text-align: right;\n",
       "    }\n",
       "</style>\n",
       "<table border=\"1\" class=\"dataframe\">\n",
       "  <thead>\n",
       "    <tr style=\"text-align: right;\">\n",
       "      <th></th>\n",
       "      <th>title</th>\n",
       "    </tr>\n",
       "  </thead>\n",
       "  <tbody>\n",
       "    <tr>\n",
       "      <th>0</th>\n",
       "      <td>Warning: mysql_query() expects parameter 2 to ...</td>\n",
       "    </tr>\n",
       "    <tr>\n",
       "      <th>1</th>\n",
       "      <td>get click coordinates from &lt;input type='image'...</td>\n",
       "    </tr>\n",
       "    <tr>\n",
       "      <th>2</th>\n",
       "      <td>How to implement cloud storage for media asset...</td>\n",
       "    </tr>\n",
       "    <tr>\n",
       "      <th>3</th>\n",
       "      <td>What is catcomplete in jQuery's autocomplete p...</td>\n",
       "    </tr>\n",
       "    <tr>\n",
       "      <th>4</th>\n",
       "      <td>Error building Android app with Cordova 3.1 CLI</td>\n",
       "    </tr>\n",
       "  </tbody>\n",
       "</table>\n",
       "</div>"
      ],
      "text/plain": [
       "                                               title\n",
       "0  Warning: mysql_query() expects parameter 2 to ...\n",
       "1  get click coordinates from <input type='image'...\n",
       "2  How to implement cloud storage for media asset...\n",
       "3  What is catcomplete in jQuery's autocomplete p...\n",
       "4    Error building Android app with Cordova 3.1 CLI"
      ]
     },
     "execution_count": 13,
     "metadata": {},
     "output_type": "execute_result"
    }
   ],
   "source": [
    "df_test.head()"
   ]
  },
  {
   "cell_type": "code",
   "execution_count": 14,
   "metadata": {},
   "outputs": [],
   "source": [
    "X_train, y_train = df_train['title'].values, df_train['tags'].values\n",
    "X_val, y_val = df_validation['title'].values, df_validation['tags'].values\n",
    "X_test = df_test['title'].values"
   ]
  },
  {
   "cell_type": "markdown",
   "metadata": {
    "colab_type": "text",
    "id": "Bcb3kXUSTF-M"
   },
   "source": [
    "## Task 2 (Pre-processing). Implement the function *text_prepare* following the instructions. After that, run the function *test_test_prepare* to test it on tiny cases. (10 points)\n",
    "\n",
    "One of the most known difficulties when working with natural data is that it's unstructured. For example, if you use it \"as is\" and extract tokens just by splitting the titles by whitespaces, you will see that there are many \"weird\" tokens like *3.5*, *?*,  *{}*, etc. To prevent the problems, it's usually useful to prepare the data in a custom way\n"
   ]
  },
  {
   "cell_type": "code",
   "execution_count": 16,
   "metadata": {
    "colab": {},
    "colab_type": "code",
    "id": "PBSchmxtTF-N"
   },
   "outputs": [],
   "source": [
    "import re"
   ]
  },
  {
   "cell_type": "code",
   "execution_count": 17,
   "metadata": {},
   "outputs": [],
   "source": [
    "from nltk.tokenize.toktok import ToktokTokenizer"
   ]
  },
  {
   "cell_type": "code",
   "execution_count": 18,
   "metadata": {},
   "outputs": [],
   "source": [
    "tokenizer = ToktokTokenizer()"
   ]
  },
  {
   "cell_type": "code",
   "execution_count": 19,
   "metadata": {
    "colab": {},
    "colab_type": "code",
    "id": "iI1plv6WTF-R"
   },
   "outputs": [],
   "source": [
    "REPLACE_BY_SPACE_RE = re.compile('[/(){}\\[\\]\\|@,;]')\n",
    "BAD_SYMBOLS_RE = re.compile('[^0-9a-z #+_]')\n",
    "STOPWORDS = set(stopwords.words('english'))\n",
    "\n",
    "def remove_stopwords(text, is_lower_case=False):\n",
    "        tokens = tokenizer.tokenize(text)\n",
    "        tokens = [token.strip() for token in tokens]\n",
    "        if is_lower_case:\n",
    "            filtered_tokens = [token for token in tokens if token not in STOPWORDS]\n",
    "        else:\n",
    "            filtered_tokens = [token for token in tokens if token.lower() not in STOPWORDS]\n",
    "        filtered_text = ' '.join(filtered_tokens) \n",
    "        return filtered_text\n",
    "\n",
    "def text_prepare(text): ### The function will take in text and lower case it remove the stopwords, symbols and return it.\n",
    "    text =  text.lower()            ### Write a code which can change the input text to lowercase.\n",
    "    text =  REPLACE_BY_SPACE_RE.sub(\" \",text)          ### Write a code which replaces REPLACE_BY_SPACE_RE (above mentioned) symbols by space in text\n",
    "    text =  BAD_SYMBOLS_RE.sub(\"\",text)          ### Write a code which deletes symbols which are in BAD_SYMBOLS_RE (above mentioned) from text\n",
    "    text= remove_stopwords(text)         ### Write a code which deletes stopwords from text\n",
    "    return text"
   ]
  },
  {
   "cell_type": "code",
   "execution_count": 20,
   "metadata": {
    "colab": {},
    "colab_type": "code",
    "id": "t5LQEgMATF-Y"
   },
   "outputs": [],
   "source": [
    "def test_text_prepare():\n",
    "    examples = [\"SQL Server - any equivalent of Excel's CHOOSE function?\",\n",
    "                \"How to free c++ memory vector<int> * arr?\"]\n",
    "    answers = [\"sql server equivalent excels choose function\", \n",
    "               \"free c++ memory vectorint arr\"]\n",
    "    for ex, ans in zip(examples, answers):\n",
    "        if text_prepare(ex) != ans:\n",
    "            return \"Wrong answer for the case: '%s'\" % ex\n",
    "    return 'Basic tests are passed.'"
   ]
  },
  {
   "cell_type": "markdown",
   "metadata": {
    "colab_type": "text",
    "id": "6t2DpralVokG"
   },
   "source": [
    "Execute the test_text_prepare function"
   ]
  },
  {
   "cell_type": "code",
   "execution_count": 21,
   "metadata": {
    "colab": {},
    "colab_type": "code",
    "id": "ihi8I2yQTF-b"
   },
   "outputs": [
    {
     "data": {
      "text/plain": [
       "'Basic tests are passed.'"
      ]
     },
     "execution_count": 21,
     "metadata": {},
     "output_type": "execute_result"
    }
   ],
   "source": [
    "test_text_prepare()"
   ]
  },
  {
   "cell_type": "markdown",
   "metadata": {
    "colab_type": "text",
    "id": "ettHAZ8eVt1R"
   },
   "source": [
    "*Note: You should pass the above test to ensure the text preprocessing is done before our analysis*"
   ]
  },
  {
   "cell_type": "markdown",
   "metadata": {
    "colab_type": "text",
    "id": "QV5JC6HXTF-k"
   },
   "source": [
    "Now we can preprocess the titles using function *text_prepare* and  making sure that the headers don't have bad symbols:"
   ]
  },
  {
   "cell_type": "code",
   "execution_count": 24,
   "metadata": {},
   "outputs": [],
   "source": [
    "X_train = [text_prepare(x) for x in X_train]\n",
    "X_val = [text_prepare(x) for x in X_val]\n",
    "X_test = [text_prepare(x) for x in X_test]"
   ]
  },
  {
   "cell_type": "markdown",
   "metadata": {
    "colab_type": "text",
    "id": "AfWls32MV5Uu"
   },
   "source": [
    "Print the top 5 elements in x_train"
   ]
  },
  {
   "cell_type": "code",
   "execution_count": 27,
   "metadata": {
    "colab": {},
    "colab_type": "code",
    "id": "3BP3LiGsTF-o"
   },
   "outputs": [
    {
     "data": {
      "text/plain": [
       "['draw stacked dotplot r',\n",
       " 'mysql select records datetime field less specified value',\n",
       " 'terminate windows phone 81 app',\n",
       " 'get current time specific country via jquery',\n",
       " 'configuring tomcat use ssl',\n",
       " 'awesome nested set plugin add new children tree various levels',\n",
       " 'create map json response ruby rails 3',\n",
       " 'rspec test method called',\n",
       " 'springboot catalina lifecycle exception',\n",
       " 'import data excel mysql database using php',\n",
       " 'obtaining object javalangclasst object parameterized type without constructing class q_uestion',\n",
       " 'ipad selecting text inside text input tap',\n",
       " 'jquerys function object',\n",
       " 'eclipse c++ mingw lauch program terminated',\n",
       " 'javascript call one prototype method another prototype method',\n",
       " 'get intersection list sets',\n",
       " 'longer able hide keyboard viewwilldisappear ios7',\n",
       " 'fetch key json swift',\n",
       " 'change pivot header template windows phone 8',\n",
       " 'connectionstring encryption',\n",
       " 'let ui refresh long running ui operation',\n",
       " 'better way execute ruby file using python get ruby console output ruby file run python',\n",
       " 'make 2 thumbnails codeigniter',\n",
       " 'java character vs char memory usage',\n",
       " 'bootstrap modal close enter key press',\n",
       " 'linq query group retrieving percentage',\n",
       " 'label field issue openerp',\n",
       " 'keep 2 objects view time scaling field view zy axis',\n",
       " 'attributeerror nonetype object attribute split',\n",
       " 'append mat file using scipyiosavemat',\n",
       " 'jquery replace onclick hcommandlink',\n",
       " 'redirect output ruby programme file',\n",
       " 'accesscontrolalloworigin header present requested resource error',\n",
       " 'creating json windows 8 c# using ijsonvalue cannot implicitly convert type string windowsdatajsonijsonvalue',\n",
       " 'django modelform label captialisation',\n",
       " 'show hide div slide javascript without jquery',\n",
       " 'avoid busy spinning java',\n",
       " 'laravel 4 inputall returns data ajax post',\n",
       " 'handle neterr_connection_refused jquery ajax',\n",
       " 'year function r',\n",
       " 'use retrofit singleton using gson convertor',\n",
       " 'use settimer nondialog cpp mfc app',\n",
       " 'copying web reference new project',\n",
       " 'linq query select top five',\n",
       " 'javascript insert string specific index',\n",
       " 'apache poi change page format excel worksheet',\n",
       " 'python tkinter indeterminate progress bar running',\n",
       " 'store image path mysql database using c#',\n",
       " 'jdbc connection error associated managed connection',\n",
       " 'use multiple tables one model yii2',\n",
       " 'get controller names aspnet mvc4',\n",
       " 'casting integer array object array java',\n",
       " 'getting error uploading file php',\n",
       " 'clear methods java',\n",
       " 'printing floats specific number zeros',\n",
       " 'simple c c++ network library',\n",
       " 'running ruby usr bin instead usr local bin',\n",
       " 'bitmap c binary operations',\n",
       " 'laravel default mail working',\n",
       " 'entity framework model distinct function',\n",
       " 'extjs get checked nodes submit',\n",
       " 'linq select nested lists',\n",
       " 'show hide element pass values javascript html element using javascript jquery',\n",
       " 'get information json dictionary java',\n",
       " 'jquery slidetoggle text replace',\n",
       " 'display image created opencv android',\n",
       " 'instantiating class string current namespace',\n",
       " 'wpf screen resolution',\n",
       " 'content static table view cell displayed ios 9',\n",
       " 'best autocomplete suggest algorithm datastructure c++ c',\n",
       " 'backbone modelsave sending put instead post',\n",
       " 'windowlocationreplace redirects given page destroies session php chrome',\n",
       " 'mvc 4 razor model missing collections use form post',\n",
       " 'apache poi date ddmmyyyy',\n",
       " 'change style one dynamically created linkbutton affecting others',\n",
       " 'check point line',\n",
       " 'python client request fails default timeout',\n",
       " 'simultaneously acquire data update graph using python matplotlib',\n",
       " 'store value string array',\n",
       " 'c# datatable inner join dynamic columns',\n",
       " 'correct realization adapter pattern objective c',\n",
       " 'save image another folder using ajax jquery',\n",
       " 'use function currying python',\n",
       " 'jquery datatablesnet plugin ignore specific rows sorting',\n",
       " 'get current dom element angular directive',\n",
       " 'draw rectangles next java',\n",
       " 'getting parameters url zend',\n",
       " 'template inheritance inner class access problem',\n",
       " 'valueerror time data 20120719 082400 match format ymd hms',\n",
       " 'passing array json objects trough sockets java',\n",
       " 'missing child nodes deserializing xml object',\n",
       " 'error uploading new ipad app version ipad application executable contains unsupported architecture i386',\n",
       " 'passing array using com',\n",
       " 'getting urllib2urlerror urlopen error errno 10061 error',\n",
       " 'unique combination set',\n",
       " 'bind drop list using jquery ajax change first ddl',\n",
       " 'rails 31 qeurying database encrypted attr_encrypted gem clause encrypted fields',\n",
       " 'listctrl hack set listitems text listctrl',\n",
       " 'php mysql google maps api generate poi city state name',\n",
       " 'mappedby reference unknown target entity property',\n",
       " 'run java applet mac os 1066',\n",
       " 'get country latitude longitude',\n",
       " 'google map mouseout listener working wordpress',\n",
       " 'find row specified text quickly',\n",
       " 'iphone xcodebuild command terminal working',\n",
       " 'sapply return matrix need transpose transposed matrix attach dataframe',\n",
       " 'insert rows parent children programmatically',\n",
       " 'd3 js tick spacing time axis gets messed month boundary',\n",
       " 'create hash dictionary object javascript',\n",
       " 'c# oledbconnection con set timeout',\n",
       " 'change default django user model fit needs',\n",
       " 'ignore jsonproperty propertyname somename serializing json',\n",
       " 'automatically install toolbarbutton firefox navbar working insertitem',\n",
       " 'auto layout add new constraints interactive interface builder',\n",
       " 'kill child process running system shell command',\n",
       " 'setting php timezone cant update recent olson',\n",
       " 'facebook show help dialog',\n",
       " 'javascript jquery event listener image load browsers',\n",
       " 'intellij android java constant expression required case ridviewid',\n",
       " 'dropdown select based database entries',\n",
       " 'jquery wont work local machine',\n",
       " 'display data mysql database table using pyqt',\n",
       " 'addeventlistener working',\n",
       " 'send data specific thread',\n",
       " 'focus listviewitem wpf',\n",
       " 'documentgetelementbyid tableid innerhtml working ie8',\n",
       " 'efficient convert string int inverse',\n",
       " 'edit specific line txt file c',\n",
       " 'conditionally filter iqueryable type using generic repository pattern',\n",
       " 'get memory usage rails app',\n",
       " 'invalid indirect reference decodeindirectref trying convert c++ java',\n",
       " 'insert multiple record table codeigniter',\n",
       " 'convert sql query linq',\n",
       " 'notesnotessession vs dominonotessession password prompt',\n",
       " 'regex needed java handle dynamic string value',\n",
       " 'best way play videos website',\n",
       " 'reading line line stdin without blocking',\n",
       " 'uploading video old facebook rest api',\n",
       " 'bind comma separated string java collection list spring form',\n",
       " 'checking content member element c struct array',\n",
       " 'gridview data export excel aspnet',\n",
       " 'tinymce moxie player media splash image',\n",
       " 'propertyplaceholderconfigurerlike class use spring accepts xml',\n",
       " 'import csv file using stringsplit without array shortened due blank fields',\n",
       " 'getting li value ngmodel',\n",
       " 'start blackberry programming',\n",
       " 'smloginitemsetenabled get counterpart',\n",
       " 'searching xml value',\n",
       " 'iphone sdk quick reference',\n",
       " 'c# get directory name directorynotfoundexception',\n",
       " 'php csv column headings',\n",
       " 'java printing odd even numbers using 2 threads',\n",
       " 'alternatives os projects c# similar joomla mambo drupal',\n",
       " 'assign c# dynamic variable properties another dynamic object',\n",
       " 'get parameters url laravel',\n",
       " 'setting field value object child another object',\n",
       " 'android accessing global variable inside onclicklistener',\n",
       " 'operation variable argument list uml',\n",
       " 'preg_replace curly brackets',\n",
       " 'rails 323 bundler could find compatible versions gem railties',\n",
       " 'c# windows form exe',\n",
       " 'antcreate junit report task programmatically',\n",
       " 'facebooks messenger sms broadcast receiver takes highest priority reboot',\n",
       " 'documentgetelementsbyclassname name length 0',\n",
       " 'mvc bypass clientside validation save progress vs submit',\n",
       " 'rvm rails installation error ubuntu 1104',\n",
       " 'trigger event specific slide bootstrap carousel',\n",
       " 'bypass socks proxy configuration iphone',\n",
       " 'unable concanate string+variable+string javascript',\n",
       " 'cant get redirecttoaction work',\n",
       " 'map set iterators incompatible map destruction dependent constructor call',\n",
       " 'python parseerror bad input line',\n",
       " 'symfony2 forms use dynamic select options',\n",
       " 'laravel5 notfoundhttpexception routecollectionphp line 161',\n",
       " 'django ajax submission validation multiple forms handling',\n",
       " 'creating triggers jdbc oracle',\n",
       " 'access specific value mongoose query callback',\n",
       " 'javasecurityinvalidalgorithmparameterexception rc6 well rc2',\n",
       " 'updating rails models ajax',\n",
       " 'html 5 video canvas scaling issues',\n",
       " 'comparison variables pointing integer object',\n",
       " 'parse json data php',\n",
       " 'possible jump top page form submit',\n",
       " 'safely destroy dialog window wxpython application',\n",
       " 'problem php includes casesensitive file systems',\n",
       " 'django managepy runserver working',\n",
       " 'saving multiple data frames return function',\n",
       " 'refresh waypoints directions_changed',\n",
       " 'compilation error type namespace name could found',\n",
       " 'call parsecom api libgdx java implementation',\n",
       " 'iframe position',\n",
       " 'javascript adding text image using canvas save image',\n",
       " 'save value drop mysql',\n",
       " 'calculate correlation columns remove highly correlated ones using python pandas',\n",
       " 'optimizations browser perform dom element rendered screen',\n",
       " 'request denied service delegate sbmainworkspace',\n",
       " 'create mail client using php mysql',\n",
       " 'count values column datagridview column',\n",
       " 'scipy build install mac osx',\n",
       " 'wpf ip address mask textbox',\n",
       " 'use adodc vbnet',\n",
       " 'java library creating console commands',\n",
       " 'get selected value text html select codebehind',\n",
       " 'restrict jqgrid textarea height grid',\n",
       " 'generatorelement sequencetype swift 3',\n",
       " 'adding style editor',\n",
       " 'xml serialization readonlycollections',\n",
       " 'possible extend java class one name',\n",
       " 'exceptions handling guidelines c++',\n",
       " 'understand parallelinstances testng suite configure',\n",
       " 'import csv excel data webpage',\n",
       " 'pass parameter owin host',\n",
       " 'rspec check model saved',\n",
       " 'rake errors loading kind mutex',\n",
       " 'datetime add calculation inside linq entities query',\n",
       " 'difference ruby ruby rails',\n",
       " 'cocos2dx lua binding',\n",
       " 'reset dispatchertimer',\n",
       " 'angularjs verify check box clicked',\n",
       " 'pass structure pointer c dll c#',\n",
       " 'pausing method set # milliseconds',\n",
       " 'call javascript vbnet',\n",
       " 'difference data params python requests',\n",
       " 'brace highlighting visual studio javascript',\n",
       " 'email component versus phpmailer cakephp',\n",
       " 'cannot include header files correctly',\n",
       " 'php api development',\n",
       " 'change uiimageview size position programmatically swift',\n",
       " 'n n stdendl stdcout',\n",
       " 'ajax uploading file html 5 php',\n",
       " 'seperate gc log file java vm oracle application server',\n",
       " 'fix error laravellog could opened',\n",
       " 'php separate array commas',\n",
       " 'test string basically integer quotes using ruby',\n",
       " 'android java serversocket port number supposed',\n",
       " 'edit data database codeigniter using bootstrap modal',\n",
       " 'matching function call function template',\n",
       " 'reopen files python',\n",
       " 'cannot convert expressions type void type string',\n",
       " 'eclipse error could find load main class',\n",
       " 'linq grouping dynamically',\n",
       " 'sort matrix row preserving columns',\n",
       " 'systemconcurrencyasynclock',\n",
       " 'qt make mainwindow automatically resize centralwidget resized',\n",
       " 'c# delegate dispatcher problem',\n",
       " 'angularjs web api neterr_connection_refused chrome error 00002efd ie',\n",
       " 'submit form using href',\n",
       " 'compile single java file gradle',\n",
       " 'examine code function r thats object class sensitive',\n",
       " 'curl without curl problem',\n",
       " 'make rectangle pygame automatically moves mouse location',\n",
       " 'ruby naming conventions',\n",
       " 'get systemwindowsformsiwin32window wpf window',\n",
       " 'populate second dropdown based selected value first dropdown',\n",
       " 'install particle js wordpress using method',\n",
       " 'installing sunjava6jre gives error',\n",
       " 'pass variables reference javascript',\n",
       " 'symfony2 render view another controller',\n",
       " 'openxml spreadsheet update value sharedstringtable',\n",
       " 'objectivec find commonly used words nsstring',\n",
       " 'generics compilation error wildcard type',\n",
       " 'define vector undefined size',\n",
       " 'using switch case eval value',\n",
       " 'php class generator web services',\n",
       " 'objectivec implement ease animation',\n",
       " 'refresh jpa entities backend database changes asynchronously',\n",
       " 'dynamic subdomain creation php linux based server',\n",
       " 'preg_match long strings',\n",
       " 'open source template library matrix computation c c++',\n",
       " 'return null float method error handling',\n",
       " 'create canvas inside jframe draw basic shapes',\n",
       " 'regular expression startend position',\n",
       " 'detect screen brightness system volume changed',\n",
       " 'horizontal slider jquery 100 height auto width images children',\n",
       " 'use serial print arduino',\n",
       " 'create checkbox list',\n",
       " 'execute php code wordpress post',\n",
       " 'outofmemory exception',\n",
       " 'cvcreatememstorage working second object instance',\n",
       " 'deploy clickonce application without signing',\n",
       " 'using 2d array create clickable tkinter canvas',\n",
       " 'rails created_at',\n",
       " 'refresh shopping cart item added',\n",
       " 'java compiler oddity field declared class yet visible',\n",
       " 'replacement cultureinfogetcultures net windows store apps',\n",
       " 'npm + mocha watch accurately watching files',\n",
       " 'dofilterinternal method called',\n",
       " 'stl vector template function problem',\n",
       " 'prevents c++ strict superset c',\n",
       " 'cant set clock using setsystemtime windows 8',\n",
       " 'using hash view rails',\n",
       " 'method overloading optional parameter',\n",
       " 'using lists tuples python statements',\n",
       " 'tomcat7 shows number inactive users tomcat manager',\n",
       " 'backbonejs accessing elements fired views event',\n",
       " 'remote notification launch app background',\n",
       " 'getting proper code completion python vim',\n",
       " 'jquery mobile didnt append div content',\n",
       " 'change entity map another unknown table runtime',\n",
       " 'weird object reference set instance object error using moq',\n",
       " 'check string nil swift',\n",
       " 'combine java plot code java serial code read arduino sensor value',\n",
       " 'retrieving data sql database vbnet',\n",
       " 'rails nomethoderror undefined method name nilnilclass',\n",
       " 'jbutton actionlistener producing several exceptions javaawt security event',\n",
       " 'catching keyboard input fullscreen seems work',\n",
       " 'parallel prime factorization',\n",
       " 'way duplicating rows datatable efficient',\n",
       " 'run php script background php nohup cli',\n",
       " 'create tuple lists list',\n",
       " 'c# datagridview sort checkbox column',\n",
       " 'yiibootstrap tabs event handler',\n",
       " 'examples creating custom soft input panel windowsce 60',\n",
       " 'php view exec status realtime possible',\n",
       " 'lookup twitter followers r',\n",
       " 'looking day view javascript library plugin calendar',\n",
       " 'draw text canvas three js sprite',\n",
       " 'bitmapsave huge memory leak',\n",
       " 'regex replace function',\n",
       " 'many many relationships taxonomy eloquent',\n",
       " 'write string encoding utf8 file',\n",
       " 'put library inside namespace',\n",
       " 'storing 2dimensional string array sqlite database',\n",
       " 'hibernate + gwt exception',\n",
       " 'save grab svg website local machine convert image',\n",
       " 'angular 2 routing plain javascript typescript',\n",
       " 'reading standard input using javaioinputstreamreader hangs process runs background',\n",
       " 'add calendar textfield java',\n",
       " 'unable bind listening socket address phpfpm',\n",
       " 'assign value using linq',\n",
       " 'rotating image pygame',\n",
       " 'get object associated selected rows datagridview',\n",
       " 'threaded program using one cpu',\n",
       " 'convert systemstring generically complex type using convertchangetype',\n",
       " 'javaxcryptobadpaddingexception data must start zero',\n",
       " 'wpf governing frameworkelement found errors',\n",
       " 'rspec testing views internationalization',\n",
       " 'request 2nd url httpwebrequest obj',\n",
       " 'facesmessage error rendering view',\n",
       " 'angular controller directive cause strict di error',\n",
       " 'nginx treats php binary',\n",
       " 'flask receiving data html post',\n",
       " 'add space start byte array',\n",
       " 'boolean detect element array',\n",
       " 'pip ignore proxy setting',\n",
       " 'joomla 25 fetch module class suffix',\n",
       " 'find certain character substring objectivec',\n",
       " 'convert javascript variable md5 hash using php',\n",
       " 'incompatible pointer type nsurl nsstring',\n",
       " 'static 2d array',\n",
       " 'get first item javautilset',\n",
       " 'php preg_match comma separated decimals',\n",
       " 'ffmpeg compresses upto 32 kbps',\n",
       " 'unexpected token error connecting mysql database php',\n",
       " 'ant failed build',\n",
       " 'construct json object symfony 14 field html content',\n",
       " 'get domain currently logged user windows',\n",
       " 'initialize 2d array huge size 1000000x1000000',\n",
       " 'casting integer double xpath 10',\n",
       " 'utf8 codec cant decode byte 0xae position',\n",
       " 'objectivec test uninitialized pointer static class type',\n",
       " 'net equivalent old vb left string length function',\n",
       " 'use class variable another class',\n",
       " 'python redirect stdout socket',\n",
       " 'change content div',\n",
       " 'npexp much slower npe',\n",
       " 'manually filter parameters rails',\n",
       " 'automatically resize stage content changed',\n",
       " 'baseonload e aspnet page',\n",
       " 'dict object attribute status_code error django project',\n",
       " 'call custom oracle function returning value jpa',\n",
       " 'get values enumeration created powershell',\n",
       " 'action_search cannot resolved field',\n",
       " 'datetime object string',\n",
       " 'compression utf8 encoding',\n",
       " 'use loop function run script multiple files using r',\n",
       " 'nicest way dynamically implement interface c#',\n",
       " 'c# winform timers notify parent class timer event raised',\n",
       " 'maximize custom wpf form screen size',\n",
       " 'echo php inside javascript',\n",
       " 'objective c convert java statment objective c code',\n",
       " 'read pdf file line line c#',\n",
       " 'jvmcfre003 bad major version',\n",
       " 'vbnet search function using textbox combo box',\n",
       " 'loading classes application file system runtime',\n",
       " 'setting sublime text 3 rails development',\n",
       " 'datagrid view updating update button clicked',\n",
       " 'adding two strings mathematically',\n",
       " 'cant paste javascript commands addressbar ie10',\n",
       " 'parse error syntax error unexpected end exampphtdocsannouncementsannouncementphp line 143',\n",
       " 'get public ip address using php',\n",
       " 'plot step histograms ggplot2 r',\n",
       " 'replace usernamepasswordauthenticationfilter spring security',\n",
       " 'wordpress show taxonomy custom admin menu',\n",
       " 'whats right way java connect microsoft access 2007 database',\n",
       " 'spring boot validation respond json',\n",
       " 'instanceof method use generics',\n",
       " 'python allow empty function docstring body without pass statement',\n",
       " 'difference class foo class foo object python',\n",
       " 'canonical way transmit protocol buffers network',\n",
       " 'uiwebview identify last webviewdidfinishload message',\n",
       " 'eclipse rcp check job finished',\n",
       " 'create patch file using net windows application',\n",
       " 'create extension method tostring',\n",
       " 'passing field name function template',\n",
       " 'java upload file get back string contents file',\n",
       " 'nice way make kendo custom widget using typescript classes',\n",
       " 'create excel file using php compatible 2007 2003',\n",
       " 'passing email address via query string c#',\n",
       " 'undefined method include relationship model',\n",
       " 'create icon file contains multiple sizes images c#',\n",
       " 'expected string default value jbuilder got true boolean error new rails project',\n",
       " 'vbnet slider range control',\n",
       " 'domain class entity data framework',\n",
       " 'xml linq checking null elements',\n",
       " 'linker error compiling ios 5 app simulator undefined symbols _objc_assign_global _objc_assign_ivar _objc_assign_strongcast',\n",
       " 'meta httpequivrefresh content0 urlhttp wwwxxxxxxlcom indexphp refreshing',\n",
       " 'view hierachy prepared constraint',\n",
       " 'echo session variable within echo php',\n",
       " 'c# need pass object another class call methods update',\n",
       " 'unique null sqlalchemy django',\n",
       " 'android action_up detected',\n",
       " 'process_reaper thread java',\n",
       " 'linq xml recursive query',\n",
       " 'using event handlers vs overriding eventfiring methods',\n",
       " 'complex sorting xml using linq',\n",
       " 'possible make body onload event faster',\n",
       " 'zend framework could determine temp directory please specify cache_dir manually',\n",
       " 'disabling button one click prevent multiple submissions enabling redirect',\n",
       " 'java best way find first duplicate character string',\n",
       " 'create fixed table header rows include colspans',\n",
       " 'recommended nginx configuration high traffic website wordpress',\n",
       " 'fbgetloginstatus returns status unknown',\n",
       " 'dojo grid switching editable editable',\n",
       " 'logout jquery javascript using form authentication',\n",
       " 'wpf groupstyle groups 1 item',\n",
       " 'buffer growth strategy',\n",
       " 'c# google login',\n",
       " 'javascript date validation function',\n",
       " 'react es6 class transitionto working',\n",
       " 'running two lines code python time',\n",
       " 'matplotlib imshow zoom function',\n",
       " 'form submit ajax time using onsubmit',\n",
       " 'cannot use ternary operator linq query',\n",
       " 'javalangnoclassdeffounderror org apache axis2 axisfault axis2kernel154jar class path',\n",
       " 'best event check using datagridviewcheckboxcell',\n",
       " 'speech recognition c# without using windows speech recognition',\n",
       " 'dynamic menu richcombo box ckeditor',\n",
       " 'disadvantages making class serializable java',\n",
       " 'one step check null value emptiness string',\n",
       " 'programmatically open jumplist window specific exe file',\n",
       " 'catch divide 0 error message visual studio 2012',\n",
       " 'getting module file path derived class via inheritance',\n",
       " 'access arraylist string array list javascript',\n",
       " 'read non c# apps textbox using windows api c# windows forms app',\n",
       " 'access javascript variables calling scope',\n",
       " 'windows mobile vs2008 cant connect device',\n",
       " 'pass mains argv function',\n",
       " 'python list operations',\n",
       " 'print frame chrome',\n",
       " 'dynamically adding resource strings',\n",
       " 'error rstudio libuuidso1 cannot open shared object file file directory',\n",
       " 'transaction aborted trying persist user',\n",
       " '0x mean',\n",
       " 'python decimal string',\n",
       " 'see characters nscharacterset swift',\n",
       " 'joomla page load function',\n",
       " 'use mathrandom generate random ints',\n",
       " 'symfony set destroy sessions',\n",
       " 'one add values c enum created',\n",
       " 'nslog messages using leaks',\n",
       " 'netuihwnd directuihwnd',\n",
       " 'returning exact match javascript array using regexp',\n",
       " 'update pagination angularjs filtering',\n",
       " 'type expected error linq expression',\n",
       " 'list view item binding',\n",
       " 'r multiple variables loop',\n",
       " 'migrating article contect joomla 10 25x 3x',\n",
       " 'initializing jframe',\n",
       " 'java multiple line read console',\n",
       " 'storing user input text field nsarray',\n",
       " 'python query keys dictionary based values',\n",
       " 'php mcrypt_module_open causes 500 error',\n",
       " 'linq tolist take 10 vs take 10 tolist one generates efficient query',\n",
       " 'cannot access local sinatra server another computer network',\n",
       " 'use durability quartz xml',\n",
       " 'process returned 255 0xff code blocks',\n",
       " 'codeigniter call multiple model function single controller function codeigniter',\n",
       " 'yii framwork resizing textbox form',\n",
       " 'problem access local image app workspace local html file app workspace',\n",
       " 'rename json fields used mappingjacksonjsonview spring',\n",
       " 'marshall parameterized type jaxws jaxb',\n",
       " 'diplay tag link wordpress',\n",
       " '3d array c c++ initialization conversion',\n",
       " 'systemexecutionengineexception thrown',\n",
       " 'string encoding shift_jis utf8',\n",
       " 'syntax error access violation 1103 incorrect table name _post array data',\n",
       " 'change font size gradually uilabel',\n",
       " 'concatenate values select inputs radio groups one hidden field value',\n",
       " 'c++ win32 window background redrawing',\n",
       " 'change value htmltextbox using jquery json',\n",
       " 'json empty string deserializes null server side',\n",
       " 'way select bit rate using avplayer http live audio streaming',\n",
       " 'django creating superuser custom user model',\n",
       " 'jquery ajax send data url without showing data webdevelopers',\n",
       " 'merging two datasets 1 column common',\n",
       " 'facebook integration website using facebook login button plugin store user crenditials database',\n",
       " 'modal container auto centering fitting size content inside container',\n",
       " 'angular2 testing whats difference debugelement nativeelement object componentfixture',\n",
       " 'java jdbc driver type_forward_only',\n",
       " 'make yaxis intersect xaxis 0 ggplot2',\n",
       " 'playframework catch deadlock reissue transaction',\n",
       " 'sqlalchemy update postgresql array using merge work',\n",
       " 'stringargument constructor factory method deserialize string value',\n",
       " 'compare sql datetime c# datetime',\n",
       " 'html5 drag drop events dragleave fires drop',\n",
       " 'validate post code input data',\n",
       " 'download file aspnet web api method using angularjs',\n",
       " 'using javascript rename multiple html files using title title file',\n",
       " 'recording sending screen stream c#',\n",
       " 'download csv google insight search',\n",
       " 'radio button enable text area',\n",
       " 'programmatically added user control create child controls',\n",
       " 'website working firefox chrome ie',\n",
       " 'adjusting contrast brightness opencv',\n",
       " 'automatic selectall textboxes numericupdown controls gotfocus',\n",
       " 'duplicate certain set javafx 22 nodes',\n",
       " 'referencing mscorlib visual studio 2010',\n",
       " 'jsonnet fails serialize stream works fine serializing string',\n",
       " 'parsing text content url',\n",
       " 'java get json object array',\n",
       " 'use linq group sequence numbers gaps',\n",
       " 'posting checked unchecked checkboxes',\n",
       " 'programatically add uiimage uiimageview add uiimageview another uiview',\n",
       " 'add controls winforms dynamically another thread',\n",
       " 'python tailer logrotate',\n",
       " 'free c++ memory vectorint arr',\n",
       " 'visual studio 2013 caching older version js file',\n",
       " 'threejs draw custom mesh meshlambertmaterial point light',\n",
       " 'get image size loads extern url javascript',\n",
       " 'uncheck html checkbox label',\n",
       " 'java swing popup window losing focus repainting',\n",
       " 'ruby rails timenow',\n",
       " 'angularjs localstorage change event',\n",
       " 'nodejs error error cannot find module mongoose',\n",
       " 'adding new div another one',\n",
       " 'tell rs ggplot2 put tick marks values xaxis still keep vertical lines values',\n",
       " 'submit form inside razor view java script function without redirection',\n",
       " 'extract href queryselectorall',\n",
       " 'put image dynamically created button',\n",
       " 'regex get numbers minus sign',\n",
       " 'uiwebview content visible',\n",
       " 'site shows blank screen ie works fine firefox chrome',\n",
       " 'parsing json php',\n",
       " 'call method jar file jsp',\n",
       " 'installing mysql2 gem ruby 187 mac osx 106',\n",
       " 'binary operator cannot applied operands type string string swift 2 xcode 7',\n",
       " 'randomly generate variable names',\n",
       " 'c# cannot save apostrophe xml',\n",
       " 'changing css controls gridview separately row',\n",
       " 'application spring security dont go beyond login page',\n",
       " 'read gmail contacts using zend framework using oauth',\n",
       " 'windowonload ie7',\n",
       " 'setting minimum maximum date calendar',\n",
       " 'add client script aspnet page dynamically',\n",
       " 'using mousebuttondown pygame',\n",
       " 'get user name owner process net',\n",
       " 'hex string byte array conversion',\n",
       " 'hibernatedaosupport native sql',\n",
       " 'fixing error creation private accessor microsoftvisualstudiotesttoolstypesandsymbolsassembly failed',\n",
       " 'trouble matching multiple patterns ruby regex',\n",
       " 'wicket springbean create bean',\n",
       " 'could get information inmemory layout info net object model',\n",
       " 'exception thread main javalangoutofmemoryerror java heap space base64decoder',\n",
       " 'jquery run function load complete dom updated',\n",
       " 'jquery tab slider',\n",
       " 'simple php compatible video chat service',\n",
       " 'java find read file user input',\n",
       " 'c# simple way bring onelinexmlfiles human readable multi line',\n",
       " 'jquery trigger click vs function call',\n",
       " 'inheritance nested views angularjs',\n",
       " 'syntax declare js scripts',\n",
       " 'javalangclasscastexception orghibernatetypestringtype cannot cast orghibernatetypeversiontype',\n",
       " 'dynamically change auto complete entries c# combobox textbox',\n",
       " 'copy constructor dynamically allocated array',\n",
       " 'calling method object instance creation',\n",
       " 'moving elements scroll',\n",
       " 'writing masked image disk png file',\n",
       " 'net core console applicatin configuration xml',\n",
       " 'convert object listexpandoobject type',\n",
       " 'calculate interest rate java tvm',\n",
       " 'postback javascript function doesnt work aspnet',\n",
       " 'encrypt html php javascript',\n",
       " 'iterate list object lambda expressions',\n",
       " 'convert equation string equation',\n",
       " 'mvc get latitude longitude controller mapview c#',\n",
       " 'c# run cl exe batch cpture output live textbox',\n",
       " 'avoid multiple ajax calls',\n",
       " 'remove label x seconds swift',\n",
       " 'fileuploadhasfile give always false',\n",
       " 'write complex join query cdbcriteria yii framework',\n",
       " 'php extract html data website',\n",
       " 'php mssql_connect working',\n",
       " 'way automatically update proxy object updating service wcf',\n",
       " 'enable button input field empty',\n",
       " 'const char lpcwstr qt',\n",
       " 'event defined firefox ok chrome ie',\n",
       " 'unicodeencodeerror using oslistdir',\n",
       " 'access grant malformed azure ad',\n",
       " 'get pin google maps using location variable',\n",
       " 'gmail smtp authentication',\n",
       " 'binding array pojos request parameter',\n",
       " 'call web service empty soapaction definition',\n",
       " 'create cmd file run jars',\n",
       " 'skrollr relative mode working properly chrome safari',\n",
       " 'set current time field mysql',\n",
       " 'set extbuttonsplit show arrow menu empty',\n",
       " 'captcha image webbrowser control picturebox',\n",
       " 'detect user drop image inside browser current tab viewport',\n",
       " 'react thisstate undefined inside component function',\n",
       " 'getblobreferencefromserver working relative uris error absolute addresses permitted',\n",
       " 'error creating table mysql',\n",
       " 'typegettype work generic classes',\n",
       " 'php pagination limited number records',\n",
       " 'dynamically adding script element div execute script',\n",
       " 'rails fix actionviewmissingtemplate error',\n",
       " 'test private methods nunit',\n",
       " 'exceptionconverter javaioioexception space left device',\n",
       " 'java gui framework good first gui project',\n",
       " 'remove #anchor locationhash url linking page within website',\n",
       " 'installing ffmpeg module php windows server',\n",
       " 'cant connect rabbitmqc using ssl support',\n",
       " 'parse log file using java plot graph',\n",
       " 'getting single value sql adonet',\n",
       " 'swf sandbox violation error #2060 chrome',\n",
       " 'convert svgsvgelement string',\n",
       " 'this_getparam zend framework empty',\n",
       " 'python binary hex string conversion',\n",
       " 'subtract time php',\n",
       " 'serialize object keeps pointers objects c++',\n",
       " 'passing multiple params rails controller',\n",
       " 'using arrays switch case java',\n",
       " 'loading text iframe loading',\n",
       " 'pandas groupby partial string',\n",
       " 'need create json read write java didnt',\n",
       " 'gray overlay custom uibutton getting displayed',\n",
       " 'store array values single variable csv php',\n",
       " 'reading csv datatable without knowing structure',\n",
       " 'split vector n sub vectors rebound',\n",
       " 'php server err_connection_refused',\n",
       " 'uncaught typeerror cannot read property top null',\n",
       " 'system cant find specify file using iis broswer homeaspx file',\n",
       " 'c++ find set pointers',\n",
       " 'incompatible types int nulltype',\n",
       " 'calculate probability given data',\n",
       " 'multiple small files v one big file http requests',\n",
       " 'java change color string',\n",
       " 'clearinterval doesnt work',\n",
       " 'jsp editable datagrid',\n",
       " 'deserialize javascript associative array c# dictionary jsonnet',\n",
       " 'onactionexecuting web api call map controller action class route string read action attributes',\n",
       " 'smtp connect failed',\n",
       " 'swift http post 2d array',\n",
       " 'creating new array contents old array keeping old array static',\n",
       " 'error int tuple connection',\n",
       " 'get loop count using user inputs infinitely loop',\n",
       " 'missing using directive assembly reference wpf xaml',\n",
       " 'catch mouse events powerpoint designer vsto',\n",
       " 'pass value mysql bootstrap modal',\n",
       " 'searching gridview bound sqldatasource using textboxes',\n",
       " 'concat linq query result string',\n",
       " 'executing function page gets windowprint',\n",
       " 'best way declare logger variable java',\n",
       " 'open file clicking hyperlink',\n",
       " 'difference boostchronotime_point boostchronosteady_clocktime_point',\n",
       " 'working testing dates rails',\n",
       " 'insert comment root svg element',\n",
       " 'python file doesnt read whole file iofileio',\n",
       " 'retrieving get variable via php send swf script',\n",
       " 'xcode 8 swift c++',\n",
       " 'set webbrowserdocumenttype',\n",
       " 'use google chrome remote debugging protocol http',\n",
       " 'creating custom slider using jquery ui',\n",
       " 'php parse post data',\n",
       " 'taskscheduler scheduled quartz',\n",
       " 'allow user insert html code without risks technical risks',\n",
       " 'special character getting replaced',\n",
       " 'loading xls msexcel file webview showing error',\n",
       " 'checking null calling free',\n",
       " 'apply syntax file vim',\n",
       " 'java realm get latest inserted item',\n",
       " 'pca categorical features',\n",
       " 'checking cell nil uitableviewcontroller',\n",
       " 'properly set integer value nsdictionary',\n",
       " 'cant getuser using facebook registration plugin',\n",
       " 'error installing pyqt',\n",
       " 'zip function giving incorrect output python',\n",
       " 'make multipleform single submit button action php',\n",
       " 'html select jquery mix working ios',\n",
       " 'line break svg text element',\n",
       " 'extend activity listactivity',\n",
       " 'build several modules using requirejs using one physical configuration file overrides',\n",
       " 'change windows wallpaper using net 40',\n",
       " 'getasync httpclient doesnt work expected',\n",
       " 'alternative session using webapi keep track user',\n",
       " 'saving xml file utf8 encoding',\n",
       " 'go pages wordpress plugin',\n",
       " 'display speed mkmap xcode',\n",
       " 'automapper mapping 2 enum values 1 value',\n",
       " 'java stringsplit regex',\n",
       " 'conversion type dbnull type string valid10',\n",
       " 'bootstrap 3 invisible dropdown ie9 bug fix',\n",
       " 'convert joda localdate joda datetime',\n",
       " 'create menu json file',\n",
       " 'setting default value param attribute controller nil',\n",
       " 'semantic interpretation srgs xml grammar',\n",
       " 'exception immediately expunging mailbox java email',\n",
       " 'pythonic way handle sqlalchemy models',\n",
       " 'getting cannot implicitly convert type decimal bool error',\n",
       " 'query elasticsearch java json',\n",
       " 'codeigniter query times custom file logging',\n",
       " 'magento unit testing',\n",
       " 'jackson json view deserialization',\n",
       " 'remove elements linked list',\n",
       " 'save tuple nsuserdefaults',\n",
       " 'starting address array',\n",
       " 'click link open pdf new window time changing parent window',\n",
       " 'find element insert content next',\n",
       " 'json response parsing using wordpress ajax',\n",
       " 'php foreach doesnt override array value iterating',\n",
       " 'js change text onclick change back onclick ifelse',\n",
       " 'apache poi thousand separator',\n",
       " 'highcharts sparse data hide empty values',\n",
       " 'interopword print preview dialog office 2010 2013',\n",
       " 'xcode button working inside storyboard',\n",
       " 'check array nonzero values elements',\n",
       " 'drag drop one image another disappear',\n",
       " 'develop pivot table java groovy',\n",
       " 'remove duplicates elements json file using java else',\n",
       " 'uiactivityindicatorview loading image online',\n",
       " 'call stored procedure firebird database php pdo',\n",
       " 'localhost url works browser returns bool false php curl_exec',\n",
       " 'allow users download pictures gif png jpeg',\n",
       " 'use idatareader use datareader',\n",
       " 'default locale',\n",
       " 'get substring text',\n",
       " 'skip r n string',\n",
       " 'php calling class method class name variable string',\n",
       " 'linq entities orderby',\n",
       " 'spark application javalangoutofmemoryerror direct buffer memory',\n",
       " 'possible run php exec cygwin',\n",
       " 'performance tuning jsf',\n",
       " 'mysql get data table matching ids',\n",
       " 'swapping two nodes linkedlist c',\n",
       " 'nodejs settimeout fn 0 vs setimmediate fn',\n",
       " 'error parsing http request header tomcat 7',\n",
       " 'angular 2 universal serverside rendering',\n",
       " 'threejs accurate ray casting collision detection',\n",
       " 'load google map background div',\n",
       " 'open word doc c#',\n",
       " 'storing image plist',\n",
       " 'rails devise facebook + twitter +',\n",
       " 'display jfreechart chartpanel jpanel generated netbeans',\n",
       " 'c# aspnet iterate table',\n",
       " 'best way send xml string java sockets',\n",
       " 'app access admin level privileges nonrooted device',\n",
       " 'overriding instance method static ones',\n",
       " 'create python tkinter window x close button',\n",
       " 'filter array letter',\n",
       " 'return value ospath python',\n",
       " 'locationservicesenabled always return yes',\n",
       " 'lazy object creation c++ zerocost validation',\n",
       " 'streaming music ipad iphone ipod touch pc airtunes net',\n",
       " 'see styles attached hover pseudo classes firebug chrome debugger',\n",
       " 'override applicationproperties production springboot',\n",
       " 'google script replace function range',\n",
       " 'dealing high traffic right way',\n",
       " 'underlying provider failed open entity framework',\n",
       " 'equalitycomparertdefault works internally',\n",
       " 'set pagination laravel without refreshing whole page',\n",
       " 'angularjs image src change model changes',\n",
       " 'phpini',\n",
       " 'mockito injecting null values spring bean using mock',\n",
       " 'programmatically set textblock margin',\n",
       " 'using nodejs show realtime notification messages php application',\n",
       " 'convert string datetime linqtoentities inside query',\n",
       " 'way use custom control designer avoid gac',\n",
       " 'qt creator linker error lnk1104 cannot open file opencv_core249dlib',\n",
       " 'python call function string',\n",
       " 'raphael js unable create canvas referencing div',\n",
       " 'regular expression alphabetic letter accent',\n",
       " 'objectivec ipad chart graph',\n",
       " 'execute statement every n iterations python',\n",
       " 'finisarsqlitesqliteexception sql logic error missing database unrecognized token',\n",
       " 'plotting monthly data ggplot',\n",
       " 'add external input value form submit',\n",
       " 'find first day next month remaining days till date php',\n",
       " 'relationship node charts graphs using javascript something else',\n",
       " 'class declares multiple json fields',\n",
       " 'wrap echo textarea using php',\n",
       " 'django updating single model',\n",
       " 'django custom user model admin relation auth_user exist',\n",
       " 'laravel 4 load different layout particular method',\n",
       " 'linq result empty',\n",
       " 'google credential service account',\n",
       " 'list orderby alphabetical order',\n",
       " 'javascript submit page 30 seconds',\n",
       " 'printing rdlc report without preview web application iis mode',\n",
       " 'word 2007 documents visual studio 2010',\n",
       " 'whats best way serialize javascript objects xml',\n",
       " 'use mongodbexport python shell script',\n",
       " 'stop executing page loading',\n",
       " 'exception thread main javalangnoclassdeffounderror wrong name command prompt',\n",
       " 'view prepared pdo sql statement',\n",
       " 'set form minimum size',\n",
       " 'difference uint32 unsigned int c++',\n",
       " 'pass double value textview android im new',\n",
       " 'invoke parent private method child',\n",
       " 'form validation angularjs ionic doesnt work',\n",
       " 'change text span element clicking using jquery',\n",
       " 'get next item laravel collection',\n",
       " 'add png jbutton',\n",
       " 'error passing 2d char array function',\n",
       " 'stdsignal stdraise threadsafe',\n",
       " 'aspnet mvc passing model referencing different assembly controller view using c#',\n",
       " 'get started mean stack',\n",
       " 'tell python script use particular version',\n",
       " 'jquery sum class li value',\n",
       " 'passing argument using add_action wordpress',\n",
       " 'access nested elements json object using getjsonarray method',\n",
       " 'c# serialize second level element property',\n",
       " 'happens call notify thread waiting',\n",
       " 'd3js insert new sibling elements',\n",
       " 'customisations tabularinline django',\n",
       " 'get php self get variables',\n",
       " 'event triggered tab load loading tab ajax',\n",
       " 'socket programming single computer',\n",
       " 'change value div',\n",
       " 'cant correctly import external js aurelia application datatables',\n",
       " 'python requests_ntlm import error',\n",
       " 'using dependency injection pojos inject ejbs',\n",
       " 'sqlite wal mode multiple transactions multiple threads',\n",
       " 'opengl alpha blending wrong color',\n",
       " 'redeclaring function parameters variables',\n",
       " 'migrate existing site cms like drupal framework like zend neither',\n",
       " 'encoding problem',\n",
       " 'changing queries table adapter database connection',\n",
       " 'smooth uitextview auto scroll bottom frame',\n",
       " 'cant connect mongodb database user php',\n",
       " 'get class name without instance class php',\n",
       " 'passportjs localstrategy allow parameters default username password',\n",
       " 'multi selection drop menu',\n",
       " 'play framework 2 running unit tests intellij idea 13',\n",
       " 'python split path recursively',\n",
       " 'speed exceptions java',\n",
       " 'modify initcomponents netbeans',\n",
       " 'want create multiple pdfs loop using dompdf',\n",
       " 'phpunit code coverage gives zend_mm_heap corrupted segmentation fault 11',\n",
       " 'using string array hashmap java',\n",
       " 'use index variable jstl foreach loop access map entry',\n",
       " 'get result mysql_query inside mysql_fetch_array',\n",
       " 'show d3 chart using bootstrap modal popup click button download image format',\n",
       " 'find cluster sizes 2d numpy array',\n",
       " 'ninject binding identity usermanager',\n",
       " 'run aspnet web application another machine',\n",
       " 'transferring one datagridview data another datagridview vbnet',\n",
       " 'defer attribute chrome',\n",
       " 'check kind pdf reader installed',\n",
       " 'whats easiest way java swing client consumer webservice',\n",
       " 'apache poi getting exact font color excel java',\n",
       " 'initialize empty vector structure c++',\n",
       " 'edit textfield selected text color javafx',\n",
       " 'tree traversal java iterative recursive',\n",
       " 'get enum values list string java 8',\n",
       " 'c++ templates generic programming vs polymorphism',\n",
       " 'clear stack visual studio immediate window',\n",
       " 'mvc3 validationattribute validationcontextmembername null',\n",
       " 'awaiting async task showing modal form method handled',\n",
       " 'getting razor view understand linq sql objects',\n",
       " 'using java variable sql statement',\n",
       " 'python program run computer without python c c++',\n",
       " 'stop winsound stop thread python',\n",
       " 'fatal error call member function query nonobject php file',\n",
       " 'java list string array remove',\n",
       " 'jtextfield inner fields preformated format something like ip field windows',\n",
       " 'opencv python error assertion failed sizewidth0 sizeheight0',\n",
       " 'display one div time',\n",
       " 'calculate time difference strings javascript',\n",
       " 'set background color mac osx objective c',\n",
       " 'open file remote network share',\n",
       " 'save id autocomplete field instead text jquery autocomplete rails3',\n",
       " 'passing values dynamically created textboxes array using javascript',\n",
       " 'android studio gradle issues invalid gradle jdk configuration found',\n",
       " 'onitemselectedlistener working tab fragment',\n",
       " 'activemq stops sending messages queue consumer case consumer acknowledging messages',\n",
       " 'get cakephp bake find mysqlsock recognize mysql using mamp mac osx',\n",
       " 'circular references warnings caused forward declarations object c',\n",
       " 'sum digits even odd places c',\n",
       " 'include function inside another function',\n",
       " 'infinite loop getter setter c#',\n",
       " 'detect uitableview scroll past bottom top',\n",
       " 'object relational mapping insert update stored procedures',\n",
       " 'angular js directive unloading event equivalent',\n",
       " 'usual practice combine minify external js libraries css files',\n",
       " 'initialise class object name',\n",
       " 'using href link servlet',\n",
       " 'using java parse csv save 2d array',\n",
       " 'jquery auto print row number',\n",
       " 'cannot implicitly convert type string microsoftsqlserverdtsruntimevariable',\n",
       " 'python list list __getitem__',\n",
       " 'definite selenium solution modal pop dialogs internet explorer java',\n",
       " 'cache jquery objects',\n",
       " 'get translate3d values div',\n",
       " 'javalangclasscastexception androidwidgetlinearlayout cannot cast androidwidgettextview using arrayadapter',\n",
       " 'pushing mysql data javascript php',\n",
       " 'appengine apps vs google bot web crawler',\n",
       " 'difference interface abstract class',\n",
       " 'firefox firebug extension freeze javascript feature',\n",
       " 'store data contains quotes mysql',\n",
       " 'shouldnt functions async default',\n",
       " 'scikit learn creation dummy variables',\n",
       " 'plotting histograms grouped data pandas dataframe',\n",
       " 'load image static method',\n",
       " 'declare carray header file',\n",
       " 'convert character entities unicode equivalents',\n",
       " 'owin openid provider getexternallogininfo returns null',\n",
       " 'pure virtual function cannot inline',\n",
       " 'mvc4 create script bundle razor file',\n",
       " 'strange fatal error call undefined method phpmailersetfrom codeigniter',\n",
       " 'cannot use object array php',\n",
       " 'refresh button iframe jquery javascript',\n",
       " 'splash screen animation supporting xcode 7 gm ios9 app crashes error',\n",
       " 'wpf window detect first show',\n",
       " 'google maps jsp spring',\n",
       " 'javascript generated typescript',\n",
       " 'make python 3x enter text web browser',\n",
       " 'jquery accordion activate external links',\n",
       " 'delete multiple rows table angularjs',\n",
       " 'could affect python string comparison performance strings 64 characters',\n",
       " 'running django project without django installation',\n",
       " 'rails upgrade 323 3211',\n",
       " 'using blocks reload uitableview data crashes',\n",
       " 'best practice handle backing bean initialization jsf 20 jsf20',\n",
       " 'file load error running rspec',\n",
       " 'xml validation xsds java',\n",
       " 'accessing attributes attr raphael element triggering mouseover event',\n",
       " 'write jump instruction c',\n",
       " 'property found object type',\n",
       " 'populate matrix values another matrix r',\n",
       " 'allow access php file another php file direct url',\n",
       " 'change json structure',\n",
       " 'local global static variables c++',\n",
       " 'get type name object property name',\n",
       " 'reduce lag jframe painting',\n",
       " 'convert complex filename html link',\n",
       " 'use typeid store type_info object',\n",
       " 'c++ metatemplates required knowledge programmers',\n",
       " 'python regex gets last occurrence',\n",
       " 'optimizing tomcat garbage collection',\n",
       " 'uialertview buttons subviews showing ios 7',\n",
       " 'executable jar file running',\n",
       " 'suggestions open source aspectoriented library c#',\n",
       " 'resize images using javascript scale real resize',\n",
       " 'jquery ui datepicker date range issue',\n",
       " 'printing odd numbered characters string without string slicing',\n",
       " 'make checkbox win32',\n",
       " 'scrolling zooming div',\n",
       " 'test nginx proxy timeouts',\n",
       " 'fixedpoint arithmetic',\n",
       " 'eval function work php',\n",
       " 'java reflection set value class object dynamically created',\n",
       " 'checking file last modified c# windows os',\n",
       " 'iterating users feed using javascript sdk',\n",
       " 'c# determine duplicate list',\n",
       " 'wpf combobox default selection itemssource',\n",
       " 'django questionhow pass list parameter using post method',\n",
       " 'return value done jquery ajax',\n",
       " 'entity framework paged join unions',\n",
       " 'possible ways happen memory leaks using jsp servlets development mode',\n",
       " 'contextsavechanges linq',\n",
       " 'nodename sometimes allcaps javascript dom',\n",
       " 'syntax error unexpected end input parsejson',\n",
       " 'transactional file writing c# windows',\n",
       " 'use multithreading would multi threading beneficial different threads execute mutually independent tasks',\n",
       " 'jquery dropdown menu',\n",
       " 'get maximum size resize excel worksheet',\n",
       " 'include get_template_part',\n",
       " 'select specific part array two arrays returned',\n",
       " 'advantages apache wicket',\n",
       " 'send email php specified time',\n",
       " 'creating set uniformly distributed random numbers',\n",
       " 'disable caching via configuration yii',\n",
       " 'unable create math object java',\n",
       " 'python socket error 35',\n",
       " 'two realms application spring security',\n",
       " 'using python subprocesscall crontab',\n",
       " 'updating python use aws cli',\n",
       " 'performing multiple database operations single rest call',\n",
       " 'databinding variable c# textblock wpf application working',\n",
       " 'c++ opengl drawing room',\n",
       " ...]"
      ]
     },
     "execution_count": 27,
     "metadata": {},
     "output_type": "execute_result"
    }
   ],
   "source": [
    "X_train"
   ]
  },
  {
   "cell_type": "markdown",
   "metadata": {
    "colab_type": "text",
    "id": "At_ZTeqTTF-t"
   },
   "source": [
    "## Task 2 (WordsTagsCount) - Find 3 most popular tags and 3 most popular words in the train data. - 5 points"
   ]
  },
  {
   "cell_type": "markdown",
   "metadata": {
    "colab_type": "text",
    "id": "x2mT1f7gWKSu"
   },
   "source": [
    "Note: The words which appear the most are considered as popular in this case!"
   ]
  },
  {
   "cell_type": "code",
   "execution_count": 29,
   "metadata": {
    "colab": {},
    "colab_type": "code",
    "id": "q-eQoxipTF-v"
   },
   "outputs": [],
   "source": [
    "import collections \n",
    "from collections import Counter\n",
    "import re\n",
    "\n",
    "words=[]\n",
    "tags=[]\n",
    "for i in range(len(df_train)):\n",
    "    words = words+(re.findall(r'\\w+', X_train[i])) \n",
    "    tags=tags+y_train[i] \n",
    "\n",
    "\n",
    "words_counts = Counter(words) \n",
    "tag_counts=Counter(tags)"
   ]
  },
  {
   "cell_type": "markdown",
   "metadata": {
    "colab_type": "text",
    "id": "xkwg8_WNTF-3"
   },
   "source": [
    "We are assuming that *tags_counts* and *words_counts* are dictionaries like `{'some_word_or_tag': frequency}`. After applying the sorting procedure, results will be look like this: `[('most_popular_word_or_tag', frequency), ('less_popular_word_or_tag', frequency), ...]`.\n",
    "\n",
    "eg: \n",
    "Tag 1 - 100 Tag 2 - 65 Tag 3 - 250 <br>\n",
    "after sorting looks like, <br>\n",
    "Tag 3 - 250 Tag 1 - 100 Tag 2 - 65"
   ]
  },
  {
   "cell_type": "code",
   "execution_count": 30,
   "metadata": {
    "colab": {},
    "colab_type": "code",
    "id": "RSCPa54uTF-4"
   },
   "outputs": [],
   "source": [
    "tags_counts = tag_counts\n",
    "words_counts = Counter(words)\n",
    "most_common_tags = sorted(tags_counts.items(), key=lambda x: x[1], reverse=True)[:3]\n",
    "most_common_words = sorted(words_counts.items(), key=lambda x: x[1], reverse=True)[:3]"
   ]
  },
  {
   "cell_type": "code",
   "execution_count": 77,
   "metadata": {},
   "outputs": [
    {
     "name": "stdout",
     "output_type": "stream",
     "text": [
      "[('using', 8279), ('c', 8183), ('php', 5624), ('java', 5506), ('file', 5055), ('javascript', 4747), ('error', 4390), ('get', 4302), ('python', 4075), ('string', 3657), ('array', 3535), ('data', 3298), ('jquery', 3295), ('value', 3177), ('function', 2896), ('object', 2654), ('class', 2558), ('use', 2422), ('list', 2137), ('method', 2123), ('multiple', 2096), ('text', 1930), ('image', 1849), ('page', 1847), ('rails', 1778), ('form', 1776), ('create', 1760), ('html', 1721), ('type', 1699), ('code', 1664), ('set', 1640), ('working', 1636), ('database', 1631), ('add', 1611), ('convert', 1586), ('mysql', 1576), ('json', 1558), ('variable', 1543), ('server', 1543), ('android', 1533), ('values', 1528), ('aspnet', 1506), ('way', 1454), ('application', 1451), ('change', 1441), ('button', 1385), ('find', 1384), ('django', 1376), ('one', 1370), ('without', 1369), ('windows', 1340), ('cannot', 1314), ('table', 1274), ('call', 1261), ('files', 1249), ('ajax', 1248), ('check', 1223), ('time', 1213), ('name', 1174), ('two', 1169), ('ruby', 1164), ('getting', 1159), ('date', 1137), ('web', 1129), ('make', 1127), ('xml', 1122), ('user', 1122), ('input', 1121), ('app', 1116), ('another', 1115), ('element', 1107), ('custom', 1093), ('event', 1088), ('api', 1083), ('access', 1074), ('url', 1057), ('number', 1052), ('spring', 1024), ('view', 1005), ('sql', 1001), ('return', 983), ('mvc', 982), ('google', 981), ('select', 980), ('query', 972), ('inside', 947), ('exception', 944), ('display', 943), ('column', 941), ('read', 940), ('loop', 940), ('swift', 934), ('new', 932), ('work', 931), ('remove', 931), ('load', 912), ('r', 896), ('objects', 867), ('property', 866), ('line', 863), ('cant', 859), ('pass', 840), ('click', 838), ('net', 829), ('framework', 823), ('update', 822), ('script', 819), ('vs', 812), ('2', 806), ('post', 806), ('null', 797), ('creating', 795), ('request', 787), ('different', 785), ('field', 778), ('key', 778), ('run', 776), ('row', 769), ('doesnt', 768), ('ios', 763), ('service', 751), ('linq', 736), ('div', 733), ('open', 723), ('window', 720), ('project', 717), ('wpf', 713), ('format', 706), ('best', 706), ('show', 696), ('controller', 694), ('variables', 694), ('undefined', 693), ('specific', 691), ('dynamically', 691), ('adding', 675), ('based', 657), ('angularjs', 653), ('control', 650), ('parameter', 648), ('3', 647), ('send', 647), ('model', 644), ('library', 639), ('difference', 639), ('insert', 637), ('first', 636), ('passing', 635), ('vbnet', 635), ('js', 634), ('regex', 628), ('elements', 627), ('eclipse', 625), ('codeigniter', 625), ('within', 624), ('path', 623), ('dynamic', 618), ('visual', 611), ('memory', 606), ('connection', 604), ('possible', 602), ('id', 601), ('thread', 598), ('save', 592), ('default', 591), ('via', 590), ('running', 587), ('size', 585), ('program', 584), ('found', 584), ('content', 582), ('reference', 581), ('issue', 576), ('attribute', 571), ('write', 571), ('studio', 570), ('laravel', 561), ('search', 543), ('test', 540), ('excel', 540), ('static', 539), ('session', 537), ('output', 535), ('http', 530), ('character', 529), ('characters', 529), ('entity', 525), ('current', 523), ('problem', 522), ('1', 521), ('client', 520), ('calling', 520), ('empty', 519), ('css', 518), ('simple', 517), ('int', 517), ('parameters', 515), ('upload', 515), ('command', 510), ('reading', 509), ('directory', 504), ('validation', 501), ('hibernate', 499), ('map', 496), ('selected', 493), ('textbox', 492), ('unable', 491), ('browser', 486), ('images', 484), ('item', 484), ('index', 482), ('link', 481), ('facebook', 478), ('expression', 475), ('store', 474), ('setting', 474), ('delete', 474), ('single', 469), ('template', 468), ('like', 468), ('statement', 463), ('strings', 462), ('rows', 461), ('failed', 461), ('header', 460), ('replace', 460), ('loading', 459), ('login', 454), ('box', 453), ('iphone', 452), ('4', 450), ('numbers', 449), ('color', 448), ('nested', 446), ('returning', 445), ('print', 443), ('instance', 443), ('background', 443), ('pdf', 441), ('char', 440), ('parse', 440), ('could', 439), ('disable', 438), ('bootstrap', 435), ('message', 434), ('csv', 433), ('module', 433), ('x', 427), ('tag', 426), ('converting', 425), ('chrome', 424), ('parent', 420), ('invalid', 418), ('returns', 416), ('local', 414), ('methods', 409), ('need', 407), ('connect', 404), ('email', 401), ('changing', 400), ('trying', 399), ('response', 397), ('functions', 396), ('install', 393), ('redirect', 390), ('dictionary', 387), ('angular', 387), ('order', 387), ('arrays', 385), ('dropdown', 384), ('classes', 383), ('folder', 381), ('generate', 381), ('bar', 380), ('submit', 380), ('pandas', 379), ('process', 377), ('columns', 376), ('child', 375), ('source', 375), ('checkbox', 375), ('integer', 371), ('count', 369), ('sending', 368), ('start', 368), ('parsing', 368), ('items', 368), ('detect', 365), ('double', 365), ('datetime', 363), ('hide', 363), ('console', 363), ('fields', 363), ('jsp', 363), ('gridview', 359), ('pointer', 359), ('7', 358), ('selenium', 357), ('import', 356), ('linux', 356), ('constructor', 355), ('random', 354), ('programmatically', 353), ('action', 353), ('collection', 350), ('instead', 347), ('version', 344), ('datagridview', 342), ('filter', 340), ('sort', 340), ('objectivec', 338), ('website', 336), ('generic', 335), ('last', 334), ('result', 334), ('build', 333), ('system', 332), ('nodejs', 332), ('download', 331), ('split', 330), ('properties', 330), ('interface', 329), ('iframe', 329), ('back', 329), ('cell', 328), ('binding', 328), ('arguments', 328), ('5', 327), ('datatable', 326), ('syntax', 326), ('xcode', 325), ('scroll', 325), ('binary', 324), ('onclick', 323), ('0', 323), ('external', 321), ('position', 319), ('socket', 319), ('execute', 318), ('rest', 318), ('include', 318), ('called', 316), ('missing', 316), ('word', 314), ('maps', 312), ('implement', 311), ('typeerror', 311), ('byte', 310), ('copy', 310), ('whats', 309), ('extension', 309), ('refresh', 308), ('video', 308), ('menu', 307), ('match', 306), ('given', 304), ('argument', 304), ('node', 304), ('wordpress', 303), ('retrieve', 300), ('regular', 296), ('accessing', 294), ('forms', 292), ('canvas', 292), ('showing', 292), ('document', 291), ('results', 290), ('ui', 289), ('runtime', 289), ('arraylist', 287), ('defined', 287), ('handle', 285), ('drop', 283), ('apache', 282), ('group', 281), ('errors', 281), ('large', 280), ('opencv', 277), ('height', 277), ('compare', 277), ('wcf', 277), ('address', 276), ('ie', 276), ('mobile', 276), ('many', 275), ('properly', 275), ('8', 274), ('member', 274), ('equivalent', 274), ('screen', 273), ('exists', 273), ('global', 272), ('plugin', 270), ('password', 270), ('expected', 269), ('maven', 269), ('vector', 268), ('events', 268), ('jar', 268), ('length', 267), ('location', 267), ('writing', 267), ('types', 267), ('numpy', 267), ('servlet', 267), ('html5', 266), ('extract', 266), ('width', 265), ('stored', 265), ('close', 262), ('dataframe', 262), ('dialog', 262), ('certain', 262), ('help', 261), ('used', 261), ('range', 260), ('style', 259), ('names', 258), ('handling', 258), ('prevent', 258), ('automatically', 257), ('works', 257), ('tomcat', 256), ('resource', 256), ('magento', 256), ('every', 256), ('fails', 255), ('cast', 255), ('created', 254), ('pattern', 254), ('warning', 254), ('frame', 253), ('popup', 253), ('wrong', 252), ('contains', 251), ('enum', 251), ('validate', 251), ('displaying', 251), ('operator', 250), ('updating', 249), ('qt', 249), ('curl', 249), ('package', 248), ('stop', 247), ('must', 246), ('testing', 246), ('listview', 246), ('space', 245), ('2d', 244), ('put', 243), ('authentication', 243), ('context', 243), ('conversion', 242), ('keys', 240), ('auto', 238), ('structure', 238), ('callback', 237), ('main', 237), ('saving', 236), ('token', 236), ('end', 236), ('tab', 236), ('exist', 236), ('db', 236), ('long', 235), ('problems', 235), ('foreach', 234), ('existing', 234), ('dll', 232), ('always', 232), ('block', 232), ('sorting', 231), ('grid', 231), ('finding', 231), ('matplotlib', 230), ('remote', 230), ('sqlite', 230), ('buttons', 229), ('option', 229), ('bind', 228), ('determine', 228), ('modal', 227), ('firefox', 227), ('stream', 227), ('performance', 227), ('tags', 227), ('label', 226), ('plot', 226), ('mac', 225), ('join', 224), ('decimal', 224), ('combobox', 224), ('uncaught', 224), ('phone', 223), ('radio', 223), ('example', 223), ('chart', 222), ('compile', 221), ('unexpected', 221), ('attributes', 221), ('dom', 219), ('checking', 218), ('correctly', 218), ('right', 217), ('tables', 214), ('point', 214), ('installing', 214), ('users', 214), ('lines', 214), ('base', 214), ('mouse', 213), ('float', 213), ('basic', 211), ('support', 211), ('struct', 210), ('tree', 209), ('hash', 208), ('making', 208), ('unit', 208), ('unique', 207), ('scope', 207), ('threads', 206), ('correct', 205), ('duplicate', 205), ('catch', 205), ('next', 204), ('handler', 204), ('mean', 204), ('already', 204), ('wont', 203), ('edit', 203), ('even', 203), ('good', 203), ('task', 202), ('admin', 202), ('uitableview', 202), ('removing', 202), ('matrix', 201), ('pages', 201), ('namespace', 200), ('contents', 200), ('valid', 200), ('graph', 199), ('dates', 199), ('lists', 198), ('sdk', 197), ('log', 197), ('encoding', 197), ('const', 197), ('debug', 197), ('objective', 196), ('case', 196), ('calculate', 196), ('changes', 196), ('site', 196), ('programming', 195), ('configuration', 195), ('storing', 195), ('side', 195), ('active', 195), ('sum', 194), ('full', 194), ('limit', 194), ('keep', 193), ('jpa', 193), ('top', 192), ('listbox', 192), ('implementation', 190), ('animation', 190), ('unicode', 189), ('append', 188), ('override', 188), ('mongodb', 188), ('printing', 187), ('winforms', 187), ('twitter', 186), ('allow', 186), ('record', 185), ('resize', 185), ('part', 185), ('utf8', 184), ('core', 184), ('lambda', 183), ('loaded', 183), ('mail', 182), ('ip', 182), ('security', 182), ('controls', 182), ('play', 181), ('times', 181), ('pdo', 180), ('layout', 178), ('selection', 177), ('async', 176), ('fatal', 176), ('game', 176), ('records', 175), ('define', 175), ('bean', 175), ('language', 175), ('switch', 174), ('boolean', 174), ('webdriver', 174), ('cookie', 174), ('draw', 173), ('constant', 173), ('outside', 173), ('cakephp', 172), ('domain', 172), ('gui', 172), ('force', 172), ('unknown', 171), ('true', 171), ('inserting', 171), ('assign', 169), ('wait', 169), ('port', 168), ('false', 168), ('mode', 168), ('20', 168), ('slow', 168), ('named', 168), ('state', 167), ('focus', 167), ('oracle', 167), ('issues', 167), ('requests', 167), ('mapping', 167), ('netbeans', 167), ('available', 167), ('condition', 167), ('multidimensional', 167), ('enable', 166), ('generated', 166), ('ubuntu', 165), ('assembly', 165), ('jdbc', 164), ('uploading', 164), ('clicked', 164), ('device', 164), ('gem', 163), ('populate', 163), ('yii', 163), ('soap', 163), ('specified', 162), ('swing', 162), ('required', 161), ('initialize', 161), ('special', 161), ('engine', 161), ('2010', 160), ('6', 160), ('checked', 159), ('exceptions', 159), ('executing', 159), ('know', 159), ('network', 158), ('bad', 158), ('native', 158), ('avoid', 157), ('tkinter', 157), ('n', 157), ('javafx', 157), ('webservice', 157), ('try', 157), ('design', 157), ('timeout', 156), ('month', 156), ('export', 156), ('efficient', 155), ('trigger', 155), ('10', 155), ('want', 155), ('404', 155), ('heroku', 155), ('move', 155), ('question', 155), ('os', 154), ('component', 154), ('timer', 154), ('dont', 154), ('iterate', 154), ('stack', 154), ('zend', 152), ('words', 152), ('body', 152), ('textarea', 151), ('views', 151), ('implementing', 151), ('compiler', 150), ('clicking', 150), ('linked', 150), ('symfony2', 149), ('symbol', 149), ('clear', 148), ('render', 148), ('flask', 148), ('root', 148), ('navigation', 148), ('second', 147), ('datagrid', 147), ('pointers', 146), ('fill', 146), ('ssl', 145), ('inheritance', 145), ('private', 145), ('route', 145), ('procedure', 145), ('particular', 145), ('rspec', 144), ('information', 144), ('left', 144), ('scrolling', 144), ('declaration', 144), ('status', 143), ('behind', 143), ('bytes', 143), ('fetch', 142), ('fix', 142), ('services', 142), ('calendar', 142), ('reflection', 142), ('push', 142), ('spaces', 142), ('algorithm', 141), ('xpath', 141), ('alert', 141), ('apply', 140), ('cache', 140), ('integers', 140), ('youtube', 140), ('development', 139), ('calls', 139), ('dependency', 139), ('options', 138), ('maximum', 138), ('hex', 138), ('max', 138), ('https', 138), ('usage', 137), ('progress', 137), ('target', 137), ('previous', 137), ('environment', 137), ('models', 136), ('merge', 136), ('title', 136), ('practice', 136), ('internet', 136), ('comparing', 136), ('changed', 135), ('headers', 135), ('driver', 134), ('notification', 133), ('libraries', 133), ('boost', 133), ('matching', 132), ('apps', 132), ('statements', 132), ('panel', 132), ('symfony', 132), ('shared', 132), ('font', 132), ('opengl', 132), ('tests', 132), ('processing', 132), ('comma', 131), ('public', 131), ('xaml', 131), ('installed', 131), ('datepicker', 131), ('separate', 130), ('standard', 130), ('icon', 130), ('resources', 130), ('directive', 129), ('report', 129), ('abstract', 129), ('links', 129), ('htaccess', 129), ('better', 128), ('hidden', 128), ('container', 128), ('serialize', 128), ('debugging', 128), ('logging', 128), ('would', 128), ('asp', 128), ('resolve', 128), ('autocomplete', 127), ('junit', 127), ('configure', 127), ('ggplot2', 127), ('react', 127), ('see', 127), ('hashmap', 127), ('partial', 126), ('alternative', 126), ('queries', 126), ('selecting', 125), ('visible', 125), ('svg', 125), ('echo', 125), ('messages', 125), ('returned', 125), ('throws', 125), ('devise', 124), ('something', 124), ('keyboard', 123), ('proxy', 123), ('checkboxes', 123), ('declare', 123), ('jsf', 123), ('generating', 123), ('denied', 122), ('take', 122), ('jtable', 122), ('whether', 122), ('coordinates', 122), ('escape', 122), ('operation', 121), ('quotes', 121), ('day', 121), ('causes', 121), ('drag', 121), ('virtual', 121), ('formatting', 121), ('extjs', 120), ('reload', 120), ('drawing', 120), ('setup', 120), ('contain', 120), ('shell', 119), ('intellij', 119), ('queue', 119), ('phonegap', 119), ('product', 119), ('dataset', 119), ('machine', 118), ('delegate', 118), ('webpage', 118), ('entities', 118), ('rendering', 118), ('strange', 118), ('containing', 118), ('cells', 118), ('applications', 118), ('twice', 118), ('dropdownlist', 118), ('connecting', 117), ('inline', 117), ('per', 117), ('execution', 117), ('gcc', 117), ('razor', 116), ('blank', 116), ('relationship', 116), ('uiview', 116), ('level', 116), ('opening', 116), ('ms', 116), ('conditional', 116), ('serialization', 115), ('gives', 115), ('widget', 115), ('initialization', 115), ('relative', 115), ('modify', 115), ('safe', 115), ('capture', 115), ('etc', 115), ('internal', 115), ('nodes', 114), ('jqgrid', 114), ('definition', 114), ('11', 114), ('timestamp', 114), ('batch', 113), ('importing', 113), ('building', 113), ('retrieving', 112), ('expressions', 112), ('compiling', 112), ('else', 112), ('allowed', 112), ('added', 111), ('sqlalchemy', 111), ('still', 111), ('numeric', 111), ('tcp', 111), ('year', 110), ('host', 110), ('seconds', 110), ('doctrine', 110), ('selector', 110), ('href', 109), ('boot', 109), ('highcharts', 109), ('cookies', 109), ('nsstring', 108), ('foreign', 108), ('jframe', 107), ('jackson', 107), ('starting', 107), ('config', 107), ('annotation', 107), ('embedded', 107), ('fast', 107), ('reset', 106), ('protocol', 106), ('touch', 106), ('injection', 106), ('section', 106), ('firing', 106), ('tabs', 105), ('jaxb', 105), ('webbrowser', 105), ('ascii', 105), ('points', 105), ('closing', 105), ('overriding', 104), ('transaction', 104), ('postgresql', 104), ('trouble', 104), ('hover', 104), ('sharepoint', 104), ('passed', 104), ('labels', 104), ('cursor', 104), ('able', 103), ('gwt', 103), ('recursive', 103), ('specify', 103), ('sequence', 103), ('anchor', 103), ('localhost', 103), ('explorer', 103), ('urls', 103), ('asynchronous', 103), ('assignment', 103), ('replacing', 103), ('enter', 102), ('deploy', 102), ('fixed', 102), ('webview', 102), ('giving', 102), ('days', 102), ('templates', 102), ('exit', 102), ('fastest', 102), ('base64', 102), ('restful', 102), ('deleting', 102), ('toggle', 102), ('axis', 101), ('nil', 101), ('go', 101), ('v3', 101), ('osx', 100), ('proper', 100), ('vb', 100), ('500', 100), ('moving', 100), ('digits', 100), ('nhibernate', 100), ('activerecord', 100), ('casting', 99), ('ignore', 99), ('stl', 99), ('faster', 99), ('permission', 99), ('settings', 99), ('pagination', 98), ('mysqli', 98), ('border', 98), ('lock', 98), ('including', 98), ('loops', 98), ('serial', 97), ('declared', 97), ('incorrect', 97), ('caching', 97), ('activity', 97), ('username', 97), ('real', 97), ('s3', 97), ('effect', 97), ('sent', 97), ('comparison', 96), ('complex', 96), ('complete', 96), ('safari', 96), ('invoke', 96), ('across', 96), ('uitableviewcell', 96), ('txt', 95), ('void', 95), ('audio', 95), ('programatically', 95), ('multi', 95), ('zip', 95), ('speed', 95), ('increment', 95), ('express', 95), ('singleton', 94), ('combine', 94), ('buffer', 94), ('3d', 94), ('scripts', 94), ('modules', 94), ('equal', 94), ('place', 94), ('center', 94), ('keyword', 94), ('closed', 94), ('inner', 93), ('repository', 93), ('routing', 93), ('filtering', 93), ('integration', 93), ('iis', 93), ('break', 93), ('letter', 93), ('mock', 93), ('causing', 93), ('ie8', 92), ('heap', 92), ('whole', 92), ('bundle', 92), ('mvvm', 92), ('letters', 92), ('ant', 91), ('winform', 91), ('crash', 91), ('2008', 91), ('uploaded', 91), ('poi', 90), ('substring', 90), ('bit', 90), ('identifier', 90), ('receive', 90), ('extra', 90), ('leak', 89), ('pip', 89), ('deserialize', 89), ('src', 89), ('self', 89), ('entry', 89), ('series', 89), ('following', 89), ('require', 89), ('blob', 89), ('amazon', 89), ('macro', 89), ('success', 89), ('ftp', 89), ('browsers', 88), ('shows', 88), ('free', 88), ('smtp', 88), ('isnt', 88), ('2012', 87), ('share', 87), ('solution', 87), ('primary', 87), ('extracting', 87), ('camera', 87), ('flash', 87), ('communication', 87), ('rake', 86), ('generator', 86), ('controllers', 86), ('tableview', 86), ('dependencies', 86), ('around', 86), ('failure', 86), ('storage', 86), ('listener', 85), ('exe', 85), ('generics', 85), ('microsoft', 85), ('win32', 85), ('area', 85), ('tell', 85), ('provider', 85), ('failing', 85), ('beautifulsoup', 85), ('marker', 85), ('cocoa', 85), ('iterator', 85), ('secure', 85), ('parallel', 84), ('bool', 84), ('downloading', 84), ('cross', 84), ('negative', 84), ('depending', 84), ('itextsharp', 84), ('unity', 84), ('solve', 84), ('divs', 84), ('tutorial', 84), ('decode', 83), ('datasource', 83), ('recursion', 83), ('directly', 83), ('scrapy', 83), ('ipad', 82), ('sockets', 82), ('com', 82), ('timezone', 82), ('editor', 82), ('slider', 82), ('idea', 82), ('anonymous', 82), ('understanding', 82), ('requires', 82), ('instances', 82), ('calculating', 82), ('non', 81), ('png', 81), ('give', 81), ('40', 81), ('ggplot', 81), ('silverlight', 81), ('behavior', 81), ('parser', 81), ('tool', 81), ('throw', 81), ('detecting', 81), ('white', 81), ('similar', 80), ('compilation', 80), ('webapi', 80), ('iterating', 80), ('waiting', 80), ('throwing', 80), ('jersey', 80), ('unix', 80), ('log4j', 80), ('accept', 80), ('less', 79), ('children', 79), ('executable', 79), ('clause', 79), ('applet', 79), ('needed', 79), ('perform', 79), ('tuple', 79), ('zoom', 79), ('appear', 79), ('reverse', 79), ('animate', 79), ('jboss', 79), ('delay', 79), ('d3', 78), ('joomla', 78), ('installation', 78), ('typescript', 78), ('raw', 78), ('entire', 78), ('certificate', 78), ('optional', 77), ('zero', 77), ('receiving', 77), ('gmail', 77), ('uibutton', 77), ('jpanel', 77), ('rotate', 77), ('primefaces', 77), ('illegal', 77), ('colors', 77), ('treeview', 77), ('copying', 76), ('takes', 76), ('extend', 76), ('big', 76), ('references', 76), ('filename', 76), ('turn', 76), ('udp', 76), ('matches', 76), ('uri', 76), ('subclass', 76), ('embed', 76), ('gradle', 75), ('w', 75), ('classpath', 75), ('except', 75), ('practices', 75), ('g', 75), ('mvc4', 74), ('searching', 74), ('drupal', 74), ('backbonejs', 74), ('nginx', 74), ('manually', 74), ('ckeditor', 74), ('postback', 74), ('30', 74), ('unsigned', 74), ('crashes', 74), ('desktop', 74), ('supported', 74), ('tooltip', 74), ('due', 73), ('commands', 73), ('prepared', 73), ('oauth', 73), ('bound', 73), ('duplicates', 73), ('datatables', 73), ('jvm', 73), ('uiscrollview', 73), ('occurred', 73), ('connections', 73), ('encryption', 72), ('yii2', 72), ('collections', 72), ('creation', 72), ('sessions', 72), ('bottom', 72), ('mvc3', 72), ('ngrepeat', 72), ('ide', 72), ('minutes', 72), ('counting', 72), ('processes', 72), ('prototype', 71), ('fit', 71), ('several', 71), ('job', 71), ('phpunit', 71), ('tasks', 71), ('profile', 71), ('looping', 71), ('annotations', 71), ('img', 71), ('paypal', 71), ('equals', 71), ('projects', 70), ('blocks', 70), ('production', 70), ('var', 70), ('present', 69), ('bitmap', 69), ('backbone', 69), ('prompt', 69), ('incompatible', 69), ('32', 69), ('resolved', 69), ('initializing', 69), ('automatic', 69), ('linking', 69), ('account', 69), ('usercontrol', 69), ('comments', 69), ('exec', 68), ('textfield', 68), ('info', 68), ('infinite', 68), ('increase', 68), ('upon', 68), ('amount', 68), ('original', 68), ('operations', 67), ('separated', 67), ('rvm', 67), ('uiwebview', 67), ('debugger', 67), ('fragment', 67), ('together', 67), ('submitting', 67), ('related', 67), ('nullpointerexception', 67), ('crystal', 67), ('routes', 67), ('disabled', 67), ('websocket', 67), ('literal', 67), ('syntaxerror', 67), ('conditions', 67), ('derived', 66), ('common', 66), ('jsonnet', 66), ('absolute', 66), ('places', 66), ('members', 66), ('aspx', 66), ('unhandled', 66), ('markers', 66), ('ef', 66), ('gets', 65), ('uiimageview', 65), ('logged', 65), ('step', 65), ('small', 65), ('im', 65), ('uses', 65), ('transparent', 65), ('encode', 65), ('onchange', 65), ('offset', 65), ('behaviour', 65), ('displayed', 64), ('horizontal', 64), ('kendo', 64), ('inputs', 64), ('factory', 64), ('posting', 64), ('uiimage', 64), ('azure', 64), ('storyboard', 64), ('ionic', 64), ('fault', 64), ('pop', 64), ('garbage', 64), ('multithreading', 64), ('nothing', 64), ('fail', 64), ('paths', 64), ('exactly', 64), ('hiding', 64), ('jni', 64), ('schema', 64), ('association', 64), ('b', 64), ('instantiate', 64), ('average', 64), ('meteor', 64), ('attributeerror', 63), ('31', 63), ('builder', 63), ('entries', 63), ('100', 63), ('much', 63), ('resizing', 63), ('fine', 63), ('vertical', 63), ('sign', 63), ('chat', 63), ('d3js', 63), ('encoded', 63), ('td', 63), ('validating', 63), ('sorted', 63), ('deploying', 63), ('assigning', 63), ('sheet', 63), ('highlight', 63), ('xampp', 63), ('distinct', 62), ('architecture', 62), ('li', 62), ('manager', 62), ('refreshing', 62), ('live', 62), ('updated', 62), ('ids', 62), ('actual', 62), ('drive', 62), ('editing', 62), ('helper', 62), ('distance', 62), ('cron', 62), ('normal', 62), ('phpmyadmin', 62), ('hours', 62), ('three', 61), ('_post', 61), ('concatenate', 61), ('keeping', 61), ('bug', 61), ('efficiently', 61), ('viewmodel', 61), ('total', 61), ('deprecated', 61), ('importerror', 61), ('xamarin', 61), ('struts', 61), ('libgdx', 60), ('params', 60), ('looking', 60), ('computer', 60), ('lazy', 60), ('mockito', 60), ('war', 60), ('repeater', 60), ('release', 60), ('lib', 60), ('breaks', 60), ('made', 60), ('uitextfield', 60), ('firebase', 60), ('woocommerce', 60), ('splitting', 60), ('pairs', 60), ('printf', 60), ('transfer', 60), ('81', 59), ('requested', 59), ('codebehind', 59), ('pygame', 59), ('eval', 59), ('dict', 59), ('constraint', 59), ('nsarray', 59), ('uilabel', 59), ('threejs', 59), ('encrypt', 59), ('settimeout', 59), ('span', 59), ('jdk', 59), ('struts2', 59), ('itext', 59), ('reports', 59), ('str', 59), ('category', 59), ('world', 59), ('though', 59), ('anything', 59), ('orm', 59), ('initial', 59), ('hadoop', 59), ('structs', 59), ('press', 58), ('old', 58), ('thrown', 58), ('httpclient', 58), ('scale', 58), ('threading', 58), ('actually', 58), ('management', 58), ('nsmutablearray', 58), ('never', 58), ('generation', 58), ('home', 58), ('exclude', 58), ('redirecting', 58), ('fire', 58), ('components', 58), ('analytics', 58), ('packages', 58), ('sets', 57), ('rectangle', 57), ('cause', 57), ('2013', 57), ('detection', 57), ('plotting', 57), ('started', 57), ('forward', 57), ('picture', 57), ('register', 57), ('platform', 57), ('devices', 57), ('referenced', 57), ('socketio', 57), ('slide', 56), ('frames', 56), ('plain', 56), ('symbols', 56), ('sub', 56), ('skip', 56), ('unrecognized', 56), ('segmentation', 56), ('feed', 56), ('scraping', 56), ('stdstring', 56), ('xmlhttprequest', 56), ('details', 56), ('multiprocessing', 56), ('converted', 56), ('sound', 56), ('pressed', 56), ('newline', 56), ('circle', 56), ('approach', 56), ('extending', 56), ('versions', 55), ('destroy', 55), ('cpu', 55), ('charts', 55), ('inject', 55), ('done', 55), ('really', 55), ('cancel', 55), ('folders', 55), ('dimensional', 55), ('cmake', 55), ('round', 55), ('pycharm', 55), ('histogram', 55), ('zone', 55), ('paperclip', 55), ('ignoring', 55), ('readonly', 55), ('final', 55), ('mfc', 54), ('media', 54), ('weird', 54), ('got', 54), ('groups', 54), ('ie9', 54), ('easiest', 54), ('ways', 54), ('shiny', 54), ('interfaces', 54), ('phpexcel', 54), ('refused', 54), ('floating', 54), ('await', 54), ('picker', 54), ('gson', 53), ('restrict', 53), ('verify', 53), ('overloading', 53), ('please', 53), ('rename', 53), ('violation', 53), ('vectors', 53), ('spark', 53), ('reduce', 53), ('min', 53), ('64bit', 53), ('included', 53), ('tools', 53), ('least', 53), ('uiviewcontroller', 53), ('permissions', 53), ('populating', 53), ('migration', 53), ('initialized', 53), ('functionality', 53), ('colour', 53), ('9', 52), ('odd', 52), ('eloquent', 52), ('runs', 52), ('disabling', 52), ('patterns', 52), ('overlay', 52), ('hyperlink', 52), ('wrap', 52), ('aws', 52), ('dot', 52), ('according', 52), ('malloc', 52), ('occurrences', 52), ('taking', 52), ('swt', 52), ('clients', 52), ('wrapper', 52), ('layer', 52), ('expects', 52), ('listt', 52), ('mp3', 52), ('knockout', 52), ('dictionaries', 52), ('digit', 52), ('rgb', 52), ('transition', 52), ('pyqt', 51), ('brackets', 51), ('uninitialized', 51), ('randomly', 51), ('nsdictionary', 51), ('jstl', 51), ('learn', 51), ('64', 51), ('35', 51), ('extensions', 51), ('makefile', 51), ('ienumerable', 51), ('pause', 51), ('differences', 51), ('counter', 51), ('beans', 51), ('explicit', 51), ('none', 51), ('easy', 51), ('may', 51), ('written', 51), ('saved', 50), ('phpmailer', 50), ('high', 50), ('exact', 50), ('ok', 50), ('inserted', 50), ('locale', 50), ('doc', 50), ('recursively', 50), ('math', 50), ('rather', 50), ('appending', 50), ('git', 50), ('signalr', 50), ('photo', 50), ('front', 50), ('everything', 50), ('scanner', 50), ('posts', 50), ('closure', 50), ('reason', 50), ('also', 50), ('received', 50), ('jenkins', 50), ('appconfig', 50), ('hour', 50), ('confirm', 50), ('wsdl', 50), ('unsupported', 49), ('calculation', 49), ('preg_match', 49), ('documents', 49), ('happens', 49), ('identity', 49), ('uicollectionview', 49), ('learning', 49), ('precision', 49), ('signal', 49), ('registry', 49), ('week', 49), ('known', 49), ('valueerror', 48), ('lookup', 48), ('textboxes', 48), ('localstorage', 48), ('comment', 48), ('logic', 48), ('feature', 48), ('chars', 48), ('inherited', 48), ('glassfish', 48), ('padding', 48), ('master', 48), ('referenceerror', 48), ('p', 48), ('align', 48), ('lost', 48), ('additional', 48), ('prefix', 48), ('chartjs', 48), ('restart', 48), ('postgres', 48), ('deployment', 48), ('webconfig', 48), ('pythons', 48), ('iteration', 48), ('percentage', 47), ('terminal', 47), ('submission', 47), ('arduino', 47), ('merging', 47), ('online', 47), ('nonobject', 47), ('makes', 47), ('jsoup', 47), ('pool', 47), ('constants', 47), ('implicit', 47), ('transform', 47), ('ldap', 47), ('27', 47), ('optimize', 47), ('sharing', 47), ('emails', 47), ('enums', 47), ('thumbnail', 47), ('underscore', 47), ('beginning', 47), ('square', 47), ('fancybox', 47), ('pil', 47), ('tensorflow', 47), ('cordova', 47), ('constraints', 46), ('innerhtml', 46), ('cli', 46), ('md5', 46), ('combo', 46), ('dojo', 46), ('javalangnoclassdeffounderror', 46), ('direct', 46), ('uitextview', 46), ('pure', 46), ('clean', 46), ('graphics', 46), ('purpose', 46), ('fetching', 46), ('bash', 46), ('completely', 46), ('simulate', 46), ('unresolved', 46), ('arc', 46), ('updates', 46), ('obtain', 46), ('concurrent', 46), ('rewrite', 46), ('sample', 46), ('manytomany', 46), ('deserializing', 45), ('naming', 45), ('launch', 45), ('moq', 45), ('identify', 45), ('linker', 45), ('upgrade', 45), ('mouseover', 45), ('modified', 45), ('fade', 45), ('dd', 45), ('reloading', 45), ('confusion', 45), ('figure', 45), ('eg', 45), ('24', 45), ('polygon', 45), ('exporting', 45), ('mismatch', 45), ('pixel', 45), ('scanf', 45), ('queryset', 45), ('rotation', 45), ('sqlite3', 45), ('rules', 45), ('kernel', 45), ('greater', 45), ('signature', 45), ('explain', 45), ('legend', 45), ('init', 45), ('bin', 44), ('adapter', 44), ('latitude', 44), ('longitude', 44), ('preg_replace', 44), ('well', 44), ('includes', 44), ('grouping', 44), ('streaming', 44), ('track', 44), ('declaring', 44), ('black', 44), ('interop', 44), ('openssl', 44), ('parts', 44), ('notifications', 44), ('subset', 44), ('nokogiri', 44), ('jasmine', 44), ('startup', 44), ('short', 44), ('locate', 44), ('hello', 44), ('orientation', 44), ('protected', 44), ('connected', 44), ('mm', 44), ('managed', 43), ('player', 43), ('versus', 43), ('stdout', 43), ('nunit', 43), ('deserialization', 43), ('relation', 43), ('wamp', 43), ('modifying', 43), ('footer', 43), ('general', 43), ('multithreaded', 43), ('individual', 43), ('assets', 43), ('opencart', 43), ('theme', 43), ('richtextbox', 43), ('pair', 43), ('ready', 43), ('compiled', 43), ('xsd', 43), ('notation', 43), ('contact', 43), ('coding', 43), ('either', 43), ('operators', 43), ('16', 43), ('plus', 43), ('customize', 43), ('executed', 43), ('combining', 43), ('stdin', 42), ('milliseconds', 42), ('backend', 42), ('cart', 42), ('hangs', 42), ('httpwebrequest', 42), ('finished', 42), ('editable', 42), ('allocated', 42), ('transactions', 42), ('broken', 42), ('couldnt', 42), ('manage', 42), ('actions', 42), ('howto', 42), ('documentation', 42), ('clicks', 42), ('calculator', 42), ('integrate', 42), ('price', 42), ('lxml', 42), ('products', 42), ('bluetooth', 42), ('hashes', 42), ('multiline', 42), ('oop', 42), ('setinterval', 42), ('confirmation', 42), ('implicitly', 41), ('serializing', 41), ('wxpython', 41), ('understand', 41), ('highlighting', 41), ('opened', 41), ('simulator', 41), ('switching', 41), ('loads', 41), ('preview', 41), ('threadsafe', 41), ('circular', 41), ('occurrence', 41), ('plots', 41), ('cucumber', 41), ('look', 41), ('boxes', 41), ('whitespace', 41), ('matlab', 41), ('inputstream', 41), ('formatted', 41), ('criteria', 41), ('rule', 41), ('observable', 41), ('attachment', 41), ('recognized', 41), ('mono', 41), ('ee', 41), ('json_encode', 41), ('yyyy', 41), ('resultset', 41), ('namespaces', 41), ('longer', 40), ('resolution', 40), ('mongoose', 40), ('spreadsheet', 40), ('completion', 40), ('examples', 40), ('associative', 40), ('groovy', 40), ('jpeg', 40), ('setter', 40), ('reactjs', 40), ('phps', 40), ('databases', 40), ('constructors', 40), ('nsdata', 40), ('ejb', 40), ('enabled', 40), ('subprocess', 40), ('provide', 40), ('putting', 40), ('querystring', 40), ('screenshot', 40), ('finish', 40), ('allocation', 40), ('utc', 40), ('scrollbar', 40), ('jaxrs', 40), ('gdb', 40), ('mingw', 39), ('fired', 39), ('jbutton', 39), ('seems', 39), ('currently', 39), ('detected', 39), ('disk', 39), ('arrow', 39), ('latest', 39), ('triggered', 39), ('databinding', 39), ('emberjs', 39), ('cloud', 39), ('simplexml', 39), ('promise', 39), ('arbitrary', 39), ('implemented', 39), ('elegant', 39), ('shape', 39), ('capybara', 39), ('multiply', 39), ('swipe', 39), ('querying', 39), ('scala', 39), ('invoking', 39), ('positive', 39), ('linear', 39), ('bounds', 39), ('slash', 39), ('datatype', 39), ('super', 39), ('knockoutjs', 39), ('initializer', 39), ('callbacks', 39), ('capistrano', 39), ('choose', 39), ('developer', 39), ('multipart', 39), ('defining', 39), ('jpg', 39), ('fullcalendar', 39), ('cors', 39), ('outlook', 39), ('along', 39), ('needs', 38), ('videos', 38), ('tinymce', 38), ('asynchronously', 38), ('clickable', 38), ('replacement', 38), ('relationships', 38), ('onload', 38), ('jaxws', 38), ('separator', 38), ('yes', 38), ('textview', 38), ('jtextfield', 38), ('nsdate', 38), ('frameworks', 38), ('45', 38), ('coffeescript', 38), ('fork', 38), ('rsa', 38), ('party', 38), ('pixels', 38), ('ssh', 38), ('sure', 38), ('outer', 38), ('metadata', 38), ('seem', 38), ('twig', 38), ('manipulation', 38), ('50', 38), ('metro', 38), ('meaning', 38), ('hook', 38), ('third', 38), ('decrypt', 38), ('servers', 38), ('composer', 38), ('usb', 38), ('trailing', 38), ('country', 37), ('attach', 37), ('catching', 37), ('paste', 37), ('adonet', 37), ('logger', 37), ('registration', 37), ('13', 37), ('recognize', 37), ('pipe', 37), ('gems', 37), ('simplest', 37), ('openmp', 37), ('backgroundworker', 37), ('appears', 37), ('wrapping', 37), ('mark', 37), ('hashtable', 37), ('raise', 37), ('vaadin', 37), ('specifying', 37), ('validator', 37), ('aes', 37), ('bindings', 37), ('liststring', 37), ('pack', 37), ('monitor', 37), ('aggregate', 37), ('celery', 37), ('br', 37), ('51', 37), ('17', 37), ('union', 37), ('carousel', 36), ('scipy', 36), ('tuples', 36), ('realtime', 36), ('ffmpeg', 36), ('tostring', 36), ('xaxis', 36), ('referencing', 36), ('applied', 36), ('wicket', 36), ('automapper', 36), ('collision', 36), ('sometimes', 36), ('region', 36), ('15', 36), ('toolbar', 36), ('months', 36), ('rid', 36), ('filling', 36), ('preprocessor', 36), ('clipboard', 36), ('12', 36), ('redis', 36), ('overflow', 36), ('lucene', 36), ('card', 36), ('structures', 36), ('nameerror', 36), ('jlabel', 36), ('preserve', 36), ('dataframes', 36), ('playing', 36), ('built', 36), ('viewcontroller', 36), ('25', 35), ('slower', 35), ('powershell', 35), ('es6', 35), ('persist', 35), ('regexp', 35), ('groupby', 35), ('requirejs', 35), ('pc', 35), ('dealing', 35), ('reader', 35), ('alphanumeric', 35), ('mocking', 35), ('preventing', 35), ('developing', 35), ('successful', 35), ('escaping', 35), ('stopped', 35), ('expand', 35), ('segue', 35), ('codes', 35), ('odbc', 35), ('rmi', 35), ('stuck', 35), ('going', 35), ('scan', 35), ('nan', 35), ('mongoid', 35), ('crm', 35), ('callable', 35), ('entered', 35), ('optimization', 35), ('passenger', 35), ('interactive', 34), ('alternatives', 34), ('sms', 34), ('dependent', 34), ('wildcard', 34), ('logout', 34), ('serializable', 34), ('sinatra', 34), ('angular2', 34), ('redirection', 34), ('ie7', 34), ('minimum', 34), ('subtract', 34), ('immediately', 34), ('serverside', 34), ('styles', 34), ('smooth', 34), ('middle', 34), ('builtin', 34), ('websphere', 34), ('mongo', 34), ('necessary', 34), ('triangle', 34), ('head', 34), ('primitive', 34), ('ensure', 34), ('overload', 34), ('repeat', 34), ('ordering', 34), ('devexpress', 34), ('synchronous', 34), ('has_many', 34), ('description', 34), ('destructor', 34), ('imageview', 34), ('expecting', 34), ('mssql', 34), ('comprehension', 34), ('interval', 34), ('exchange', 34), ('leaflet', 34), ('software', 34), ('camel', 34), ('io', 34), ('anyone', 34), ('onetomany', 34), ('continue', 34), ('locking', 34), ('objc', 34), ('indexes', 34), ('maintain', 34), ('leading', 34), ('jinja2', 34), ('zf2', 34), ('notice', 34), ('adjust', 34), ('terminate', 33), ('compatible', 33), ('mask', 33), ('construct', 33), ('14', 33), ('ints', 33), ('losing', 33), ('realm', 33), ('polymorphism', 33), ('200', 33), ('repeating', 33), ('lowercase', 33), ('2015', 33), ('suitable', 33), ('casperjs', 33), ('tornado', 33), ('avoiding', 33), ('indices', 33), ('ignored', 33), ('clang', 33), ('overwrite', 33), ('delegates', 33), ('ul', 33), ('categories', 33), ('clone', 33), ('questions', 33), ('vertically', 33), ('bars', 33), ('webclient', 33), ('hosting', 33), ('allocate', 33), ('payment', 33), ('pull', 33), ('strip', 33), ('listen', 33), ('accessible', 33), ('csrf', 33), ('follow', 33), ('css3', 33), ('applying', 33), ('filters', 33), ('quote', 33), ('weblogic', 33), ('widgets', 33), ('configuring', 32), ('nonetype', 32), ('associated', 32), ('errno', 32), ('kill', 32), ('clientside', 32), ('rendered', 32), ('e', 32), ('handlers', 32), ('enabling', 32), ('divide', 32), ('aborted', 32), ('ad', 32), ('universal', 32), ('accordion', 32), ('servlets', 32), ('performing', 32), ('hql', 32), ('emacs', 32), ('emulator', 32), ('credentials', 32), ('completed', 32), ('sencha', 32), ('decryption', 32), ('manifest', 32), ('websites', 32), ('someone', 32), ('auth', 32), ('crud', 32), ('starts', 32), ('beginner', 32), ('apple', 32), ('delimited', 32), ('consecutive', 32), ('rss', 32), ('updatepanel', 32), ('directories', 32), ('cuda', 32), ('hexadecimal', 32), ('crop', 32), ('reporting', 32), ('crashing', 32), ('deep', 32), ('styling', 32), ('uinavigationcontroller', 32), ('pie', 32), ('perl', 32), ('smaller', 32), ('nonstatic', 32), ('authorization', 32), ('cxf', 32), ('javalangnullpointerexception', 32), ('expressjs', 32), ('locally', 32), ('alias', 32), ('testng', 31), ('sprite', 31), ('readable', 31), ('cmd', 31), ('caused', 31), ('jre', 31), ('tutorials', 31), ('windowopen', 31), ('slice', 31), ('plugins', 31), ('haml', 31), ('extends', 31), ('ambiguous', 31), ('registered', 31), ('breaking', 31), ('dimension', 31), ('larger', 31), ('translate', 31), ('ror', 31), ('log4net', 31), ('cut', 31), ('virtualenv', 31), ('printer', 31), ('fly', 31), ('measure', 31), ('operand', 31), ('decoding', 31), ('dplyr', 31), ('explanation', 31), ('403', 31), ('timed', 31), ('exceeded', 31), ('converter', 31), ('2005', 31), ('observablecollection', 31), ('regression', 31), ('tracking', 31), ('usr', 30), ('lua', 30), ('fullscreen', 30), ('huge', 30), ('rotating', 30), ('respond', 30), ('strategy', 30), ('addresses', 30), ('underlying', 30), ('warnings', 30), ('advantages', 30), ('carrierwave', 30), ('produce', 30), ('displays', 30), ('navigate', 30), ('repeated', 30), ('53', 30), ('shift', 30), ('coordinate', 30), ('role', 30), ('standalone', 30), ('says', 30), ('continuous', 30), ('superclass', 30), ('tr', 30), ('choice', 30), ('keyvalue', 30), ('subview', 30), ('flag', 30), ('jms', 30), ('stdvector', 30), ('imported', 30), ('dimensions', 30), ('excluding', 30), ('later', 30), ('xlsx', 30), ('placeholder', 30), ('collapse', 30), ('xdocument', 30), ('duration', 30), ('currency', 30), ('zeros', 29), ('others', 29), ('quickly', 29), ('mutex', 29), ('commas', 29), ('grab', 29), ('older', 29), ('jfreechart', 29), ('creator', 29), ('cms', 29), ('grouped', 29), ('triggering', 29), ('ipython', 29), ('extended', 29), ('guava', 29), ('attempting', 29), ('javalangclassnotfoundexception', 29), ('authenticated', 29), ('3rd', 29), ('appearing', 29), ('occurs', 29), ('twisted', 29), ('autolayout', 29), ('gallery', 29), ('h', 29), ('reuse', 29), ('trace', 29), ('unity3d', 29), ('worker', 29), ('400', 29), ('ndk', 29), ('seed', 29), ('memcached', 29), ('compute', 29), ('asset', 29), ('assigned', 29), ('corresponding', 29), ('hierarchy', 29), ('modelform', 28), ('floats', 28), ('encrypted', 28), ('blocking', 28), ('quick', 28), ('priority', 28), ('vim', 28), ('foo', 28), ('meta', 28), ('v', 28), ('joda', 28), ('pythonic', 28), ('orderby', 28), ('cygwin', 28), ('plist', 28), ('phpini', 28), ('uialertview', 28), ('immutable', 28), ('alignment', 28), ('closest', 28), ('shown', 28), ('apis', 28), ('capturing', 28), ('hostname', 28), ('texture', 28), ('largest', 28), ('_get', 28), ('explicitly', 28), ('spinner', 28), ('uipickerview', 28), ('asynctask', 28), ('lodash', 28), ('icons', 28), ('progressbar', 28), ('horizontally', 28), ('viewer', 28), ('contained', 28), ('bulk', 28), ('formula', 28), ('mootools', 28), ('blocked', 28), ('activeadmin', 28), ('beautiful', 28), ('52', 28), ('origin', 28), ('consuming', 28), ('retain', 28), ('representation', 28), ('xslt', 28), ('visibility', 28), ('clearing', 28), ('enough', 28), ('signed', 28), ('multiplication', 28), ('deal', 28), ('sentence', 28), ('jndi', 28), ('rounding', 28), ('various', 27), ('springboot', 27), ('simultaneously', 27), ('tick', 27), ('conditionally', 27), ('bundler', 27), ('subdomain', 27), ('designer', 27), ('param', 27), ('elasticsearch', 27), ('nsuserdefaults', 27), ('getter', 27), ('32bit', 27), ('manipulate', 27), ('keypress', 27), ('link_to', 27), ('synchronization', 27), ('webpack', 27), ('frequency', 27), ('javalangstring', 27), ('flow', 27), ('domains', 27), ('swap', 27), ('chain', 27), ('insertion', 27), ('come', 27), ('landscape', 27), ('attempt', 27), ('mechanize', 27), ('router', 27), ('protractor', 27), ('ce', 27), ('friends', 27), ('persistent', 27), ('mixed', 27), ('41', 27), ('polymer', 27), ('paragraph', 27), ('instagram', 27), ('provided', 27), ('parentheses', 27), ('1000', 27), ('54', 27), ('determining', 27), ('pymongo', 27), ('regarding', 27), ('idle', 27), ('edittext', 27), ('netty', 27), ('ios7', 26), ('pivot', 26), ('let', 26), ('combination', 26), ('watch', 26), ('decimals', 26), ('rstudio', 26), ('leaks', 26), ('unchecked', 26), ('jars', 26), ('picturebox', 26), ('keeps', 26), ('knowing', 26), ('linkedlist', 26), ('firebug', 26), ('handled', 26), ('appengine', 26), ('arithmetic', 26), ('temporary', 26), ('sync', 26), ('photos', 26), ('installer', 26), ('shortcut', 26), ('codeblocks', 26), ('htmlagilitypack', 26), ('evaluate', 26), ('refer', 26), ('serve', 26), ('truncated', 26), ('webapp', 26), ('downloaded', 26), ('multiselect', 26), ('twodimensional', 26), ('xna', 26), ('file_get_contents', 26), ('cases', 26), ('polymorphic', 26), ('combinations', 26), ('streams', 26), ('dev', 26), ('sqlstate', 26), ('compact', 26), ('detail', 26), ('pressing', 26), ('javas', 26), ('gulp', 26), ('flip', 26), ('insensitive', 26), ('countdown', 26), ('cgi', 26), ('win', 26), ('javadoc', 26), ('positioning', 26), ('jade', 26), ('2011', 26), ('period', 26), ('ordered', 26), ('distribution', 26), ('xib', 26), ('endpoint', 26), ('mime', 26), ('inherit', 26), ('programs', 26), ('away', 26), ('history', 26), ('levels', 25), ('thumbnails', 25), ('navbar', 25), ('vm', 25), ('sensitive', 25), ('obj', 25), ('codec', 25), ('light', 25), ('ifelse', 25), ('disappear', 25), ('stops', 25), ('independent', 25), ('integrating', 25), ('dump', 25), ('ends', 25), ('phantomjs', 25), ('draggable', 25), ('workbook', 25), ('communicate', 25), ('creates', 25), ('gzip', 25), ('elastic', 25), ('paging', 25), ('bold', 25), ('edge', 25), ('jsonp', 25), ('formats', 25), ('composite', 25), ('dlls', 25), ('pyqt4', 25), ('commit', 25), ('linkedin', 25), ('boostasio', 25), ('implements', 25), ('menus', 25), ('imap', 25), ('tried', 25), ('frontend', 25), ('allowing', 25), ('intellisense', 25), ('mapped', 25), ('sources', 25), ('odata', 25), ('vs2010', 25), ('safety', 25), ('ember', 25), ('classnotfoundexception', 25), ('jsonparse', 25), ('momentjs', 25), ('21', 25), ('checkout', 25), ('jasper', 25), ('synchronized', 25), ('cpp', 24), ('redirects', 24), ('jump', 24), ('nomethoderror', 24), ('enumeration', 24), ('recommended', 24), ('deadlock', 24), ('limited', 24), ('features', 24), ('graphs', 24), ('cluster', 24), ('assertion', 24), ('rails3', 24), ('hard', 24), ('consume', 24), ('power', 24), ('customer', 24), ('macros', 24), ('supports', 24), ('ctrl', 24), ('posted', 24), ('resharper', 24), ('listeners', 24), ('webkit', 24), ('identical', 24), ('concatenation', 24), ('preparedstatement', 24), ('opens', 24), ('nearest', 24), ('directives', 24), ('embedding', 24), ('longest', 24), ('gps', 24), ('channel', 24), ('cython', 24), ('functional', 24), ('pthread', 24), ('vc', 24), ('jsonarray', 24), ('jsonobject', 24), ('animations', 24), ('globally', 24), ('accessed', 24), ('locked', 24), ('thing', 24), ('v2', 24), ('python3', 24), ('authenticate', 24), ('hashing', 24), ('18', 24), ('ratio', 24), ('fluent', 24), ('increasing', 24), ('outputting', 24), ('grails', 24), ('successfully', 24), ('manual', 24), ('winrt', 24), ('handshake', 24), ('advanced', 24), ('parents', 24), ('populated', 24), ('uninstall', 24), ('indexing', 24), ('onto', 24), ('i18n', 24), ('afnetworking', 24), ('fileupload', 24), ('publish', 24), ('differently', 24), ('overloaded', 24), ('intent', 24), ('english', 24), ('anaconda', 24), ('mat', 23), ('preserving', 23), ('yet', 23), ('threaded', 23), ('sublime', 23), ('fires', 23), ('22', 23), ('attached', 23), ('raphael', 23), ('alpha', 23), ('sleep', 23), ('arent', 23), ('unused', 23), ('responsive', 23), ('might', 23), ('gd', 23), ('represent', 23), ('shadow', 23), ('compress', 23), ('trim', 23), ('schedule', 23), ('memcache', 23), ('collect', 23), ('alphabetically', 23), ('uppercase', 23), ('backup', 23), ('invocation', 23), ('hosted', 23), ('sprintf', 23), ('serving', 23), ('typed', 23), ('el', 23), ('imagemagick', 23), ('concurrency', 23), ('incomplete', 23), ('ascending', 23), ('lower', 23), ('customizing', 23), ('select2', 23), ('uwp', 23), ('nth', 23), ('forbidden', 23), ('unavailable', 23), ('iso', 23), ('webinf', 23), ('nullable', 23), ('lion', 23), ('appropriate', 23), ('localization', 23), ('configured', 23), ('djangos', 23), ('alamofire', 23), ('javasqlsqlexception', 23), ('bits', 23), ('delimiter', 23), ('roles', 23), ('rounded', 23), ('urllib2', 23), ('soup', 23), ('factor', 23), ('maintaining', 23), ('containers', 23), ('guid', 23), ('scrollview', 23), ('markdown', 23), ('cocos2d', 23), ('kivy', 23), ('thymeleaf', 23), ('jquerys', 22), ('iterators', 22), ('clock', 22), ('producing', 22), ('prime', 22), ('notify', 22), ('sizes', 22), ('rate', 22), ('injecting', 22), ('textblock', 22), ('margin', 22), ('stdmap', 22), ('ienumerablet', 22), ('consolelog', 22), ('mysqldb', 22), ('yyyymmdd', 22), ('bubble', 22), ('javamail', 22), ('launching', 22), ('wall', 22), ('unittest', 22), ('linqtosql', 22), ('mq', 22), ('fragments', 22), ('multithread', 22), ('scrape', 22), ('listing', 22), ('sections', 22), ('imports', 22), ('cs', 22), ('messagebox', 22), ('docker', 22), ('websockets', 22), ('mkmapview', 22), ('foundation', 22), ('locations', 22), ('entityframework', 22), ('matrices', 22), ('tokens', 22), ('subclassing', 22), ('slideshow', 22), ('turning', 22), ('concatenating', 22), ('lightweight', 22), ('gcm', 22), ('joining', 22), ('agility', 22), ('_server', 22), ('x64', 22), ('trycatch', 22), ('suppress', 22), ('xp', 22), ('renaming', 22), ('invoked', 22), ('unmanaged', 22), ('temporarily', 22), ('mapreduce', 22), ('guice', 22), ('scene', 22), ('friendly', 22), ('leave', 22), ('igniter', 22), ('dragging', 22), ('solr', 22), ('forcing', 22), ('greasemonkey', 22), ('mailer', 22), ('versa', 22), ('joins', 22), ('smallest', 22), ('people', 22), ('begin', 22), ('persistence', 22), ('supplied', 22), ('retrieved', 22), ('eof', 22), ('improve', 22), ('belongs_to', 22), ('entering', 22), ('fully', 22), ('accesscontrolalloworigin', 21), ('retrofit', 21), ('documentgetelementbyid', 21), ('safely', 21), ('kind', 21), ('gc', 21), ('dispatcher', 21), ('shapes', 21), ('npm', 21), ('didnt', 21), ('listening', 21), ('2007', 21), ('migrating', 21), ('quartz', 21), ('yaxis', 21), ('uncheck', 21), ('optimizing', 21), ('stay', 21), ('prepare', 21), ('logs', 21), ('deleted', 21), ('panels', 21), ('xxx', 21), ('underscorejs', 21), ('autofac', 21), ('deployed', 21), ('coredata', 21), ('layers', 21), ('despite', 21), ('oledb', 21), ('bufferedreader', 21), ('uploads', 21), ('redux', 21), ('depth', 21), ('complexity', 21), ('webrtc', 21), ('iframes', 21), ('minute', 21), ('aspect', 21), ('decorator', 21), ('gateway', 21), ('recaptcha', 21), ('monitoring', 21), ('positions', 21), ('pyspark', 21), ('unexpectedly', 21), ('grunt', 21), ('choices', 21), ('allows', 21), ('flatten', 21), ('session_start', 21), ('centos', 21), ('indexof', 21), ('near', 21), ('webgl', 21), ('httpurlconnection', 21), ('commandline', 21), ('pipeline', 21), ('resume', 21), ('bitwise', 21), ('vuejs', 21), ('classname', 21), ('keydown', 21), ('vice', 21), ('hierarchical', 21), ('fabricjs', 21), ('gtk', 21), ('formdata', 21), ('github', 21), ('nltk', 21), ('f', 21), ('conflict', 21), ('unauthorized', 21), ('std', 21), ('jetty', 21), ('stacked', 20), ('tap', 20), ('city', 20), ('spacing', 20), ('highest', 20), ('volume', 20), ('clickonce', 20), ('generates', 20), ('javalangoutofmemoryerror', 20), ('swf', 20), ('office', 20), ('rdlc', 20), ('crawler', 20), ('subviews', 20), ('zooming', 20), ('interpreter', 20), ('persisting', 20), ('eager', 20), ('beanstalk', 20), ('ngclick', 20), ('achieve', 20), ('liferay', 20), ('leaving', 20), ('overlapping', 20), ('descending', 20), ('instantiated', 20), ('automated', 20), ('convention', 20), ('jobs', 20), ('undeclared', 20), ('xss', 20), ('compatibility', 20), ('caught', 20), ('lots', 20), ('scalar', 20), ('evaluating', 20), ('asmx', 20), ('z', 20), ('effects', 20), ('automation', 20), ('blur', 20), ('ec2', 20), ('wp7', 20), ('ref', 20), ('coming', 20), ('javautildate', 20), ('low', 20), ('val', 20), ('33', 20), ('accepting', 20), ('webservices', 20), ('httppost', 20), ('crossplatform', 20), ('angle', 20), ('confused', 20), ('means', 20), ('gradient', 20), ('mixing', 20), ('computing', 20), ('qml', 20), ('gesture', 20), ('barplot', 20), ('javascripts', 20), ('upgrading', 20), ('hold', 20), ('pooling', 20), ('sites', 20), ('computers', 20), ('subfolder', 20), ('limiting', 20), ('getelementbyid', 20), ('terminating', 20), ('limits', 20), ('serialized', 20), ('mod_rewrite', 20), ('61', 20), ('interview', 20), ('threadpool', 20), ('yaml', 20), ('terminated', 19), ('recent', 19), ('broadcast', 19), ('bypass', 19), ('pointing', 19), ('nilnilclass', 19), ('actionlistener', 19), ('60', 19), ('2nd', 19), ('indexphp', 19), ('ternary', 19), ('recognition', 19), ('scheduled', 19), ('develop', 19), ('gif', 19), ('till', 19), ('corrupted', 19), ('procedures', 19), ('backing', 19), ('spec', 19), ('jscrollpane', 19), ('builds', 19), ('onmouseover', 19), ('typing', 19), ('colon', 19), ('finally', 19), ('wmi', 19), ('directx', 19), ('years', 19), ('closures', 19), ('000', 19), ('scatter', 19), ('business', 19), ('encrypting', 19), ('queues', 19), ('since', 19), ('star', 19), ('logical', 19), ('book', 19), ('modifier', 19), ('reorder', 19), ('ever', 19), ('material', 19), ('direction', 19), ('gae', 19), ('msbuild', 19), ('ranges', 19), ('stringformat', 19), ('pm', 19), ('radiobutton', 19), ('clr', 19), ('whose', 19), ('getjson', 19), ('animating', 19), ('loader', 19), ('cached', 19), ('scheduler', 19), ('packets', 19), ('surface', 19), ('rollback', 19), ('payload', 19), ('stylesheet', 19), ('advice', 19), ('registering', 19), ('2x', 19), ('rich', 19), ('pomxml', 19), ('401', 19), ('instantiation', 19), ('karma', 19), ('fb', 19), ('indentation', 19), ('nullreferenceexception', 19), ('passwords', 19), ('reached', 19), ('drawn', 19), ('diff', 19), ('higher', 19), ('stopping', 19), ('httpget', 19), ('winapi', 19), ('doubles', 19), ('delphi', 19), ('ports', 19), ('escaped', 19), ('encountered', 19), ('languages', 19), ('ending', 19), ('closes', 19), ('serializer', 19), ('webserver', 19), ('managepy', 18), ('thats', 18), ('phpfpm', 18), ('minus', 18), ('bring', 18), ('equation', 18), ('xls', 18), ('freeze', 18), ('four', 18), ('division', 18), ('incoming', 18), ('freezes', 18), ('parsed', 18), ('benefits', 18), ('subscript', 18), ('jumping', 18), ('jython', 18), ('restore', 18), ('keywords', 18), ('foreignkey', 18), ('opacity', 18), ('animated', 18), ('nstimer', 18), ('archive', 18), ('indicator', 18), ('sliding', 18), ('expire', 18), ('dots', 18), ('hbase', 18), ('newlines', 18), ('dbcontext', 18), ('addition', 18), ('smarty', 18), ('26', 18), ('pthreads', 18), ('membership', 18), ('alive', 18), ('classic', 18), ('databind', 18), ('stand', 18), ('beta', 18), ('peer', 18), ('entitymanager', 18), ('workaround', 18), ('braces', 18), ('dash', 18), ('dismiss', 18), ('23', 18), ('paint', 18), ('goes', 18), ('hang', 18), ('fonts', 18), ('resizable', 18), ('svn', 18), ('followed', 18), ('doctrine2', 18), ('ibm', 18), ('indent', 18), ('processed', 18), ('dns', 18), ('hit', 18), ('javalangillegalstateexception', 18), ('34', 18), ('filled', 18), ('elapsed', 18), ('datacontext', 18), ('choosing', 18), ('databound', 18), ('ie11', 18), ('193', 18), ('scripting', 18), ('easily', 18), ('parameterized', 17), ('intersection', 17), ('ngmodel', 17), ('triggers', 17), ('owin', 17), ('conventions', 17), ('shopping', 17), ('mocha', 17), ('org', 17), ('marks', 17), ('human', 17), ('powerpoint', 17), ('alphabetical', 17), ('migrate', 17), ('coverage', 17), ('consumer', 17), ('dialogs', 17), ('pushing', 17), ('attr', 17), ('happen', 17), ('openlayers', 17), ('conflicting', 17), ('dropbox', 17), ('protobuf', 17), ('toolkit', 17), ('training', 17), ('1d', 17), ('302', 17), ('states', 17), ('equality', 17), ('steps', 17), ('utility', 17), ('loaderror', 17), ('selectors', 17), ('writer', 17), ('truncate', 17), ('incrementing', 17), ('useful', 17), ('explode', 17), ('protect', 17), ('wildcards', 17), ('formatter', 17), ('na', 17), ('disappears', 17), ('webmethod', 17), ('answer', 17), ('score', 17), ('runnable', 17), ('valgrind', 17), ('today', 17), ('synchronize', 17), ('infowindow', 17), ('sass', 17), ('jqueryui', 17), ('mod_wsgi', 17), ('jqueryajax', 17), ('sessionfactory', 17), ('tls', 17), ('sequences', 17), ('responding', 17), ('specifically', 17), ('scheme', 17), ('removed', 17), ('newly', 17), ('considered', 17), ('applicable', 17), ('specifier', 17), ('guide', 17), ('axes', 17), ('quit', 17), ('stripe', 17), ('iis7', 17), ('ff', 17), ('cocoapods', 17), ('hitting', 17), ('cloning', 17), ('ilist', 17), ('xamarinforms', 17), ('springmvc', 17), ('statistics', 17), ('submitted', 17), ('recommend', 17), ('stringbuilder', 17), ('efficiency', 17), ('t_string', 17), ('responses', 17), ('duplicated', 17), ('javalangillegalargumentexception', 17), ('destination', 17), ('certificates', 17), ('1st', 17), ('literals', 17), ('ssis', 17), ('vba', 17), ('calculations', 17), ('cons', 17), ('telerik', 17), ('preferred', 17), ('asio', 17), ('future', 17), ('browse', 17), ('translation', 17), ('clustering', 17), ('shutdown', 17), ('handlebars', 17), ('quiz', 17), ('ipn', 17), ('worksheet', 16), ('linkbutton', 16), ('parsecom', 16), ('suite', 16), ('maximize', 16), ('axis2', 16), ('disadvantages', 16), ('3x', 16), ('avplayer', 16), ('apostrophe', 16), ('javalangclasscastexception', 16), ('javaioioexception', 16), ('concat', 16), ('physical', 16), ('sparse', 16), ('pictures', 16), ('music', 16), ('mysql_fetch_array', 16), ('traversal', 16), ('umbraco', 16), ('masterpage', 16), ('json_decode', 16), ('unless', 16), ('social', 16), ('remotely', 16), ('datastore', 16), ('desired', 16), ('dollar', 16), ('dispose', 16), ('downloads', 16), ('uirouter', 16), ('memorystream', 16), ('indexed', 16), ('scenario', 16), ('bucket', 16), ('segment', 16), ('mpi', 16), ('anchors', 16), ('interpreted', 16), ('restkit', 16), ('es', 16), ('datetimepicker', 16), ('appended', 16), ('pydev', 16), ('corners', 16), ('matched', 16), ('stretch', 16), ('acceptable', 16), ('h2', 16), ('connector', 16), ('43', 16), ('artifact', 16), ('typefile', 16), ('magic', 16), ('uitableviewcells', 16), ('manytoone', 16), ('gone', 16), ('underscores', 16), ('produces', 16), ('recognizing', 16), ('continuously', 16), ('customized', 16), ('filenames', 16), ('weeks', 16), ('occured', 16), ('ask', 16), ('evaluation', 16), ('writes', 16), ('arabic', 16), ('packet', 16), ('benefit', 16), ('kit', 16), ('fscanf', 16), ('pipes', 16), ('cipher', 16), ('overwriting', 16), ('mvc5', 16), ('gdi', 16), ('wifi', 16), ('marked', 16), ('associations', 16), ('mpmovieplayercontroller', 16), ('kafka', 16), ('verification', 16), ('modern', 16), ('doxygen', 16), ('controlling', 16), ('ext', 16), ('reliable', 16), ('scikitlearn', 16), ('incorrectly', 16), ('abort', 16), ('modification', 16), ('initializers', 16), ('assert', 16), ('classs', 16), ('designing', 16), ('ago', 16), ('ive', 16), ('bracket', 16), ('55', 16), ('geolocation', 16), ('datatemplate', 16), ('descriptor', 16), ('scopes', 16), ('db2', 16), ('manipulating', 16), ('degrees', 16), ('scrollable', 16), ('exited', 16), ('portable', 16), ('charset', 16), ('classloader', 16), ('foreground', 16), ('automate', 16), ('sheets', 16), ('nio', 16), ('80', 16), ('sonar', 16), ('reasons', 16), ('servicestack', 16), ('obtaining', 15), ('openerp', 15), ('instantiating', 15), ('systems', 15), ('ones', 15), ('seperate', 15), ('strict', 15), ('suffix', 15), ('compression', 15), ('2003', 15), ('traffic', 15), ('extern', 15), ('unicodeencodeerror', 15), ('pin', 15), ('overrides', 15), ('invisible', 15), ('thousand', 15), ('mysql_query', 15), ('declarations', 15), ('past', 15), ('bot', 15), ('suggestions', 15), ('slicing', 15), ('unwanted', 15), ('knitr', 15), ('resolving', 15), ('accuracy', 15), ('arraylists', 15), ('managing', 15), ('advantage', 15), ('uisearchbar', 15), ('alternate', 15), ('decrypting', 15), ('conflicts', 15), ('remember', 15), ('rand', 15), ('helpers', 15), ('multilevel', 15), ('42', 15), ('upper', 15), ('proguard', 15), ('corner', 15), ('compilers', 15), ('phpstorm', 15), ('nsurlconnection', 15), ('interaction', 15), ('keyup', 15), ('executes', 15), ('epoch', 15), ('pyside', 15), ('_session', 15), ('xsl', 15), ('unload', 15), ('listobject', 15), ('expired', 15), ('located', 15), ('analysis', 15), ('j2me', 15), ('annotated', 15), ('interrupt', 15), ('radius', 15), ('visualization', 15), ('wrapped', 15), ('suddenly', 15), ('isset', 15), ('slashes', 15), ('electron', 15), ('simple_form', 15), ('dealloc', 15), ('intercept', 15), ('autowired', 15), ('summary', 15), ('comes', 15), ('varchar', 15), ('py', 15), ('405', 15), ('noclassdeffounderror', 15), ('calayer', 15), ('xmlserializer', 15), ('percent', 15), ('sender', 15), ('definitions', 15), ('segfault', 15), ('grey', 15), ('inheriting', 15), ('respect', 15), ('typedef', 15), ('localized', 15), ('highchart', 15), ('k', 15), ('lat', 15), ('wildfly', 15), ('effective', 15), ('msvc', 15), ('indexhtml', 15), ('chaining', 15), ('pros', 15), ('pulling', 15), ('inserts', 15), ('zindex', 15), ('19', 15), ('php5', 15), ('offline', 15), ('reusing', 15), ('newbie', 15), ('webforms', 15), ('us', 15), ('little', 15), ('semicolon', 15), ('tail', 15), ('flush', 15), ('red', 15), ('looks', 15), ('hive', 15), ('uploader', 15), ('mp4', 15), ('_', 15), ('printed', 15), ('promises', 15), ('pojo', 15), ('placed', 15), ('xelement', 15), ('interpolation', 15), ('tmp', 15), ('connectionstring', 14), ('rectangles', 14), ('boundary', 14), ('iqueryable', 14), ('splash', 14), ('curly', 14), ('resized', 14), ('vs2008', 14), ('operands', 14), ('beyond', 14), ('malformed', 14), ('mix', 14), ('internally', 14), ('remaining', 14), ('activemq', 14), ('mamp', 14), ('chunk', 14), ('computed', 14), ('posix', 14), ('threw', 14), ('alt', 14), ('transient', 14), ('ignores', 14), ('refactoring', 14), ('unicodedecodeerror', 14), ('construction', 14), ('backslash', 14), ('focused', 14), ('pom', 14), ('erase', 14), ('simply', 14), ('specification', 14), ('subdomains', 14), ('mdb', 14), ('establish', 14), ('overhead', 14), ('_files', 14), ('activation', 14), ('tabbar', 14), ('techniques', 14), ('pick', 14), ('contexts', 14), ('expose', 14), ('oriented', 14), ('uinavigationbar', 14), ('fopen', 14), ('released', 14), ('prestashop', 14), ('hdfs', 14), ('density', 14), ('redraw', 14), ('exercise', 14), ('previously', 14), ('processstart', 14), ('profiling', 14), ('yield', 14), ('japanese', 14), ('restarting', 14), ('timestamps', 14), ('__init__', 14), ('popover', 14), ('curve', 14), ('minimize', 14), ('ticks', 14), ('transport', 14), ('rabbitmq', 14), ('crossbrowser', 14), ('assemblies', 14), ('crossdomain', 14), ('welcome', 14), ('ansi', 14), ('gmt', 14), ('j2ee', 14), ('timeline', 14), ('cycle', 14), ('todays', 14), ('salesforce', 14), ('caller', 14), ('jmeter', 14), ('geocoding', 14), ('overlap', 14), ('imagefield', 14), ('rolling', 14), ('activex', 14), ('hy000', 14), ('movie', 14), ('xmlreader', 14), ('nesting', 14), ('mass', 14), ('seo', 14), ('javac', 14), ('aligned', 14), ('existence', 14), ('sidebar', 14), ('integral', 14), ('traverse', 14), ('transformation', 14), ('scrolled', 14), ('solutions', 14), ('seen', 14), ('tips', 14), ('textfile', 14), ('integrity', 14), ('quality', 14), ('unordered', 14), ('windowlocation', 14), ('googles', 14), ('visitors', 14), ('chinese', 14), ('rewriting', 14), ('migrations', 14), ('flat', 14), ('anyway', 14), ('redirected', 14), ('contenttype', 14), ('sized', 14), ('nsinvalidargumentexception', 14), ('fadein', 14), ('x86_64', 14), ('messaging', 14), ('spritekit', 14), ('term', 14), ('tile', 14), ('vs2012', 14), ('representing', 14), ('degree', 14), ('hhmmss', 14), ('ioexception', 14), ('permutations', 14), ('movement', 14), ('subprocesspopen', 14), ('apk', 14), ('actionscript', 14), ('implementations', 14), ('algorithms', 14), ('scaling', 13), ('correlation', 13), ('supposed', 13), ('systemstring', 13), ('imshow', 13), ('0x', 13), ('recording', 13), ('separately', 13), ('viewport', 13), ('vsto', 13), ('accurate', 13), ('ninject', 13), ('supporting', 13), ('itemssource', 13), ('transactional', 13), ('optimized', 13), ('culture', 13), ('env', 13), ('opencl', 13), ('docx', 13), ('storyboards', 13), ('onetoone', 13), ('bidirectional', 13), ('args', 13), ('paper', 13), ('substrings', 13), ('inconsistent', 13), ('overridden', 13), ('preference', 13), ('ocr', 13), ('stdset', 13), ('flexible', 13), ('girl', 13), ('factorygirl', 13), ('vbscript', 13), ('carriage', 13), ('scientific', 13), ('raising', 13), ('forloop', 13), ('predicate', 13), ('simultaneous', 13), ('forever', 13), ('requiring', 13), ('resetting', 13), ('expensive', 13), ('borders', 13), ('int32', 13), ('notepad', 13), ('hanging', 13), ('predefined', 13), ('lambdas', 13), ('navigating', 13), ('xhtml', 13), ('mapkit', 13), ('x86', 13), ('i', 13), ('punctuation', 13), ('observe', 13), ('signals', 13), ('loses', 13), ('edition', 13), ('periodically', 13), ('wav', 13), ('writable', 13), ('think', 13), ('placement', 13), ('nspredicate', 13), ('polyline', 13), ('anyobject', 13), ('mathematical', 13), ('sdl', 13), ('markup', 13), ('sends', 13), ('neural', 13), ('processor', 13), ('flags', 13), ('openshift', 13), ('demo', 13), ('sqlcommand', 13), ('autowire', 13), ('gb', 13), ('volley', 13), ('webcam', 13), ('textures', 13), ('nonblocking', 13), ('cake', 13), ('taskbar', 13), ('argumenterror', 13), ('ios5', 13), ('javalangnosuchmethoderror', 13), ('jscript', 13), ('selects', 13), ('osgi', 13), ('mechanism', 13), ('debian', 13), ('randomize', 13), ('retry', 13), ('facet', 13), ('digital', 13), ('jasperreports', 13), ('wp8', 13), ('alphabet', 13), ('uiimagepickercontroller', 13), ('nib', 13), ('ssrs', 13), ('handles', 13), ('hyphen', 13), ('combined', 13), ('intended', 13), ('subplots', 13), ('collector', 13), ('outofmemoryerror', 13), ('stub', 13), ('dao', 13), ('availability', 13), ('presence', 13), ('djangorestframework', 13), ('credit', 13), ('dirty', 13), ('policy', 13), ('varying', 13), ('aka', 13), ('associate', 13), ('samples', 13), ('jodatime', 13), ('subfolders', 13), ('things', 13), ('transparency', 13), ('workflow', 13), ('numerical', 13), ('vagrant', 13), ('dynamodb', 13), ('highlighted', 13), ('constantly', 13), ('secret', 13), ('ddmmyyyy', 12), ('hack', 12), ('transpose', 12), ('accepts', 12), ('cocos2dx', 12), ('mainwindow', 12), ('2dimensional', 12), ('raised', 12), ('speech', 12), ('argv', 12), ('workspace', 12), ('contacts', 12), ('windowprint', 12), ('categorical', 12), ('uitableviewcontroller', 12), ('neither', 12), ('pdfs', 12), ('addin', 12), ('news', 12), ('sqlexception', 12), ('xy', 12), ('128', 12), ('age', 12), ('cards', 12), ('translating', 12), ('unserialize', 12), ('adobe', 12), ('ram', 12), ('raphaeljs', 12), ('wxwidgets', 12), ('album', 12), ('subclasses', 12), ('driven', 12), ('dispatch', 12), ('marshalling', 12), ('attaching', 12), ('mb', 12), ('ampersand', 12), ('simulation', 12), ('depends', 12), ('wp', 12), ('possibly', 12), ('taken', 12), ('alone', 12), ('attack', 12), ('unbind', 12), ('webform', 12), ('preferences', 12), ('middleware', 12), ('sequentially', 12), ('placeholders', 12), ('datalist', 12), ('holding', 12), ('nonascii', 12), ('xmlelement', 12), ('exc_bad_access', 12), ('delimiters', 12), ('chosen', 12), ('arrows', 12), ('dbmigrate', 12), ('asterisk', 12), ('classcastexception', 12), ('board', 12), ('viewing', 12), ('presses', 12), ('hashcode', 12), ('configurable', 12), ('ideas', 12), ('tweet', 12), ('subquery', 12), ('breakpoint', 12), ('amounts', 12), ('subdirectory', 12), ('alertdialog', 12), ('polling', 12), ('jwt', 12), ('significant', 12), ('calculated', 12), ('richfaces', 12), ('ld', 12), ('cin', 12), ('freed', 12), ('reducing', 12), ('mappings', 12), ('pid', 12), ('breakpoints', 12), ('az', 12), ('drawer', 12), ('guessing', 12), ('jsonstringify', 12), ('chunks', 12), ('dictionarystring', 12), ('serialport', 12), ('downgrade', 12), ('awt', 12), ('se', 12), ('partially', 12), ('scrollbars', 12), ('effectively', 12), ('requirements', 12), ('hardware', 12), ('webpages', 12), ('atomic', 12), ('systemnullreferenceexception', 12), ('compared', 12), ('layouts', 12), ('sortable', 12), ('ioc', 12), ('hides', 12), ('hresult', 12), ('setters', 12), ('checkboxlist', 12), ('mod', 12), ('although', 12), ('targets', 12), ('datarow', 12), ('asking', 12), ('ef6', 12), ('enclosing', 12), ('deletion', 12), ('cassandra', 12), ('ci', 12), ('xhr', 12), ('gemfile', 12), ('subtracting', 12), ('hovering', 12), ('homebrew', 12), ('contextmenu', 12), ('redirect_to', 12), ('wants', 12), ('eclipselink', 12), ('httpservletrequest', 12), ('thousands', 12), ('grayscale', 12), ('unsafe', 12), ('solved', 12), ('s', 12), ('emulate', 12), ('unset', 12), ('nuget', 12), ('leaves', 12), ('xmpp', 12), ('qstring', 12), ('vertex', 12), ('pad', 12), ('pi', 12), ('reversing', 12), ('viewbag', 12), ('legacy', 12), ('pre', 12), ('feeds', 12), ('90', 12), ('rank', 12), ('portion', 12), ('javanetsocketexception', 12), ('pdoexception', 12), ('readline', 12), ('timespan', 12), ('frequent', 12), ('homepage', 12), ('arm', 12), ('tooltips', 12), ('contenteditable', 12), ('uicollectionviewcell', 12), ('sailsjs', 12), ('finishes', 12), ('disconnect', 12), ('marshal', 12), ('svm', 12), ('trap', 12), ('official', 12), ('loss', 12), ('admob', 12), ('sequential', 12), ('releasing', 12), ('perfect', 12), ('gstreamer', 12), ('diagonal', 12), ('natural', 12), ('regardless', 12), ('threadsleep', 12), ('addeventlistener', 11), ('stringsplit', 11), ('onclicklistener', 11), ('receiver', 11), ('soft', 11), ('buffers', 11), ('nice', 11), ('mysql2', 11), ('windowonload', 11), ('masked', 11), ('nonzero', 11), ('immediate', 11), ('relational', 11), ('shouldnt', 11), ('activate', 11), ('affect', 11), ('1204', 11), ('platforms', 11), ('findall', 11), ('hot', 11), ('192', 11), ('leopard', 11), ('drawrect', 11), ('httpresponse', 11), ('daemon', 11), ('discrete', 11), ('stock', 11), ('collectionview', 11), ('ipaddress', 11), ('emit', 11), ('usable', 11), ('swagger', 11), ('environments', 11), ('smoothly', 11), ('pretty', 11), ('templated', 11), ('alter', 11), ('validations', 11), ('nsdateformatter', 11), ('suspend', 11), ('titles', 11), ('prev', 11), ('removal', 11), ('vnext', 11), ('underline', 11), ('stackoverflow', 11), ('act', 11), ('expect', 11), ('payments', 11), ('margins', 11), ('latex', 11), ('filesystem', 11), ('activities', 11), ('lose', 11), ('mysqli_query', 11), ('greek', 11), ('cpanel', 11), ('qtcreator', 11), ('filtered', 11), ('actively', 11), ('iterable', 11), ('multiplying', 11), ('remain', 11), ('rubygems', 11), ('fake', 11), ('subscribe', 11), ('identifying', 11), ('scrolltop', 11), ('docs', 11), ('sqlconnection', 11), ('ppt', 11), ('disappearing', 11), ('256', 11), ('elementwise', 11), ('pyplot', 11), ('mutable', 11), ('concept', 11), ('t_variable', 11), ('pending', 11), ('observer', 11), ('reflect', 11), ('subject', 11), ('annotate', 11), ('submenu', 11), ('directions', 11), ('aop', 11), ('consumption', 11), ('flex', 11), ('sunday', 11), ('outline', 11), ('timeseries', 11), ('cout', 11), ('opensource', 11), ('reply', 11), ('shortest', 11), ('operating', 11), ('decrement', 11), ('func', 11), ('spider', 11), ('sense', 11), ('circles', 11), ('q', 11), ('license', 11), ('clojure', 11), ('anymore', 11), ('flasksqlalchemy', 11), ('windsor', 11), ('fallback', 11), ('invalidate', 11), ('administrator', 11), ('lang', 11), ('childs', 11), ('meteorjs', 11), ('userdefined', 11), ('reactnative', 11), ('stanford', 11), ('outputstream', 11), ('separating', 11), ('logon', 11), ('turned', 11), ('recyclerview', 11), ('asm', 11), ('weak', 11), ('adds', 11), ('wizard', 11), ('tpl', 11), ('09', 11), ('bat', 11), ('inflating', 11), ('expanding', 11), ('pthread_create', 11), ('interact', 11), ('glsl', 11), ('sizeof', 11), ('crossorigin', 11), ('itemtemplate', 11), ('colored', 11), ('factors', 11), ('blog', 11), ('outputs', 11), ('locks', 11), ('captured', 11), ('copied', 11), ('nsobject', 11), ('snake', 11), ('mysql_connect', 11), ('disposed', 11), ('lvalue', 11), ('linearlayout', 11), ('thirdparty', 11), ('friend', 11), ('amp', 11), ('occur', 11), ('70', 11), ('accepted', 11), ('producer', 11), ('chromedriver', 11), ('happening', 11), ('indexerror', 11), ('rejected', 11), ('subdirectories', 11), ('pragma', 11), ('doubly', 11), ('getters', 11), ('five', 10), ('acquire', 10), ('blackberry', 10), ('serversocket', 10), ('openxml', 10), ('internationalization', 10), ('nsurl', 10), ('rcp', 10), ('temp', 10), ('onsubmit', 10), ('accessor', 10), ('interest', 10), ('permitted', 10), ('sandbox', 10), ('gray', 10), ('probability', 10), ('grammar', 10), ('sibling', 10), ('__getitem__', 10), ('timeouts', 10), ('crontab', 10), ('u', 10), ('distinguish', 10), ('fan', 10), ('becomes', 10), ('lot', 10), ('acting', 10), ('wheel', 10), ('detached', 10), ('appium', 10), ('16bit', 10), ('hub', 10), ('backgroundimage', 10), ('capitalize', 10), ('unfortunately', 10), ('affected', 10), ('cropping', 10), ('wide', 10), ('secured', 10), ('showdialog', 10), ('discover', 10), ('straight', 10), ('backspace', 10), ('concrete', 10), ('segments', 10), ('refactor', 10), ('international', 10), ('pyramid', 10), ('optimal', 10), ('backwards', 10), ('llvm', 10), ('outofmemoryexception', 10), ('unmarshalling', 10), ('communicating', 10), ('weka', 10), ('illegalstateexception', 10), ('mapper', 10), ('hooks', 10), ('ascx', 10), ('receives', 10), ('visit', 10), ('46', 10), ('street', 10), ('ws', 10), ('cstring', 10), ('comparisons', 10), ('kml', 10), ('assignments', 10), ('preferably', 10), ('prop', 10), ('maybe', 10), ('tfs', 10), ('legal', 10), ('profiler', 10), ('cellforrowatindexpath', 10), ('chance', 10), ('www', 10), ('worth', 10), ('75', 10), ('djangoadmin', 10), ('stable', 10), ('important', 10), ('say', 10), ('theres', 10), ('inspect', 10), ('bytearray', 10), ('timing', 10), ('apns', 10), ('pyc', 10), ('java_home', 10), ('routeprovider', 10), ('prints', 10), ('dir', 10), ('organize', 10), ('coldfusion', 10), ('manner', 10), ('pro', 10), ('retrieval', 10), ('cascading', 10), ('ngshow', 10), ('couchdb', 10), ('lengths', 10), ('corruption', 10), ('repositories', 10), ('helloworld', 10), ('maximized', 10), ('1404', 10), ('machines', 10), ('caseinsensitive', 10), ('lan', 10), ('stroke', 10), ('__attribute__', 10), ('cshtml', 10), ('relations', 10), ('castle', 10), ('permutation', 10), ('delayed', 10), ('smart', 10), ('accounts', 10), ('typetext', 10), ('usercontrols', 10), ('strongly', 10), ('kinect', 10), ('has_one', 10), ('represented', 10), ('timezones', 10), ('mavericks', 10), ('comparator', 10), ('deviation', 10), ('sys', 10), ('snap', 10), ('rect', 10), ('cascade', 10), ('grabbing', 10), ('limitations', 10), ('stamp', 10), ('intervals', 10), ('getelementsbyclassname', 10), ('yesterday', 10), ('skipping', 10), ('unbound', 10), ('figures', 10), ('turns', 10), ('rotated', 10), ('hyperlinks', 10), ('newer', 10), ('repo', 10), ('clob', 10), ('placing', 10), ('didselectrowatindexpath', 10), ('oserror', 10), ('dropping', 10), ('raspberry', 10), ('enumerate', 10), ('rubys', 10), ('scanning', 10), ('toggling', 10), ('prototypes', 10), ('apache2', 10), ('corrupt', 10), ('impossible', 10), ('strcpy', 10), ('versioning', 10), ('nonempty', 10), ('specialization', 10), ('flickering', 10), ('reach', 10), ('viewpager', 10), ('improving', 10), ('sscanf', 10), ('ear', 10), ('submits', 10), ('allocating', 10), ('edited', 10), ('meant', 10), ('stdclass', 10), ('temperature', 10), ('forwarding', 10), ('502', 10), ('person', 10), ('05', 10), ('barcode', 10), ('resulting', 10), ('shorter', 10), ('require_once', 10), ('digest', 10), ('contentlength', 10), ('parameterless', 10), ('involving', 10), ('subtraction', 10), ('36', 10), ('cost', 10), ('exposing', 10), ('avaudioplayer', 10), ('slug', 10), ('constructed', 10), ('disconnected', 10), ('among', 10), ('badge', 10), ('attempts', 10), ('ipv6', 10), ('shell_exec', 10), ('oauth2', 10), ('theano', 10), ('terms', 10), ('displaynone', 10), ('parenthesis', 10), ('j', 10), ('dynamics', 10), ('lifecycle', 9), ('busy', 9), ('affecting', 9), ('ddl', 9), ('mouseout', 9), ('uml', 9), ('redirecttoaction', 9), ('destruction', 9), ('pausing', 9), ('outofmemory', 9), ('prevents', 9), ('inactive', 9), ('histograms', 9), ('instanceof', 9), ('patch', 9), ('datasets', 9), ('centering', 9), ('adjusting', 9), ('fixing', 9), ('swapping', 9), ('iterations', 9), ('monthly', 9), ('declares', 9), ('dummy', 9), ('openid', 9), ('instruction', 9), ('lag', 9), ('marionette', 9), ('mandatory', 9), ('conform', 9), ('unlock', 9), ('killed', 9), ('opposed', 9), ('ordinal', 9), ('systemtimerstimer', 9), ('subscription', 9), ('trees', 9), ('jpanels', 9), ('providing', 9), ('reactive', 9), ('javaiofilenotfoundexception', 9), ('mediawiki', 9), ('rearrange', 9), ('libs', 9), ('percentages', 9), ('attacks', 9), ('webapplication', 9), ('solving', 9), ('nsmutabledictionary', 9), ('getelementsbytagname', 9), ('panning', 9), ('webxml', 9), ('recover', 9), ('repeats', 9), ('partialview', 9), ('pager', 9), ('simplexmlelement', 9), ('reactrouter', 9), ('retrive', 9), ('jinja', 9), ('rn', 9), ('generators', 9), ('selectedindex', 9), ('portrait', 9), ('neo4j', 9), ('mstest', 9), ('mousemove', 9), ('ini', 9), ('consider', 9), ('concurrenthashmap', 9), ('jdbctemplate', 9), ('dead', 9), ('parallelforeach', 9), ('backward', 9), ('gridlayout', 9), ('perfectly', 9), ('httprequest', 9), ('visitor', 9), ('robust', 9), ('phrase', 9), ('reliably', 9), ('situation', 9), ('biggest', 9), ('recv', 9), ('cleanup', 9), ('dock', 9), ('reversed', 9), ('undo', 9), ('nsnumber', 9), ('purposes', 9), ('settext', 9), ('objectid', 9), ('props', 9), ('nas', 9), ('de', 9), ('strong', 9), ('pieces', 9), ('browserify', 9), ('predict', 9), ('documentready', 9), ('simplify', 9), ('vars', 9), ('monotouch', 9), ('robot', 9), ('isolate', 9), ('secondary', 9), ('repaint', 9), ('bindingsource', 9), ('half', 9), ('godaddy', 9), ('scratch', 9), ('whilst', 9), ('whitespaces', 9), ('crawling', 9), ('destroyed', 9), ('analog', 9), ('interceptor', 9), ('engines', 9), ('presentation', 9), ('expiration', 9), ('transitions', 9), ('inherits', 9), ('msg', 9), ('affects', 9), ('ngif', 9), ('lnk2019', 9), ('unpack', 9), ('become', 9), ('newtonsoftjson', 9), ('contour', 9), ('bridge', 9), ('automating', 9), ('ioerror', 9), ('keystore', 9), ('jruby', 9), ('dist', 9), ('seeing', 9), ('reconnect', 9), ('stringreplace', 9), ('size_t', 9), ('mistake', 9), ('moved', 9), ('hand', 9), ('reserved', 9), ('autowiring', 9), ('scoping', 9), ('crawl', 9), ('hhmm', 9), ('requesting', 9), ('rmarkdown', 9), ('clauses', 9), ('permgen', 9), ('leads', 9), ('interpret', 9), ('onblur', 9), ('warn', 9), ('behaving', 9), ('published', 9), ('filenotfoundexception', 9), ('linebreaks', 9), ('uitabbarcontroller', 9), ('nav', 9), ('commaseparated', 9), ('requirement', 9), ('follows', 9), ('compareto', 9), ('scrolls', 9), ('motion', 9), ('vista', 9), ('moment', 9), ('datarows', 9), ('arrayliststring', 9), ('prefer', 9), ('fosuserbundle', 9), ('technique', 9), ('vb6', 9), ('asterisks', 9), ('suggestion', 9), ('hint', 9), ('tablet', 9), ('behave', 9), ('cvmat', 9), ('drools', 9), ('ensuring', 9), ('concepts', 9), ('contract', 9), ('idiom', 9), ('talk', 9), ('rxjava', 9), ('xxxx', 9), ('rating', 9), ('exiting', 9), ('backcolor', 9), ('autoscroll', 9), ('phtml', 9), ('lifetime', 9), ('guaranteed', 9), ('subarray', 9), ('reusable', 9), ('jsfiddle', 9), ('71', 9), ('idiomatic', 9), ('defines', 9), ('squares', 9), ('ended', 9), ('javalangunsatisfiedlinkerror', 9), ('sums', 9), ('des', 9), ('early', 9), ('webstorm', 9), ('sklearn', 9), ('userid', 9), ('transactionscope', 9), ('fetched', 9), ('stdlist', 9), ('subqueries', 9), ('reject', 9), ('aligning', 9), ('strength', 9), ('move_uploaded_file', 9), ('intermediate', 9), ('mvc2', 9), ('dropdowns', 9), ('java8', 9), ('stores', 9), ('troubles', 9), ('benchmark', 9), ('springs', 9), ('ios8', 9), ('grep', 9), ('gap', 9), ('reads', 9), ('phase', 9), ('xx', 9), ('belong', 9), ('textfields', 9), ('form1', 9), ('uibarbuttonitem', 9), ('bundles', 9), ('basics', 9), ('aspectj', 9), ('dos', 9), ('111', 9), ('erb', 9), ('executereader', 9), ('form_for', 9), ('latin', 9), ('checkedlistbox', 9), ('playlist', 9), ('arg', 9), ('outgoing', 9), ('comparable', 9), ('compiletime', 9), ('quickest', 9), ('realloc', 9), ('networking', 9), ('minimal', 9), ('eliminate', 9), ('as3', 9), ('monday', 9), ('deny', 9), ('setattribute', 9), ('notebook', 9), ('dtype', 9), ('traversing', 9), ('mousedown', 9), ('disposing', 9), ('datasources', 9), ('triangles', 9), ('falls', 9), ('unterminated', 9), ('anywhere', 9), ('sides', 9), ('len', 9), ('selecteditem', 9), ('converts', 9), ('constructing', 8), ('suggest', 8), ('urlopen', 8), ('indirect', 8), ('323', 8), ('runserver', 8), ('reopen', 8), ('moves', 8), ('signing', 8), ('created_at', 8), ('di', 8), ('stage', 8), ('timers', 8), ('ie10', 8), ('106', 8), ('inmemory', 8), ('grant', 8), ('captcha', 8), ('firebird', 8), ('aurelia', 8), ('initialise', 8), ('distributed', 8), ('room', 8), ('0s', 8), ('gsub', 8), ('tbody', 8), ('servletcontext', 8), ('midnight', 8), ('puzzle', 8), ('couple', 8), ('scatterplot', 8), ('__dopostback', 8), ('mouseenter', 8), ('browsing', 8), ('setcookie', 8), ('prepend', 8), ('instant', 8), ('air', 8), ('restricting', 8), ('truncating', 8), ('str_replace', 8), ('purchase', 8), ('nsmanagedobject', 8), ('stays', 8), ('jquerymobile', 8), ('pane', 8), ('centered', 8), ('scenarios', 8), ('extremely', 8), ('freezing', 8), ('recognised', 8), ('volatile', 8), ('bigdecimal', 8), ('wise', 8), ('javalanginteger', 8), ('oncreate', 8), ('polynomial', 8), ('jobject', 8), ('instructions', 8), ('mongoclient', 8), ('opera', 8), ('securely', 8), ('pow', 8), ('superview', 8), ('blade', 8), ('connectivity', 8), ('paragraphs', 8), ('javanetconnectexception', 8), ('sun', 8), ('practise', 8), ('lwjgl', 8), ('joined', 8), ('checks', 8), ('boundaries', 8), ('cdi', 8), ('urllib', 8), ('succeeded', 8), ('windowsh', 8), ('decorators', 8), ('normalize', 8), ('simplexml_load_string', 8), ('ellipse', 8), ('503', 8), ('viewmodels', 8), ('sqlserver', 8), ('buffered', 8), ('tabbed', 8), ('datetimefield', 8), ('practical', 8), ('note', 8), ('matter', 8), ('parseint', 8), ('met', 8), ('pem', 8), ('301', 8), ('var_dump', 8), ('die', 8), ('jasperreport', 8), ('ashx', 8), ('runner', 8), ('programmatic', 8), ('defaults', 8), ('fall', 8), ('porting', 8), ('unescape', 8), ('pods', 8), ('picking', 8), ('endless', 8), ('dashes', 8), ('selectedvalue', 8), ('banner', 8), ('utf', 8), ('fontawesome', 8), ('twoway', 8), ('massive', 8), ('complicated', 8), ('cyrillic', 8), ('webrequest', 8), ('mysql_num_rows', 8), ('euler', 8), ('complement', 8), ('stringify', 8), ('basis', 8), ('inactivity', 8), ('viewdidload', 8), ('current_user', 8), ('subsets', 8), ('authenticating', 8), ('vowels', 8), ('monodevelop', 8), ('log4jxml', 8), ('read_csv', 8), ('killing', 8), ('logo', 8), ('million', 8), ('enhanced', 8), ('counts', 8), ('advance', 8), ('overwritten', 8), ('interacting', 8), ('popular', 8), ('keyerror', 8), ('soapclient', 8), ('otherwise', 8), ('paginate', 8), ('nsinteger', 8), ('hasmany', 8), ('colours', 8), ('precise', 8), ('uint8_t', 8), ('actionresult', 8), ('rightclick', 8), ('localtime', 8), ('configurations', 8), ('protection', 8), ('programmer', 8), ('reordering', 8), ('troubleshooting', 8), ('addclass', 8), ('exits', 8), ('often', 8), ('taskrun', 8), ('periodic', 8), ('proc', 8), ('developers', 8), ('struggling', 8), ('pound', 8), ('premature', 8), ('adjacent', 8), ('sqlparameter', 8), ('tweets', 8), ('interprocess', 8), ('depend', 8), ('mozilla', 8), ('groupbox', 8), ('subcategories', 8), ('uibuttons', 8), ('assume', 8), ('injected', 8), ('print_r', 8), ('catalog', 8), ('attempted', 8), ('roll', 8), ('autoload', 8), ('decoded', 8), ('tries', 8), ('flipping', 8), ('respective', 8), ('compiles', 8), ('expiry', 8), ('recommendations', 8), ('popups', 8), ('pushed', 8), ('datetimes', 8), ('executenonquery', 8), ('primaryexpression', 8), ('shipping', 8), ('selectedindexchanged', 8), ('routine', 8), ('pan', 8), ('daily', 8), ('viewed', 8), ('compressed', 8), ('110', 8), ('complains', 8), ('feedback', 8), ('recipient', 8), ('refuses', 8), ('findviewbyid', 8), ('xmlns', 8), ('appdelegate', 8), ('fashion', 8), ('books', 8), ('tapped', 8), ('feel', 8), ('publishing', 8), ('update_attributes', 8), ('weekends', 8), ('finger', 8), ('locating', 8), ('mocked', 8), ('cancellation', 8), ('executorservice', 8), ('xyz', 8), ('recipients', 8), ('viable', 8), ('inference', 8), ('quantity', 8), ('confusing', 8), ('compressing', 8), ('branch', 8), ('transforming', 8), ('stylesheets', 8), ('birth', 8), ('springsecurity', 8), ('saying', 8), ('cv', 8), ('capital', 8), ('poor', 8), ('money', 8), ('corresponds', 8), ('javalangruntimeexception', 8), ('hashmaps', 8), ('dim', 8), ('requestbody', 8), ('actionlink', 8), ('zurb', 8), ('standards', 8), ('fileoutputstream', 8), ('pod', 8), ('bigger', 8), ('transferred', 8), ('tdd', 8), ('listint', 8), ('systemint32', 8), ('keycode', 8), ('sphere', 8), ('workers', 8), ('weekly', 8), ('webpart', 8), ('student', 8), ('uuid', 8), ('rbind', 8), ('boxplot', 8), ('gcd', 8), ('crossthread', 8), ('spy', 8), ('fadeout', 8), ('tiles', 8), ('phones', 8), ('verifying', 8), ('difficulty', 8), ('technology', 8), ('jbuttons', 8), ('triple', 8), ('visited', 8), ('qt5', 8), ('goal', 8), ('toolbox', 8), ('sticky', 8), ('modalpopupextender', 8), ('unqualifiedid', 8), ('bubbling', 8), ('th', 8), ('mapstring', 8), ('javalangnumberformatexception', 8), ('differ', 8), ('stale', 8), ('drawimage', 8), ('quotation', 8), ('exponent', 8), ('socketexception', 8), ('deferred', 8), ('unnecessary', 8), ('articles', 8), ('mathround', 8), ('artifacts', 8), ('mvn', 8), ('far', 8), ('awesome', 7), ('programme', 7), ('modelsave', 7), ('messed', 7), ('listviewitem', 7), ('facebooks', 7), ('followers', 7), ('nslog', 7), ('255', 7), ('gaps', 7), ('mesh', 7), ('187', 7), ('sqldatasource', 7), ('dbnull', 7), ('semantic', 7), ('applicationproperties', 7), ('linqtoentities', 7), ('alphabetic', 7), ('defer', 7), ('mysqlsock', 7), ('scikit', 7), ('painting', 7), ('nonexistent', 7), ('stdthread', 7), ('cc', 7), ('life', 7), ('documentcreateelement', 7), ('splice', 7), ('endpoints', 7), ('redirect_uri', 7), ('javax', 7), ('createfile', 7), ('220', 7), ('sqlquery', 7), ('deck', 7), ('snow', 7), ('sublist', 7), ('preflight', 7), ('variadic', 7), ('l', 7), ('disallowed', 7), ('logistic', 7), ('gaussian', 7), ('retaining', 7), ('intranet', 7), ('itunes', 7), ('collapsible', 7), ('beginners', 7), ('raises', 7), ('sounds', 7), ('objectoriented', 7), ('_request', 7), ('differentiate', 7), ('fgets', 7), ('preload', 7), ('contentsize', 7), ('late', 7), ('nsthread', 7), ('merged', 7), ('mimetype', 7), ('discount', 7), ('initiate', 7), ('tabcontrol', 7), ('pinch', 7), ('caret', 7), ('codefirst', 7), ('continuewith', 7), ('sitemap', 7), ('simplexml_load_file', 7), ('hashtag', 7), ('nondefault', 7), ('stringcontains', 7), ('pylab', 7), ('edges', 7), ('mysql_real_escape_string', 7), ('openfiledialog', 7), ('subtype', 7), ('127', 7), ('concurrently', 7), ('textboxfor', 7), ('vendor', 7), ('finder', 7), ('extjs4', 7), ('redeclare', 7), ('derive', 7), ('piece', 7), ('cover', 7), ('javalangunsupportedclassversionerror', 7), ('minification', 7), ('mediaplayer', 7), ('minimized', 7), ('games', 7), ('delivery', 7), ('8601', 7), ('cumulative', 7), ('typeof', 7), ('push_back', 7), ('rubygem', 7), ('impact', 7), ('zipped', 7), ('uitabbar', 7), ('applicationcontext', 7), ('inputted', 7), ('chromes', 7), ('qwidget', 7), ('statically', 7), ('multibyte', 7), ('jcombobox', 7), ('raw_input', 7), ('visualstudio', 7), ('innertext', 7), ('0xc0000005', 7), ('formed', 7), ('localhost8080', 7), ('findby', 7), ('ifdef', 7), ('saves', 7), ('alphabets', 7), ('multiples', 7), ('cgridview', 7), ('normally', 7), ('referer', 7), ('multicolumn', 7), ('1054', 7), ('nongeneric', 7), ('typecasting', 7), ('r2', 7), ('static_cast', 7), ('javasqldate', 7), ('fx', 7), ('qpushbutton', 7), ('modifiers', 7), ('expires', 7), ('eventhandler', 7), ('androidviewinflateexception', 7), ('obtained', 7), ('bottleneck', 7), ('trusted', 7), ('ifstream', 7), ('listitem', 7), ('homework', 7), ('ca', 7), ('babel', 7), ('x11', 7), ('chef', 7), ('polygons', 7), ('mysql2error', 7), ('absolutely', 7), ('nethttp', 7), ('median', 7), ('recommendation', 7), ('localize', 7), ('skips', 7), ('unlimited', 7), ('conversions', 7)]\n"
     ]
    }
   ],
   "source": [
    "print(most_common_words)"
   ]
  },
  {
   "cell_type": "code",
   "execution_count": 76,
   "metadata": {},
   "outputs": [
    {
     "name": "stdout",
     "output_type": "stream",
     "text": [
      "[('javascript', 19078), ('c#', 19077), ('java', 18661)]\n"
     ]
    }
   ],
   "source": [
    "print(most_common_tags)"
   ]
  },
  {
   "cell_type": "markdown",
   "metadata": {
    "colab_type": "text",
    "id": "Xk7M4uJ_TF-8"
   },
   "source": [
    "## Task - 3 Transforming text to a vector (10 points)\n",
    "\n",
    "Machine Learning algorithms work with numeric data and we cannot use the provided text data \"as is\". There are many ways to transform text data to numeric vectors. In this task you will try to use two of them.\n",
    "\n",
    "#### Bag of words\n",
    "\n",
    "One of the well-known approaches is a *bag-of-words* representation. To create this transformation, follow the steps:\n",
    "1. Find *N* most popular words in train corpus and numerate them. Now we have a dictionary of the most popular words.\n",
    "2. For each title in the corpora create a zero vector with the dimension equals to *N*.\n",
    "3. For each text in the corpora iterate over words which are in the dictionary and increase by 1 the corresponding coordinate.\n",
    "\n",
    "Let's try to do it for a toy example. Imagine that we have *N* = 4 and the list of the most popular words is \n",
    "\n",
    "    ['hi', 'you', 'me', 'are']\n",
    "\n",
    "Then we need to numerate them, for example, like this: \n",
    "\n",
    "    {'hi': 0, 'you': 1, 'me': 2, 'are': 3}\n",
    "\n",
    "And we have the text, which we want to transform to the vector:\n",
    "\n",
    "    'hi how are you'\n",
    "\n",
    "For this text we create a corresponding zero vector \n",
    "\n",
    "    [0, 0, 0, 0]\n",
    "    \n",
    "And iterate over all words, and if the word is in the dictionary, we increase the value of the corresponding position in the vector:\n",
    "\n",
    "    'hi':  [1, 0, 0, 0]\n",
    "    'how': [1, 0, 0, 0] # word 'how' is not in our dictionary\n",
    "    'are': [1, 0, 0, 1]\n",
    "    'you': [1, 1, 0, 1]\n",
    "\n",
    "The resulting vector will be \n",
    "\n",
    "    [1, 1, 0, 1]\n",
    "   \n",
    "Implement the described encoding in the function *my_bag_of_words* with the size of the dictionary equals to 5000. To find the most common words use train data. You can test your code using the function *test_my_bag_of_words*."
   ]
  },
  {
   "cell_type": "code",
   "execution_count": 32,
   "metadata": {
    "colab": {},
    "colab_type": "code",
    "id": "6ER1oq48TF-9"
   },
   "outputs": [],
   "source": [
    "DICT_SIZE = 5000\n",
    "most_common_words = sorted(words_counts.items(), key=lambda x: x[1], reverse=True)[:5000]\n",
    "WORDS_TO_INDEX = {}\n",
    "INDEX_TO_WORDS = {}\n",
    "ALL_WORDS = WORDS_TO_INDEX.keys()\n",
    "for i in range(0,5000):\n",
    "    WORDS_TO_INDEX[most_common_words[i][0]]=i  \n",
    "    INDEX_TO_WORDS[i]=most_common_words[i][0]\n",
    "\n",
    "\n",
    "def my_bag_of_words(text, words_to_index, dict_size): \n",
    "    result_vector = np.zeros(dict_size)\n",
    "    y=text.split(\" \")\n",
    "    for i in range(0,len(y)):\n",
    "        for key,value in words_to_index.items():\n",
    "            if y[i]==key:\n",
    "                result_vector[words_to_index[key]]=result_vector[words_to_index[key]]+1  \n",
    "    return result_vector"
   ]
  },
  {
   "cell_type": "code",
   "execution_count": 33,
   "metadata": {
    "colab": {},
    "colab_type": "code",
    "id": "qnLYWnsaTF_A"
   },
   "outputs": [],
   "source": [
    "def test_my_bag_of_words():\n",
    "    words_to_index = {'hi': 0, 'you': 1, 'me': 2, 'are': 3}\n",
    "    examples = ['hi how are you']\n",
    "    answers = [[1, 1, 0, 1]]\n",
    "    for ex, ans in zip(examples, answers):\n",
    "        if (my_bag_of_words(ex, words_to_index, 4) != ans).any():\n",
    "            return \"Wrong answer for the case: '%s'\" % ex\n",
    "    return 'Basic tests are passed.'"
   ]
  },
  {
   "cell_type": "markdown",
   "metadata": {
    "colab_type": "text",
    "id": "mOlSiUqEW3jD"
   },
   "source": [
    "Execute the test_text_prepare function <br>\n",
    "*<u>Note:</u> You should pass the above test to ensure BOW is working correctly!*"
   ]
  },
  {
   "cell_type": "code",
   "execution_count": 34,
   "metadata": {
    "colab": {},
    "colab_type": "code",
    "id": "cqWhoF24TF_D"
   },
   "outputs": [
    {
     "name": "stdout",
     "output_type": "stream",
     "text": [
      "Basic tests are passed.\n"
     ]
    }
   ],
   "source": [
    "print(test_my_bag_of_words())"
   ]
  },
  {
   "cell_type": "markdown",
   "metadata": {
    "colab_type": "text",
    "id": "BXW3ALCITF_H"
   },
   "source": [
    "Now apply the implemented function to all samples (this might take up to a minute):"
   ]
  },
  {
   "cell_type": "code",
   "execution_count": 35,
   "metadata": {
    "colab": {},
    "colab_type": "code",
    "id": "m39xHB2yTF_H"
   },
   "outputs": [],
   "source": [
    "from scipy import sparse as sp_sparse"
   ]
  },
  {
   "cell_type": "code",
   "execution_count": 36,
   "metadata": {
    "colab": {},
    "colab_type": "code",
    "id": "6DZwPWB1TF_K"
   },
   "outputs": [
    {
     "name": "stdout",
     "output_type": "stream",
     "text": [
      "X_train shape  (100000, 5000)\n",
      "X_val shape  (30000, 5000)\n",
      "X_test shape  (20000, 5000)\n"
     ]
    }
   ],
   "source": [
    "X_train_mybag = sp_sparse.vstack([sp_sparse.csr_matrix(my_bag_of_words(text, WORDS_TO_INDEX, DICT_SIZE)) for text in X_train])\n",
    "X_val_mybag = sp_sparse.vstack([sp_sparse.csr_matrix(my_bag_of_words(text, WORDS_TO_INDEX, DICT_SIZE)) for text in X_val])\n",
    "X_test_mybag = sp_sparse.vstack([sp_sparse.csr_matrix(my_bag_of_words(text, WORDS_TO_INDEX, DICT_SIZE)) for text in X_test])\n",
    "print('X_train shape ', X_train_mybag.shape)\n",
    "print('X_val shape ', X_val_mybag.shape)\n",
    "print('X_test shape ', X_test_mybag.shape)"
   ]
  },
  {
   "cell_type": "markdown",
   "metadata": {
    "colab_type": "text",
    "id": "WPXTUeNSTF_N"
   },
   "source": [
    "As you might notice, we transform the data to sparse representation, to store the useful information efficiently. There are many types: of such representations, however sklearn algorithms can work only with  csr matrix, so we will use this one.<br>\n",
    "<u>Documentations on sparse matrix:</u> <br>\n",
    "(https://docs.scipy.org/doc/scipy/reference/generated/scipy.sparse.csr_matrix.html#scipy.sparse.csr_matrix) \n",
    "(https://docs.scipy.org/doc/scipy/reference/sparse.html)\n",
    "\n"
   ]
  },
  {
   "cell_type": "markdown",
   "metadata": {
    "colab_type": "text",
    "id": "i8AMzsVxTF_Q"
   },
   "source": [
    "\n",
    "For the 11th row in *X_train_mybag* find how many non-zero elements it has. In this task the answer (variable *non_zero_elements_count*) should be a number, e.g. 20."
   ]
  },
  {
   "cell_type": "code",
   "execution_count": 37,
   "metadata": {
    "colab": {},
    "colab_type": "code",
    "id": "bOetzSLzTF_S"
   },
   "outputs": [
    {
     "name": "stdout",
     "output_type": "stream",
     "text": [
      "6\n"
     ]
    }
   ],
   "source": [
    "row = X_train_mybag[10].toarray()[0]\n",
    "non_zero_elements_count=0\n",
    "for i in range(0,5000):\n",
    "    if (row[i]==1):\n",
    "        non_zero_elements_count=non_zero_elements_count+1\n",
    "    \n",
    "\n",
    "print(non_zero_elements_count)"
   ]
  },
  {
   "cell_type": "markdown",
   "metadata": {
    "colab_type": "text",
    "id": "GYAFKGfKTF_V"
   },
   "source": [
    "## Task 4 - TF-IDF (5 points)\n",
    "\n",
    "The second approach extends the bag-of-words framework by taking into account total frequencies of words in the corpora. It helps to penalize too frequent words and provide better features space. \n",
    "\n",
    "Implement function *tfidf_features* using class  from *scikit-learn*. Use *train* corpus to train a vectorizer. Don't forget to take a look into the arguments that you can pass to it. We suggest that you filter out too rare words (occur less than in 5 titles) and too frequent words (occur more than in 90% of the titles). Also, use bigrams along with unigrams in your vocabulary. "
   ]
  },
  {
   "cell_type": "markdown",
   "metadata": {
    "colab_type": "text",
    "id": "1s3uEKmjYpuh"
   },
   "source": [
    "## Write a function which takes x_train, x_val and x_test as input and return the tf-idf features of the same and the vocabulary"
   ]
  },
  {
   "cell_type": "code",
   "execution_count": 43,
   "metadata": {
    "colab": {},
    "colab_type": "code",
    "id": "lkz1RYsBTF_Z"
   },
   "outputs": [],
   "source": [
    "from sklearn.feature_extraction.text import TfidfVectorizer\n",
    "\n"
   ]
  },
  {
   "cell_type": "code",
   "execution_count": 46,
   "metadata": {
    "colab": {},
    "colab_type": "code",
    "id": "o6V7FPirTF_i"
   },
   "outputs": [],
   "source": [
    "def tfidf_features(X_train, X_val, X_test):\n",
    "    \n",
    "    tfidf_vectorizer =  TfidfVectorizer(min_df=5,max_df=0.9,ngram_range=(1,2),token_pattern= '(\\S+)')\n",
    "    X_train=tfidf_vectorizer.fit_transform(X_train)\n",
    "    X_val=tfidf_vectorizer.transform(X_val)\n",
    "    X_test=tfidf_vectorizer.transform(X_test)\n",
    "    return X_train, X_val, X_test, tfidf_vectorizer.vocabulary_"
   ]
  },
  {
   "cell_type": "code",
   "execution_count": 47,
   "metadata": {
    "colab": {},
    "colab_type": "code",
    "id": "ySnV2zCBTF_p"
   },
   "outputs": [],
   "source": [
    "X_train_tfidf, X_val_tfidf, X_test_tfidf, tfidf_vocab = tfidf_features(X_train, X_val, X_test)\n",
    "tfidf_reversed_vocab = {i:word for word,i in tfidf_vocab.items()}"
   ]
  },
  {
   "cell_type": "markdown",
   "metadata": {
    "colab_type": "text",
    "id": "o_aopTTNL5G1"
   },
   "source": [
    "Print the index of string \"C#\" in the vocabulary"
   ]
  },
  {
   "cell_type": "code",
   "execution_count": 78,
   "metadata": {
    "colab": {},
    "colab_type": "code",
    "id": "kZ-3wqTTMCRi"
   },
   "outputs": [
    {
     "name": "stdout",
     "output_type": "stream",
     "text": [
      "1879\n"
     ]
    }
   ],
   "source": [
    "print(tfidf_vocab.get('c#'))"
   ]
  },
  {
   "cell_type": "markdown",
   "metadata": {
    "colab_type": "text",
    "id": "ZYYO2kdiTF_6"
   },
   "source": [
    "## Task 5: Classification (15 points)\n",
    "MultiLabel classifier\n",
    "\n",
    "As we have noticed before, in this task each example can have multiple tags. To deal with such kind of prediction, we need to transform labels in a binary form and the prediction will be a mask of 0s and 1s. For this purpose it is convenient to use MultiLabelBinarizer from sklearn. <br>\n",
    "<u>Documentation:</u> <br>\n",
    "http://scikit-learn.org/stable/modules/generated/sklearn.preprocessing.MultiLabelBinarizer.html"
   ]
  },
  {
   "cell_type": "code",
   "execution_count": 48,
   "metadata": {
    "colab": {},
    "colab_type": "code",
    "id": "ojeCe_e_TF_7"
   },
   "outputs": [],
   "source": [
    "from sklearn.preprocessing import MultiLabelBinarizer"
   ]
  },
  {
   "cell_type": "code",
   "execution_count": 49,
   "metadata": {
    "colab": {},
    "colab_type": "code",
    "id": "p8JYQr8YTF_-"
   },
   "outputs": [],
   "source": [
    "mlb = MultiLabelBinarizer(classes=sorted(tags_counts.keys()))\n",
    "y_train = mlb.fit_transform(y_train)\n",
    "y_val = mlb.fit_transform(y_val)"
   ]
  },
  {
   "cell_type": "markdown",
   "metadata": {
    "colab_type": "text",
    "id": "qN1NUA3DTGAB"
   },
   "source": [
    "In this task we suggest to use One-vs-Rest approach, which is implemented in [OneVsRestClassifier](http://scikit-learn.org/stable/modules/generated/sklearn.multiclass.OneVsRestClassifier.html) class. In this approach *k* classifiers (= number of tags) are trained. As a basic classifier, use [LogisticRegression](http://scikit-learn.org/stable/modules/generated/sklearn.linear_model.LogisticRegression.html). It is one of the simplest methods, but often it performs good enough in text classification tasks. It might take some time, because a number of classifiers to train is large.\n",
    "\n",
    "**OneVsRest multi-label strategy**\n",
    "\n",
    "The Multi-label algorithm accepts a binary mask over multiple labels. The result for each prediction will be an array of 0s and 1s marking which class labels apply to each row input sample.\n",
    "\n",
    "**Logistic Regression & SVM**\n",
    "\n",
    "OneVsRest strategy can be used for multi-label learning, where a classifier is used to predict multiple labels for instance. LR & SVM supports multi-class, but we are in a multi-label scenario, therefore, we wrap classifiers in the OneVsRestClassifier.\n",
    "\n",
    "*If you want to learn more about OneVsRest, check out these links:*\n",
    "- *https://towardsdatascience.com/multi-label-text-classification-with-scikit-learn-30714b7819c5*\n",
    "- *https://towardsdatascience.com/journey-to-the-center-of-multi-label-classification-384c40229bff*\n",
    "- *https://medium.com/coinmonks/multi-label-classification-blog-tags-prediction-using-nlp-b0b5ee6686fc*"
   ]
  },
  {
   "cell_type": "code",
   "execution_count": 50,
   "metadata": {
    "colab": {},
    "colab_type": "code",
    "id": "2Pj6MDkbTGAC"
   },
   "outputs": [],
   "source": [
    "from sklearn.multiclass import OneVsRestClassifier\n",
    "from sklearn.linear_model import LogisticRegression\n",
    "from sklearn.svm import SVC, LinearSVC"
   ]
  },
  {
   "cell_type": "code",
   "execution_count": 51,
   "metadata": {
    "colab": {},
    "colab_type": "code",
    "id": "eUHZR2TWTGAF"
   },
   "outputs": [],
   "source": [
    "def train_classifier(X_train, y_train):\n",
    "    clf=OneVsRestClassifier(LogisticRegression()).fit(X_train,y_train)\n",
    "    return clf  ### clf is the model"
   ]
  },
  {
   "cell_type": "code",
   "execution_count": 52,
   "metadata": {},
   "outputs": [
    {
     "name": "stdout",
     "output_type": "stream",
     "text": [
      "X_test_tfidf  (20000, 18300)\n",
      "X_val_tfidf  (30000, 18300)\n"
     ]
    }
   ],
   "source": [
    "print('X_test_tfidf ', X_test_tfidf.shape) \n",
    "print('X_val_tfidf ',X_val_tfidf.shape)"
   ]
  },
  {
   "cell_type": "markdown",
   "metadata": {
    "colab_type": "text",
    "id": "k660NfRFTGAL"
   },
   "source": [
    "Train the classifiers for different data transformations: *bag-of-words* and *tf-idf*.\n",
    "classifier_mybag = model for "
   ]
  },
  {
   "cell_type": "code",
   "execution_count": 53,
   "metadata": {
    "colab": {},
    "colab_type": "code",
    "id": "jXyhN-yDTGAP"
   },
   "outputs": [],
   "source": [
    "classifier_mybag = train_classifier(X_train_mybag, y_train)\n",
    "classifier_tfidf = train_classifier(X_train_tfidf, y_train)"
   ]
  },
  {
   "cell_type": "markdown",
   "metadata": {
    "colab_type": "text",
    "id": "ijQZCd9cTGAU"
   },
   "source": [
    "Now you can create predictions for the data. You will need two types of predictions: labels and scores."
   ]
  },
  {
   "cell_type": "code",
   "execution_count": 54,
   "metadata": {
    "colab": {},
    "colab_type": "code",
    "id": "0QT7uWddTGAV"
   },
   "outputs": [],
   "source": [
    "y_val_predicted_labels_mybag = classifier_mybag.predict(X_val_mybag)\n",
    "y_val_predicted_scores_mybag = classifier_mybag.decision_function(X_val_mybag)\n",
    "\n",
    "y_val_predicted_labels_tfidf = classifier_tfidf.predict(X_val_tfidf)\n",
    "y_val_predicted_scores_tfidf = classifier_tfidf.decision_function(X_val_tfidf)"
   ]
  },
  {
   "cell_type": "code",
   "execution_count": 56,
   "metadata": {},
   "outputs": [
    {
     "name": "stdout",
     "output_type": "stream",
     "text": [
      "Title:\todbc_exec always fail\n",
      "True labels:\tphp,sql\n",
      "Predicted labels:\t\n",
      "\n",
      "\n",
      "Title:\taccess base classes variable within child class\n",
      "True labels:\tjavascript\n",
      "Predicted labels:\t\n",
      "\n",
      "\n",
      "Title:\tcontenttype application json required rails\n",
      "True labels:\truby,ruby-on-rails\n",
      "Predicted labels:\tjson,ruby-on-rails\n",
      "\n",
      "\n",
      "Title:\tsessions sinatra used pass variable\n",
      "True labels:\truby,session\n",
      "Predicted labels:\t\n",
      "\n",
      "\n",
      "Title:\tgetting error type json exist postgresql rake db migrate\n",
      "True labels:\tjson,ruby,ruby-on-rails\n",
      "Predicted labels:\truby-on-rails\n",
      "\n",
      "\n",
      "Title:\tlibrary found\n",
      "True labels:\tc++,ios,iphone,xcode\n",
      "Predicted labels:\t\n",
      "\n",
      "\n",
      "Title:\tcsproj file programmatic adding deleting files\n",
      "True labels:\tc#\n",
      "Predicted labels:\t\n",
      "\n",
      "\n",
      "Title:\ttypeerror makedirs got unexpected keyword argument exists_ok\n",
      "True labels:\tdjango,python\n",
      "Predicted labels:\tpython\n",
      "\n",
      "\n",
      "Title:\tpan div using jquery\n",
      "True labels:\thtml,javascript,jquery\n",
      "Predicted labels:\tjavascript,jquery\n",
      "\n",
      "\n",
      "Title:\thibernate intermediate advanced tutorials\n",
      "True labels:\thibernate,java\n",
      "Predicted labels:\thibernate,java\n",
      "\n",
      "\n",
      "Title:\tc# properties access values another function class\n",
      "True labels:\t.net,c#,class\n",
      "Predicted labels:\tc#\n",
      "\n",
      "\n",
      "Title:\tuse databinding 3d elements like visual3d uielement3d\n",
      "True labels:\tc#,wpf\n",
      "Predicted labels:\t\n",
      "\n",
      "\n",
      "Title:\tcheck video exists youtube using php\n",
      "True labels:\tphp\n",
      "Predicted labels:\tphp\n",
      "\n",
      "\n",
      "Title:\thandle mouse dragging event jfreechart\n",
      "True labels:\tjava\n",
      "Predicted labels:\t\n",
      "\n",
      "\n",
      "Title:\tdynamic data matrix wpf\n",
      "True labels:\tc#,wpf\n",
      "Predicted labels:\tc#,wpf\n",
      "\n",
      "\n",
      "Title:\twpf button external background image\n",
      "True labels:\tc#,wpf\n",
      "Predicted labels:\tc#,wpf\n",
      "\n",
      "\n",
      "Title:\tisdigit rational numbers\n",
      "True labels:\tpython,string\n",
      "Predicted labels:\t\n",
      "\n",
      "\n",
      "Title:\tmake clicked tab active bootstrap\n",
      "True labels:\tdjango,twitter-bootstrap\n",
      "Predicted labels:\thtml,javascript,jquery,twitter-bootstrap\n",
      "\n",
      "\n",
      "Title:\tunable load class comgooglegsonjsonobject\n",
      "True labels:\tandroid,java\n",
      "Predicted labels:\t\n",
      "\n",
      "\n",
      "Title:\tdetermine string valid float value\n",
      "True labels:\truby,ruby-on-rails\n",
      "Predicted labels:\t\n",
      "\n",
      "\n"
     ]
    }
   ],
   "source": [
    "y_val_pred_inversed = mlb.inverse_transform(y_val_predicted_labels_tfidf) \n",
    "y_val_inversed = mlb.inverse_transform(y_val)\n",
    "for i in range(20):\n",
    "    print('Title:\\t{}\\nTrue labels:\\t{}\\nPredicted labels:\\t{}\\n\\n'.format(\n",
    "        X_val[i],\n",
    "        ','.join(y_val_inversed[i]),\n",
    "        ','.join(y_val_pred_inversed[i])\n",
    "    ))"
   ]
  },
  {
   "cell_type": "markdown",
   "metadata": {
    "colab_type": "text",
    "id": "p9n0TEtHTGAj"
   },
   "source": [
    "Now, we would need to compare the results of different predictions, e.g. to see whether TF-IDF transformation helps or to try different regularization techniques in logistic regression. For all these experiments, we need to setup evaluation procedure. "
   ]
  },
  {
   "cell_type": "markdown",
   "metadata": {
    "colab_type": "text",
    "id": "RVqAxDxqTGAk"
   },
   "source": [
    "## Evaluation (10 points)\n",
    "\n",
    "To evaluate the results we will use several classification metrics:\n",
    " - [Accuracy](http://scikit-learn.org/stable/modules/generated/sklearn.metrics.accuracy_score.html)\n",
    " - [F1-score](http://scikit-learn.org/stable/modules/generated/sklearn.metrics.f1_score.html)\n",
    " - [Area under ROC-curve](http://scikit-learn.org/stable/modules/generated/sklearn.metrics.roc_auc_score.html)\n",
    " - [Area under precision-recall curve](http://scikit-learn.org/stable/modules/generated/sklearn.metrics.average_precision_score.html#sklearn.metrics.average_precision_score) \n",
    " \n",
    "Make sure you are familiar with all of them. If you want a refresher, you can click the link to their documentation"
   ]
  },
  {
   "cell_type": "markdown",
   "metadata": {
    "colab_type": "text",
    "id": "_YmNhVsU9K9-"
   },
   "source": [
    "## Import the necessary libraries for the above metrics"
   ]
  },
  {
   "cell_type": "code",
   "execution_count": 57,
   "metadata": {
    "colab": {},
    "colab_type": "code",
    "id": "tBvrkOUYTGAl"
   },
   "outputs": [],
   "source": [
    "from sklearn.metrics import accuracy_score\n",
    "from sklearn.metrics import f1_score\n",
    "from sklearn.metrics import roc_auc_score \n",
    "from sklearn.metrics import average_precision_score\n",
    "from sklearn.metrics import recall_score\n"
   ]
  },
  {
   "cell_type": "markdown",
   "metadata": {
    "colab_type": "text",
    "id": "vNkYBl_wTGAp"
   },
   "source": [
    "Define the function *print_evaluation_scores* which takes y_val and predicted as input calculates and prints the following output:\n",
    " - *accuracy*\n",
    " - *F1-score - Average = 'weighted'* \n",
    " - *Precision - Average = 'macro'*"
   ]
  },
  {
   "cell_type": "code",
   "execution_count": 58,
   "metadata": {
    "colab": {},
    "colab_type": "code",
    "id": "-4nevWnhTGAq"
   },
   "outputs": [],
   "source": [
    "def print_evaluation_scores(y_val, predicted):\n",
    "    accuracy=accuracy_score(y_val, predicted)\n",
    "    f1_score_macro=f1_score(y_val, predicted, average='macro')\n",
    "    f1_score_micro=f1_score(y_val, predicted, average='micro')\n",
    "    f1_score_weighted=f1_score(y_val, predicted, average='weighted')\n",
    "    precision_macro=average_precision_score(y_val, predicted, average='macro')\n",
    "    precision_micro=average_precision_score(y_val, predicted, average='micro')\n",
    "    precision_weighted=average_precision_score(y_val, predicted, average='weighted')\n",
    "    print(accuracy,f1_score_macro,f1_score_micro,f1_score_weighted,precision_macro,precision_micro,precision_weighted)\n"
   ]
  },
  {
   "cell_type": "code",
   "execution_count": 59,
   "metadata": {
    "colab": {},
    "colab_type": "code",
    "id": "G92GIO4dTGAt"
   },
   "outputs": [
    {
     "name": "stdout",
     "output_type": "stream",
     "text": [
      "Bag-of-words\n",
      "0.3389666666666667 0.5008700512724346 0.6544208562985938 0.6321146923775999 0.34033461604939774 0.46045289629713476 0.49213486171257026\n",
      "Tfidf\n",
      "0.3339666666666667 0.44571798903055987 0.641831238779174 0.614374123945813 0.30203873557248717 0.45700499415140816 0.48511300507698935\n"
     ]
    }
   ],
   "source": [
    "print('Bag-of-words')\n",
    "print_evaluation_scores(y_val, y_val_predicted_labels_mybag)\n",
    "print('Tfidf')\n",
    "print_evaluation_scores(y_val, y_val_predicted_labels_tfidf)"
   ]
  },
  {
   "cell_type": "markdown",
   "metadata": {
    "colab_type": "text",
    "id": "kT7oso8ZTGAv"
   },
   "source": [
    "You might also want to plot some form of the [ROC curve](http://scikit-learn.org/stable/modules/model_evaluation.html#receiver-operating-characteristic-roc) for the case of multi-label classification. The input parameters for the roc curve are:\n",
    " - true labels\n",
    " - decision functions scores\n",
    " - number of classes"
   ]
  },
  {
   "cell_type": "markdown",
   "metadata": {
    "colab_type": "text",
    "id": "x4hbW3SeBVxz"
   },
   "source": [
    "Import the roc_auc function from the metrics.py file provided"
   ]
  },
  {
   "cell_type": "code",
   "execution_count": 65,
   "metadata": {
    "colab": {},
    "colab_type": "code",
    "id": "G_9M0AI4TGAv"
   },
   "outputs": [],
   "source": [
    "from metrics import roc_auc\n",
    "get_ipython().run_line_magic('matplotlib', 'inline')\n"
   ]
  },
  {
   "cell_type": "code",
   "execution_count": 66,
   "metadata": {
    "colab": {},
    "colab_type": "code",
    "id": "sZaymN4uTGA0"
   },
   "outputs": [
    {
     "data": {
      "image/png": "[encoded data removed]",
      "text/plain": [
       "<Figure size 432x288 with 1 Axes>"
      ]
     },
     "metadata": {},
     "output_type": "display_data"
    }
   ],
   "source": [
    "n_classes = len(tags_counts)\n",
    "roc_auc(y_val, y_val_predicted_scores_mybag, n_classes)\n"
   ]
  },
  {
   "cell_type": "code",
   "execution_count": 67,
   "metadata": {
    "colab": {},
    "colab_type": "code",
    "id": "XwNpUEVLTGA2"
   },
   "outputs": [
    {
     "data": {
      "image/png": "[encoded data removed]",
      "text/plain": [
       "<Figure size 432x288 with 1 Axes>"
      ]
     },
     "metadata": {},
     "output_type": "display_data"
    }
   ],
   "source": [
    "n_classes = len(tags_counts)\n",
    "roc_auc(y_val, y_val_predicted_scores_tfidf, n_classes)"
   ]
  },
  {
   "cell_type": "markdown",
   "metadata": {
    "colab_type": "text",
    "id": "9S3Ddz7LTGA3"
   },
   "source": [
    "## Task 4 (MultilabelClassification) - Optional \n",
    "** Once we have the evaluation set up, we suggest that you experiment a bit with training your classifiers. We will use *F1-score weighted* as an evaluation metric. Our recommendation:\n",
    "- compare the quality of the bag-of-words and TF-IDF approaches and chose one of them.\n",
    "- for the chosen one, try *L1* and *L2*-regularization techniques in Logistic Regression with different coefficients (e.g. C equal to 0.1, 1, 10, 100).\n",
    "\n"
   ]
  },
  {
   "cell_type": "code",
   "execution_count": 0,
   "metadata": {
    "colab": {},
    "colab_type": "code",
    "id": "Ers40KuOTGA4"
   },
   "outputs": [],
   "source": []
  },
  {
   "cell_type": "markdown",
   "metadata": {
    "colab_type": "text",
    "id": "mdqTO269TGA8"
   },
   "source": [
    "When you are happy with the quality, create predictions for *test* set."
   ]
  },
  {
   "cell_type": "code",
   "execution_count": 0,
   "metadata": {
    "colab": {},
    "colab_type": "code",
    "id": "M51F10f9TGBB"
   },
   "outputs": [],
   "source": []
  }
 ],
 "metadata": {
  "colab": {
   "collapsed_sections": [],
   "name": "Stats_NLP_Project_Questions.ipynb",
   "provenance": [],
   "version": "0.3.2"
  },
  "kernelspec": {
   "display_name": "Python 3",
   "language": "python",
   "name": "python3"
  },
  "language_info": {
   "codemirror_mode": {
    "name": "ipython",
    "version": 3
   },
   "file_extension": ".py",
   "mimetype": "text/x-python",
   "name": "python",
   "nbconvert_exporter": "python",
   "pygments_lexer": "ipython3",
   "version": "3.6.5"
  }
 },
 "nbformat": 4,
 "nbformat_minor": 1
}
